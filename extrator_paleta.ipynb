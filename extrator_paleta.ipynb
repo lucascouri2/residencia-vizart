{
 "cells": [
  {
   "cell_type": "markdown",
   "metadata": {},
   "source": [
    "# Extrator de paleta de cores"
   ]
  },
  {
   "cell_type": "code",
   "execution_count": 1,
   "metadata": {},
   "outputs": [],
   "source": [
    "from os import walk\n",
    "import pandas as pd\n",
    "import numpy as np\n",
    "from sklearn.cluster import KMeans\n",
    "from collections import Counter\n",
    "from scipy.cluster.vq import whiten\n",
    "from matplotlib import pyplot as plt\n",
    "from matplotlib import image as img\n",
    "import multiprocessing as mp\n",
    "import paleta_multiprocessing\n",
    "\n"
   ]
  },
  {
   "cell_type": "markdown",
   "metadata": {},
   "source": [
    "## 1. Encontrar arquivos para extrair paleta"
   ]
  },
  {
   "cell_type": "code",
   "execution_count": 2,
   "metadata": {},
   "outputs": [
    {
     "data": {
      "text/plain": [
       "[('dataset_artistas\\\\frida-kahlo\\\\1922\\\\184973.jpg', '184973'),\n",
       " ('dataset_artistas\\\\frida-kahlo\\\\1926\\\\184974.jpg', '184974'),\n",
       " ('dataset_artistas\\\\frida-kahlo\\\\1927\\\\184947.jpg', '184947'),\n",
       " ('dataset_artistas\\\\frida-kahlo\\\\1927\\\\184959.jpg', '184959'),\n",
       " ('dataset_artistas\\\\frida-kahlo\\\\1928\\\\184946.jpg', '184946'),\n",
       " ('dataset_artistas\\\\frida-kahlo\\\\1928\\\\184949.jpg', '184949'),\n",
       " ('dataset_artistas\\\\frida-kahlo\\\\1929\\\\184956.jpg', '184956'),\n",
       " ('dataset_artistas\\\\frida-kahlo\\\\1929\\\\184962.jpg', '184962'),\n",
       " ('dataset_artistas\\\\frida-kahlo\\\\1929\\\\184965.jpg', '184965'),\n",
       " ('dataset_artistas\\\\frida-kahlo\\\\1929\\\\185003.jpg', '185003'),\n",
       " ('dataset_artistas\\\\frida-kahlo\\\\1929\\\\185015.jpg', '185015'),\n",
       " ('dataset_artistas\\\\frida-kahlo\\\\1930\\\\184948.jpg', '184948'),\n",
       " ('dataset_artistas\\\\frida-kahlo\\\\1930\\\\184966.jpg', '184966'),\n",
       " ('dataset_artistas\\\\frida-kahlo\\\\1931\\\\184926.jpg', '184926'),\n",
       " ('dataset_artistas\\\\frida-kahlo\\\\1931\\\\184952.jpg', '184952'),\n",
       " ('dataset_artistas\\\\frida-kahlo\\\\1931\\\\184953.jpg', '184953'),\n",
       " ('dataset_artistas\\\\frida-kahlo\\\\1931\\\\184957.jpg', '184957'),\n",
       " ('dataset_artistas\\\\frida-kahlo\\\\1932\\\\184931.jpg', '184931'),\n",
       " ('dataset_artistas\\\\frida-kahlo\\\\1932\\\\184941.jpg', '184941'),\n",
       " ('dataset_artistas\\\\frida-kahlo\\\\1932\\\\184967.jpg', '184967'),\n",
       " ('dataset_artistas\\\\frida-kahlo\\\\1932\\\\9223372032559853728.jpg',\n",
       "  '9223372032559853728'),\n",
       " ('dataset_artistas\\\\frida-kahlo\\\\1933\\\\184942.jpg', '184942'),\n",
       " ('dataset_artistas\\\\frida-kahlo\\\\1933\\\\184964.jpg', '184964'),\n",
       " ('dataset_artistas\\\\frida-kahlo\\\\1933\\\\184977.jpg', '184977'),\n",
       " ('dataset_artistas\\\\frida-kahlo\\\\1935\\\\184919.jpg', '184919'),\n",
       " ('dataset_artistas\\\\frida-kahlo\\\\1935\\\\184983.jpg', '184983'),\n",
       " ('dataset_artistas\\\\frida-kahlo\\\\1936\\\\184943.jpg', '184943'),\n",
       " ('dataset_artistas\\\\frida-kahlo\\\\1937\\\\184929.jpg', '184929'),\n",
       " ('dataset_artistas\\\\frida-kahlo\\\\1937\\\\184937.jpg', '184937'),\n",
       " ('dataset_artistas\\\\frida-kahlo\\\\1937\\\\184939.jpg', '184939'),\n",
       " ('dataset_artistas\\\\frida-kahlo\\\\1937\\\\184944.jpg', '184944'),\n",
       " ('dataset_artistas\\\\frida-kahlo\\\\1937\\\\184950.jpg', '184950'),\n",
       " ('dataset_artistas\\\\frida-kahlo\\\\1937\\\\184970.jpg', '184970'),\n",
       " ('dataset_artistas\\\\frida-kahlo\\\\1937\\\\185004.jpg', '185004'),\n",
       " ('dataset_artistas\\\\frida-kahlo\\\\1938\\\\184925.jpg', '184925'),\n",
       " ('dataset_artistas\\\\frida-kahlo\\\\1938\\\\184928.jpg', '184928'),\n",
       " ('dataset_artistas\\\\frida-kahlo\\\\1938\\\\184930.jpg', '184930'),\n",
       " ('dataset_artistas\\\\frida-kahlo\\\\1938\\\\184932.jpg', '184932'),\n",
       " ('dataset_artistas\\\\frida-kahlo\\\\1938\\\\184945.jpg', '184945'),\n",
       " ('dataset_artistas\\\\frida-kahlo\\\\1938\\\\184976.jpg', '184976'),\n",
       " ('dataset_artistas\\\\frida-kahlo\\\\1938\\\\184978.jpg', '184978'),\n",
       " ('dataset_artistas\\\\frida-kahlo\\\\1938\\\\185008.jpg', '185008'),\n",
       " ('dataset_artistas\\\\frida-kahlo\\\\1938\\\\185013.jpg', '185013'),\n",
       " ('dataset_artistas\\\\frida-kahlo\\\\1938\\\\185018.jpg', '185018'),\n",
       " ('dataset_artistas\\\\frida-kahlo\\\\1939\\\\185009.jpg', '185009'),\n",
       " ('dataset_artistas\\\\frida-kahlo\\\\1939\\\\185014.jpg', '185014'),\n",
       " ('dataset_artistas\\\\frida-kahlo\\\\1940\\\\184969.jpg', '184969'),\n",
       " ('dataset_artistas\\\\frida-kahlo\\\\1940\\\\184971.jpg', '184971'),\n",
       " ('dataset_artistas\\\\frida-kahlo\\\\1940\\\\184982.jpg', '184982'),\n",
       " ('dataset_artistas\\\\frida-kahlo\\\\1940\\\\184985.jpg', '184985'),\n",
       " ('dataset_artistas\\\\frida-kahlo\\\\1940\\\\184989.jpg', '184989'),\n",
       " ('dataset_artistas\\\\frida-kahlo\\\\1940\\\\185005.jpg', '185005'),\n",
       " ('dataset_artistas\\\\frida-kahlo\\\\1941\\\\184938.jpg', '184938'),\n",
       " ('dataset_artistas\\\\frida-kahlo\\\\1941\\\\184975.jpg', '184975'),\n",
       " ('dataset_artistas\\\\frida-kahlo\\\\1941\\\\184980.jpg', '184980'),\n",
       " ('dataset_artistas\\\\frida-kahlo\\\\1941\\\\184981.jpg', '184981'),\n",
       " ('dataset_artistas\\\\frida-kahlo\\\\1942\\\\184955.jpg', '184955'),\n",
       " ('dataset_artistas\\\\frida-kahlo\\\\1942\\\\184958.jpg', '184958'),\n",
       " ('dataset_artistas\\\\frida-kahlo\\\\1942\\\\184986.jpg', '184986'),\n",
       " ('dataset_artistas\\\\frida-kahlo\\\\1942\\\\184994.jpg', '184994'),\n",
       " ('dataset_artistas\\\\frida-kahlo\\\\1943\\\\184924.jpg', '184924'),\n",
       " ('dataset_artistas\\\\frida-kahlo\\\\1943\\\\184961.jpg', '184961'),\n",
       " ('dataset_artistas\\\\frida-kahlo\\\\1943\\\\184963.jpg', '184963'),\n",
       " ('dataset_artistas\\\\frida-kahlo\\\\1943\\\\184968.jpg', '184968'),\n",
       " ('dataset_artistas\\\\frida-kahlo\\\\1943\\\\184988.jpg', '184988'),\n",
       " ('dataset_artistas\\\\frida-kahlo\\\\1943\\\\185001.jpg', '185001'),\n",
       " ('dataset_artistas\\\\frida-kahlo\\\\1943\\\\185011.jpg', '185011'),\n",
       " ('dataset_artistas\\\\frida-kahlo\\\\1944\\\\184922.jpg', '184922'),\n",
       " ('dataset_artistas\\\\frida-kahlo\\\\1944\\\\184951.jpg', '184951'),\n",
       " ('dataset_artistas\\\\frida-kahlo\\\\1944\\\\185002.jpg', '185002'),\n",
       " ('dataset_artistas\\\\frida-kahlo\\\\1945\\\\184933.jpg', '184933'),\n",
       " ('dataset_artistas\\\\frida-kahlo\\\\1945\\\\184935.jpg', '184935'),\n",
       " ('dataset_artistas\\\\frida-kahlo\\\\1945\\\\184940.jpg', '184940'),\n",
       " ('dataset_artistas\\\\frida-kahlo\\\\1945\\\\184990.jpg', '184990'),\n",
       " ('dataset_artistas\\\\frida-kahlo\\\\1945\\\\185007.jpg', '185007'),\n",
       " ('dataset_artistas\\\\frida-kahlo\\\\1945\\\\185019.jpg', '185019'),\n",
       " ('dataset_artistas\\\\frida-kahlo\\\\1946\\\\185010.jpg', '185010'),\n",
       " ('dataset_artistas\\\\frida-kahlo\\\\1946\\\\185012.jpg', '185012'),\n",
       " ('dataset_artistas\\\\frida-kahlo\\\\1947\\\\184984.jpg', '184984'),\n",
       " ('dataset_artistas\\\\frida-kahlo\\\\1947\\\\185000.jpg', '185000'),\n",
       " ('dataset_artistas\\\\frida-kahlo\\\\1948\\\\184972.jpg', '184972'),\n",
       " ('dataset_artistas\\\\frida-kahlo\\\\1949\\\\184923.jpg', '184923'),\n",
       " ('dataset_artistas\\\\frida-kahlo\\\\1949\\\\185006.jpg', '185006'),\n",
       " ('dataset_artistas\\\\frida-kahlo\\\\1951\\\\184920.jpg', '184920'),\n",
       " ('dataset_artistas\\\\frida-kahlo\\\\1951\\\\184960.jpg', '184960'),\n",
       " ('dataset_artistas\\\\frida-kahlo\\\\1951\\\\184992.jpg', '184992'),\n",
       " ('dataset_artistas\\\\frida-kahlo\\\\1951\\\\184993.jpg', '184993'),\n",
       " ('dataset_artistas\\\\frida-kahlo\\\\1951\\\\184995.jpg', '184995'),\n",
       " ('dataset_artistas\\\\frida-kahlo\\\\1951\\\\184998.jpg', '184998'),\n",
       " ('dataset_artistas\\\\frida-kahlo\\\\1951\\\\185017.jpg', '185017'),\n",
       " ('dataset_artistas\\\\frida-kahlo\\\\1952\\\\184921.jpg', '184921'),\n",
       " ('dataset_artistas\\\\frida-kahlo\\\\1952\\\\184934.jpg', '184934'),\n",
       " ('dataset_artistas\\\\frida-kahlo\\\\1953\\\\184927.jpg', '184927'),\n",
       " ('dataset_artistas\\\\frida-kahlo\\\\1953\\\\184999.jpg', '184999'),\n",
       " ('dataset_artistas\\\\frida-kahlo\\\\1954\\\\184936.jpg', '184936'),\n",
       " ('dataset_artistas\\\\frida-kahlo\\\\1954\\\\184954.jpg', '184954'),\n",
       " ('dataset_artistas\\\\frida-kahlo\\\\1954\\\\184979.jpg', '184979'),\n",
       " ('dataset_artistas\\\\frida-kahlo\\\\1954\\\\184991.jpg', '184991'),\n",
       " ('dataset_artistas\\\\frida-kahlo\\\\1954\\\\184996.jpg', '184996'),\n",
       " ('dataset_artistas\\\\frida-kahlo\\\\1954\\\\185016.jpg', '185016')]"
      ]
     },
     "execution_count": 2,
     "metadata": {},
     "output_type": "execute_result"
    }
   ],
   "source": [
    "# artistName = 'frida-kahlo'\n",
    "# folderName = 'dataset_artistas/' + artistName\n",
    "folderName = 'dataset_artistas\\\\frida-kahlo'\n",
    "# folderName = 'dataset_artistas\\\\andy-warhol\\\\1960'\n",
    "\n",
    "fileList = []\n",
    "for paths, dirs, files in walk(folderName):\n",
    "    for file in files:\n",
    "        if file.endswith(\".jpg\"):\n",
    "                id = os.path.splitext(file)[0]\n",
    "                fileList.append((os.path.join(paths, file), id))\n",
    "                # fileList.append(os.path.join(paths, file))\n",
    "\n",
    "fileList\n"
   ]
  },
  {
   "cell_type": "markdown",
   "metadata": {},
   "source": [
    "## 2. Extrair paleta"
   ]
  },
  {
   "cell_type": "code",
   "execution_count": null,
   "metadata": {},
   "outputs": [],
   "source": [
    "# Contar a dominancia de cada cor da paleta\n",
    "def dominaciaCores(labels):\n",
    "\n",
    "    counter = Counter(labels)\n",
    "    dominaceList = sorted([(i, counter[i] / len(labels) * 100.0) for i in counter])\n",
    "    return [i[1] for i in dominaceList ]"
   ]
  },
  {
   "cell_type": "code",
   "execution_count": null,
   "metadata": {},
   "outputs": [],
   "source": [
    "def extratorPaleta(filePath, id):\n",
    "\n",
    "    #Ler o arquivo de imagem\n",
    "    image = img.imread(filePath)\n",
    "\n",
    "    #Constroi dataframe de cores\n",
    "    df = pd.DataFrame()\n",
    "    df['r']=pd.Series(image[:,:,0].flatten())\n",
    "    df['g']=pd.Series(image[:,:,1].flatten())\n",
    "    df['b']=pd.Series(image[:,:,2].flatten())\n",
    "    df['r_whiten'] = whiten(df['r'])\n",
    "    df['g_whiten'] = whiten(df['g'])\n",
    "    df['b_whiten'] = whiten(df['b'])\n",
    "\n",
    "    kmeans = KMeans(n_clusters=5, random_state=0).fit(df[['r_whiten', 'g_whiten', 'b_whiten']])\n",
    "\n",
    "    cluster_centers = kmeans.cluster_centers_\n",
    "\n",
    "    r_std, g_std, b_std = df[['r', 'g', 'b']].std()\n",
    "    \n",
    "    #Calcula cores finais da paleta baseada no centroid do cluster\n",
    "    colors=[]\n",
    "    for color in cluster_centers:\n",
    "        sr, sg, sb = color\n",
    "        colors.append((int(sr*r_std), int(sg*g_std), int(sb*b_std)))\n",
    "\n",
    "    #Calcula o percentual de dominacia de cada cor\n",
    "    dominacia = dominaciaCores(kmeans.labels_)\n",
    "\n",
    "    return [id, colors, dominacia]\n"
   ]
  },
  {
   "cell_type": "code",
   "execution_count": null,
   "metadata": {},
   "outputs": [],
   "source": [
    "#Extraindo a paleta de cores de todos quadros\n",
    "\n",
    "dadosCores = []\n",
    "for item in fileList:\n",
    "    dadosCores.append(extratorPaleta(item[0], item[1]))\n",
    "\n",
    "dadosCores\n"
   ]
  },
  {
   "cell_type": "code",
   "execution_count": 3,
   "metadata": {},
   "outputs": [],
   "source": [
    "#Testando multiprocessing em python\n",
    "if __name__ == '__main__':\n",
    "\n",
    "    PROCESSES = 4\n",
    "    pool = mp.Pool(PROCESSES)\n",
    "    dadosCores = pool.starmap(paleta_multiprocessing.extratorPaleta, fileList)\n",
    "       \n",
    "\n",
    "    # process_pool = mp.Pool(3)\n",
    "    # data = [(1,3),(3,2),(4,6)]\n",
    "    # output = process_pool.starmap(paleta_multiprocessing.f_sum,data)\n",
    "    # output"
   ]
  },
  {
   "cell_type": "markdown",
   "metadata": {},
   "source": [
    "## 3. Salva em arquivo"
   ]
  },
  {
   "cell_type": "code",
   "execution_count": 4,
   "metadata": {},
   "outputs": [],
   "source": [
    "dfPaleta = pd.DataFrame(dadosCores, columns = ['contentId', 'paleta_rgb', 'paleta_dominancia'])\n",
    "dfPaleta\n",
    "dfPaleta.to_csv('paleta.csv', index=False)"
   ]
  },
  {
   "cell_type": "code",
   "execution_count": 9,
   "metadata": {},
   "outputs": [
    {
     "data": {
      "image/png": "[encoded data removed]",
      "text/plain": [
       "<Figure size 432x288 with 1 Axes>"
      ]
     },
     "metadata": {
      "needs_background": "light"
     },
     "output_type": "display_data"
    }
   ],
   "source": [
    "plt.imshow([dfPaleta['paleta_rgb'][0]])\n",
    "plt.show()\n",
    "\n",
    "\n"
   ]
  },
  {
   "cell_type": "code",
   "execution_count": 12,
   "metadata": {},
   "outputs": [
    {
     "data": {
      "image/png": "[encoded data removed]",
      "text/plain": [
       "<Figure size 432x288 with 1 Axes>"
      ]
     },
     "metadata": {
      "needs_background": "light"
     },
     "output_type": "display_data"
    }
   ],
   "source": [
    "plt.imshow([dfPaleta['paleta_rgb'][86]])\n",
    "plt.show()\n"
   ]
  },
  {
   "cell_type": "markdown",
   "metadata": {},
   "source": [
    "# Testes"
   ]
  },
  {
   "cell_type": "code",
   "execution_count": null,
   "metadata": {},
   "outputs": [],
   "source": [
    "dfList = []\n",
    "dfList.append(pd.read_json('dataset_artistas/andy-warhol.json', orient='records'))\n",
    "dfList.append(pd.read_json('dataset_artistas/frida-kahlo.json', orient='records'))\n",
    "dfList.append(pd.read_json('dataset_artistas/sandro-botticelli.json', orient='records'))\n",
    "dfList.append(pd.read_json('dataset_artistas/vincent-van-gogh.json', orient='records'))\n",
    "dfList.append(pd.read_json('dataset_artistas/pablo-picasso.json', orient='records'))\n",
    "\n",
    "df = pd.concat(dfList, ignore_index=True)\n",
    "# df.head()\n",
    "\n",
    "\n",
    "df[df.duplicated(['artistName'], keep=False)]\n"
   ]
  }
 ],
 "metadata": {
  "interpreter": {
   "hash": "4f91091a2c216d7f020340809eac835a163e4f74d3666d9c335e7876139edd14"
  },
  "kernelspec": {
   "display_name": "Python 3.9.7 64-bit ('base': conda)",
   "language": "python",
   "name": "python3"
  },
  "language_info": {
   "codemirror_mode": {
    "name": "ipython",
    "version": 3
   },
   "file_extension": ".py",
   "mimetype": "text/x-python",
   "name": "python",
   "nbconvert_exporter": "python",
   "pygments_lexer": "ipython3",
   "version": "3.9.7"
  },
  "orig_nbformat": 4
 },
 "nbformat": 4,
 "nbformat_minor": 2
}
