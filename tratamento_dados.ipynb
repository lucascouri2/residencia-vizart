{
 "cells": [
  {
   "cell_type": "markdown",
   "metadata": {},
   "source": [
    "# Testes"
   ]
  },
  {
   "cell_type": "code",
   "execution_count": null,
   "metadata": {},
   "outputs": [],
   "source": [
    "import pandas as pd\n",
    "import plotly_express as px\n",
    "import plotly.graph_objects as go"
   ]
  },
  {
   "cell_type": "code",
   "execution_count": null,
   "metadata": {},
   "outputs": [],
   "source": [
    "dfList = []\n",
    "dfList.append(pd.read_json('dataset_artistas/andy-warhol.json', orient='records'))\n",
    "dfList.append(pd.read_json('dataset_artistas/frida-kahlo.json', orient='records'))\n",
    "dfList.append(pd.read_json('dataset_artistas/sandro-botticelli.json', orient='records'))\n",
    "dfList.append(pd.read_json('dataset_artistas/vincent-van-gogh.json', orient='records'))\n",
    "dfList.append(pd.read_json('dataset_artistas/pablo-picasso.json', orient='records'))\n",
    "dfList.append(pd.read_json('dataset_artistas/piet-mondrian.json', orient='records'))\n",
    "\n",
    "df = pd.concat(dfList, ignore_index=True)\n",
    "# df.head()\n",
    "\n",
    "\n",
    "df[df.duplicated(['artistName'], keep=False)]\n"
   ]
  },
  {
   "cell_type": "code",
   "execution_count": null,
   "metadata": {},
   "outputs": [],
   "source": [
    "list(df.columns)"
   ]
  },
  {
   "cell_type": "code",
   "execution_count": null,
   "metadata": {},
   "outputs": [],
   "source": [
    "df['tags']"
   ]
  },
  {
   "cell_type": "code",
   "execution_count": null,
   "metadata": {},
   "outputs": [],
   "source": [
    "len(df[df['tags'].isna()])"
   ]
  },
  {
   "cell_type": "code",
   "execution_count": null,
   "metadata": {},
   "outputs": [],
   "source": [
    "len(df[df['completitionYear'].isna()])"
   ]
  },
  {
   "cell_type": "markdown",
   "metadata": {},
   "source": [
    "Tags mais populares:"
   ]
  },
  {
   "cell_type": "code",
   "execution_count": null,
   "metadata": {},
   "outputs": [],
   "source": [
    "df[df['tags'].notna()]['tags'].str.split(', ').apply(lambda x: pd.Series(x).value_counts()).sum().sort_values(ascending=False)[:20]"
   ]
  },
  {
   "cell_type": "code",
   "execution_count": null,
   "metadata": {},
   "outputs": [],
   "source": [
    "df[df['tags'].notna()]['tags'].str.split(', ').apply(lambda x: pd.Series(x).value_counts()).sum().sort_values(ascending=False)[:20]/len(df[df['tags'].notna()]['tags'])"
   ]
  },
  {
   "cell_type": "code",
   "execution_count": null,
   "metadata": {},
   "outputs": [],
   "source": [
    "df[df['artistName']=='Picasso Pablo']['tags'].str.split(', ').apply(lambda x: pd.Series(x, dtype=object).value_counts()).sum().sort_values(ascending=False)[:30]\n",
    "#female-portraits\n",
    "#female-nude\n",
    "#male-portraits\n",
    "#dishware-and-cutlery\n",
    "#animals\n",
    "#musical-instruments\n",
    "#allegories-and-symbols\n",
    "#famous-people\n",
    "#male-nude\n",
    "#Still life photography\n"
   ]
  },
  {
   "cell_type": "code",
   "execution_count": null,
   "metadata": {},
   "outputs": [],
   "source": [
    "df[df['artistName']=='Warhol Andy']['tags'].str.split(', ').apply(lambda x: pd.Series(x, dtype=object).value_counts()).sum().sort_values(ascending=False)[:30]\n",
    "#famous-people\n",
    "#male-portraits\n",
    "#female-portraits\n",
    "#posters-and-advertisements\n",
    "#designs-and-sketches\n",
    "#food-and-beverages\n",
    "#furniture-and-decoration \n",
    "#Mao-Zedong\n",
    "#Marilyn-Monroe\n",
    "#animals\n",
    "\n",
    "tags_warhol = ['famous-people', 'male-portraits', 'female-portraits', 'posters-and-advertisements', 'designs-and-sketches', 'food-and-beverages', 'furniture-and-decoration', 'Mao-Zedong', 'Marilyn-Monroe', 'animals']"
   ]
  },
  {
   "cell_type": "code",
   "execution_count": null,
   "metadata": {},
   "outputs": [],
   "source": [
    "df[df['artistName']=='Kahlo Frida ']['tags'].str.split(', ').apply(lambda x: pd.Series(x, dtype=object).value_counts()).sum().sort_values(ascending=False)[:30]\n",
    "#female-portraits\n",
    "#allegories-and-symbols\n",
    "#fruits-and-vegetables\n",
    "#animals\n",
    "#male-portraits\n",
    "#Still life photography\n",
    "#sun-and-moon\n",
    "#Mythology\n",
    "#disease-and-treatment\n",
    "#birth-and-death \n"
   ]
  },
  {
   "cell_type": "code",
   "execution_count": null,
   "metadata": {},
   "outputs": [],
   "source": [
    "df[df['artistName']=='Botticelli Sandro ']['tags'].str.split(', ').apply(lambda x: pd.Series(x, dtype=object).value_counts()).sum().sort_values(ascending=False)[:30]\n",
    "#Christianity\n",
    "#Virgin-and-Child\n",
    "#Mythology\n",
    "#Prophet\n",
    "#saints-and-apostles\n",
    "#angels-and-archangels\n",
    "#Holy places\n",
    "#Dante-Alighieri-\"The-Divine-Comedy\"\n",
    "#Jesus-Christ \n",
    "#male-portraits"
   ]
  },
  {
   "cell_type": "code",
   "execution_count": null,
   "metadata": {},
   "outputs": [],
   "source": [
    "df[df['artistName']=='van Gogh Vincent ']['tags'].str.split(', ').apply(lambda x: pd.Series(x, dtype=object).value_counts()).sum().sort_values(ascending=False)[:40]\n",
    "#countryside\n",
    "#male-portraits \n",
    "#fields-and-plains\n",
    "#female-portraits\n",
    "#gardens-and-parks\n",
    "#flowers-and-plants\n",
    "#forests-and-trees\n",
    "#Still life photography\n",
    "#cottages-and-farmhouses\n",
    "#domestic-settings"
   ]
  },
  {
   "cell_type": "code",
   "execution_count": null,
   "metadata": {},
   "outputs": [],
   "source": [
    "df[df['artistName']=='Mondrian Piet']['tags'].str.split(', ').apply(lambda x: pd.Series(x, dtype=object).value_counts()).sum().sort_values(ascending=False)[:40]\n",
    "#Line\n",
    "#forests-and-trees\n",
    "#Rectangle\n",
    "#rivers-and-waterfalls\n",
    "#houses-and-buildings\n",
    "#flowers-and-plants\n",
    "#mills-and-windmills\n",
    "#deserts-and-steppes\n",
    "#gates-and-towers\n",
    "#boats-and-ships\n"
   ]
  },
  {
   "cell_type": "code",
   "execution_count": null,
   "metadata": {},
   "outputs": [],
   "source": [
    "df['artistName'].value_counts()"
   ]
  },
  {
   "cell_type": "code",
   "execution_count": null,
   "metadata": {},
   "outputs": [],
   "source": [
    "df[df['artistName']=='Picasso Pablo']['tags'].str.split(', ').apply(lambda x: pd.Series(x, dtype=object).value_counts()).sum().sort_values(ascending=False)[:20]"
   ]
  },
  {
   "cell_type": "markdown",
   "metadata": {},
   "source": [
    "## Tags"
   ]
  },
  {
   "cell_type": "code",
   "execution_count": null,
   "metadata": {},
   "outputs": [],
   "source": [
    "dftags = df[df['tags'].notna()]['tags']\n",
    "#tags = dftags\n",
    "\n",
    "total_tags = []\n",
    "for linha in dftags:\n",
    "    tag = linha.split(\", \")\n",
    "    total_tags = total_tags+tag\n"
   ]
  },
  {
   "cell_type": "code",
   "execution_count": null,
   "metadata": {},
   "outputs": [],
   "source": [
    "#df['tags'][0].split(\", \")\n",
    "df['tags'][3].split(\", \")\n",
    "#df['tags'][3560].split(\", \")\n",
    "\n",
    "a =[]\n",
    "a+df['tags'][0].split(\", \")+df['tags'][3].split(\", \")+df['tags'][3560].split(\", \")+df['tags'][3560].split(\", \")"
   ]
  },
  {
   "cell_type": "markdown",
   "metadata": {},
   "source": [
    "## Testando pegar top5 por ano"
   ]
  },
  {
   "cell_type": "code",
   "execution_count": null,
   "metadata": {},
   "outputs": [],
   "source": [
    "dftop = df[df['tags'].notna()]#['tags']\n",
    "dftop = dftop[dftop['completitionYear'].notna()]\n",
    "dftop"
   ]
  },
  {
   "cell_type": "code",
   "execution_count": null,
   "metadata": {},
   "outputs": [],
   "source": [
    "df[df['artistName']=='Picasso Pablo']['tags'].str.split(', ').apply(lambda x: pd.Series(x, dtype=object).value_counts()).sum().sort_values(ascending=False)[:5].index.tolist()"
   ]
  },
  {
   "cell_type": "code",
   "execution_count": null,
   "metadata": {},
   "outputs": [],
   "source": [
    "df[df['artistName']=='Picasso Pablo']['tags'].str.split(', ').apply(lambda x: pd.Series(x, dtype=object).value_counts()).sum().sort_values(ascending=False)[:5].values.tolist()"
   ]
  },
  {
   "cell_type": "code",
   "execution_count": null,
   "metadata": {},
   "outputs": [],
   "source": [
    "#dftop[dftop['artistName']=='Picasso Pablo'].groupby('completitionYear').count()#.agg()#.sum('tags')"
   ]
  },
  {
   "cell_type": "code",
   "execution_count": null,
   "metadata": {},
   "outputs": [],
   "source": [
    "#df[df['tags'].notna()].groupby('artistName')['tags'].value_counts()"
   ]
  },
  {
   "cell_type": "markdown",
   "metadata": {},
   "source": [
    "### Pablo Picasso"
   ]
  },
  {
   "cell_type": "code",
   "execution_count": null,
   "metadata": {},
   "outputs": [],
   "source": [
    "anos_picasso = dftop[dftop['artistName']=='Picasso Pablo']['completitionYear'].unique()\n",
    "anos_picasso"
   ]
  },
  {
   "cell_type": "code",
   "execution_count": null,
   "metadata": {},
   "outputs": [],
   "source": [
    "dfpablo = dftop[dftop['artistName']=='Picasso Pablo']"
   ]
  },
  {
   "cell_type": "code",
   "execution_count": null,
   "metadata": {},
   "outputs": [],
   "source": [
    "lista_tags = []\n",
    "lista_freq = []\n",
    "lista_anos = []\n",
    "for ano in anos_picasso:\n",
    "    dfano = dfpablo[dfpablo['completitionYear']==ano]\n",
    "    tags5 = dfano['tags'].str.split(', ').apply(lambda x: pd.Series(x, dtype=object).value_counts()).sum().sort_values(ascending=False)[:5].index.tolist()\n",
    "    freq5 = dfano['tags'].str.split(', ').apply(lambda x: pd.Series(x, dtype=object).value_counts()).sum().sort_values(ascending=False)[:5].values.tolist()\n",
    "    if len(tags5)>=5:\n",
    "        lista_anos.append(ano)\n",
    "        lista_tags.append(tags5)\n",
    "        lista_freq.append(freq5)"
   ]
  },
  {
   "cell_type": "code",
   "execution_count": null,
   "metadata": {},
   "outputs": [],
   "source": [
    "lista_tags"
   ]
  },
  {
   "cell_type": "code",
   "execution_count": null,
   "metadata": {},
   "outputs": [],
   "source": [
    "lista_freq"
   ]
  },
  {
   "cell_type": "code",
   "execution_count": null,
   "metadata": {},
   "outputs": [],
   "source": [
    "lista_anos"
   ]
  },
  {
   "cell_type": "code",
   "execution_count": null,
   "metadata": {},
   "outputs": [],
   "source": [
    "dfpicasso = pd.DataFrame(list(zip(lista_anos, lista_tags, lista_freq)),\n",
    "              columns=['ano','tags', 'freq'])"
   ]
  },
  {
   "cell_type": "code",
   "execution_count": null,
   "metadata": {},
   "outputs": [],
   "source": [
    "dfpicasso.head()"
   ]
  },
  {
   "cell_type": "markdown",
   "metadata": {},
   "source": [
    "## Estilo"
   ]
  },
  {
   "cell_type": "code",
   "execution_count": null,
   "metadata": {},
   "outputs": [],
   "source": [
    "df[df['artistName']=='Picasso Pablo']['style'].str.split(', ').apply(lambda x: pd.Series(x, dtype=object).value_counts()).sum().sort_values(ascending=False)#[:20]\n",
    "#df['style'].value_counts()"
   ]
  },
  {
   "cell_type": "code",
   "execution_count": null,
   "metadata": {},
   "outputs": [],
   "source": [
    "df.groupby('artistName')['style'].value_counts()#.sum().sort_values(ascending=False)"
   ]
  },
  {
   "cell_type": "code",
   "execution_count": null,
   "metadata": {},
   "outputs": [],
   "source": [
    "df[df['artistName']=='Picasso Pablo']['style'].str.split(', ').apply(lambda x: pd.Series(x, dtype=object).value_counts()).sum().sort_values(ascending=False)#[:20]\n",
    "#df['style'].value_counts()"
   ]
  },
  {
   "cell_type": "markdown",
   "metadata": {},
   "source": [
    "## Genero"
   ]
  },
  {
   "cell_type": "code",
   "execution_count": null,
   "metadata": {},
   "outputs": [],
   "source": [
    "df['genre'].value_counts()"
   ]
  },
  {
   "cell_type": "code",
   "execution_count": null,
   "metadata": {},
   "outputs": [],
   "source": [
    "df.groupby('artistName')['genre'].count()#.sum().sort_values(ascending=False)"
   ]
  },
  {
   "cell_type": "markdown",
   "metadata": {},
   "source": [
    "## Frequencia 10 tags"
   ]
  },
  {
   "cell_type": "markdown",
   "metadata": {},
   "source": [
    "### Andy Warhol"
   ]
  },
  {
   "cell_type": "code",
   "execution_count": null,
   "metadata": {},
   "outputs": [],
   "source": [
    "df[df['artistName']=='Warhol Andy']['tags'].str.split(', ').apply(lambda x: pd.Series(x, dtype=object).value_counts()).sum().sort_values(ascending=False)[:30]\n",
    "#famous-people\n",
    "#male-portraits\n",
    "#female-portraits\n",
    "#posters-and-advertisements\n",
    "#designs-and-sketches\n",
    "#food-and-beverages\n",
    "#furniture-and-decoration \n",
    "#Mao-Zedong\n",
    "#Marilyn-Monroe\n",
    "#animals\n",
    "\n",
    "tags_warhol = ['famous-people', 'male-portraits', 'female-portraits', 'posters-and-advertisements', 'designs-and-sketches', 'food-and-beverages', 'furniture-and-decoration', 'Mao-Zedong', 'Marilyn-Monroe', 'animals']"
   ]
  },
  {
   "cell_type": "code",
   "execution_count": null,
   "metadata": {},
   "outputs": [],
   "source": [
    "artista = 'Warhol Andy'\n",
    "tags = tags_warhol"
   ]
  },
  {
   "cell_type": "code",
   "execution_count": null,
   "metadata": {},
   "outputs": [],
   "source": [
    "df[(df['artistName']==artista) & (df['completitionYear']==1955)]#['tags']"
   ]
  },
  {
   "cell_type": "code",
   "execution_count": null,
   "metadata": {},
   "outputs": [],
   "source": [
    "df_warhol = df[df['artistName']==artista]\n",
    "df_warhol = df_warhol[df_warhol['tags'].notna()]\n",
    "df_warhol = df_warhol[df_warhol['completitionYear'].notna()]\n",
    "anos_warhol = df_warhol[df_warhol['artistName']==artista]['completitionYear'].unique()\n",
    "anos_warhol"
   ]
  },
  {
   "cell_type": "code",
   "execution_count": null,
   "metadata": {},
   "outputs": [],
   "source": [
    "res_warhol = pd.DataFrame(columns = ['tag', 'freq', 'ano'])\n",
    "for ano in anos_warhol:\n",
    "    dfano = df_warhol[df_warhol['completitionYear']==ano]\n",
    "    tags_ano = dfano['tags'].str.split(', ').apply(lambda x: pd.Series(x, dtype=object).value_counts()).sum().rename_axis('tag').reset_index(name='freq')\n",
    "    tags_ano['ano'] = ano\n",
    "    res = tags_ano[tags_ano['tag'].isin(tags_warhol)]\n",
    "    #res['ano'] = ano\n",
    "    res_warhol = res_warhol.append(res)\n"
   ]
  },
  {
   "cell_type": "code",
   "execution_count": null,
   "metadata": {},
   "outputs": [],
   "source": [
    "res_warhol"
   ]
  },
  {
   "cell_type": "markdown",
   "metadata": {},
   "source": [
    "## Plotly"
   ]
  },
  {
   "cell_type": "code",
   "execution_count": null,
   "metadata": {},
   "outputs": [],
   "source": [
    "df2 = px.data.gapminder()\n",
    "fig = px.area(df2, x=\"year\", y=\"pop\", #color=\"continent\",\n",
    "\t      line_group=\"country\")\n",
    "fig.show()\n"
   ]
  },
  {
   "cell_type": "code",
   "execution_count": null,
   "metadata": {},
   "outputs": [],
   "source": [
    "res_warhol.reset_index(inplace=True, drop=True)"
   ]
  },
  {
   "cell_type": "code",
   "execution_count": null,
   "metadata": {},
   "outputs": [],
   "source": [
    "res_warhol[\"freq\"] = res_warhol['freq'].astype('int')"
   ]
  },
  {
   "cell_type": "code",
   "execution_count": null,
   "metadata": {},
   "outputs": [],
   "source": [
    "res_warhol"
   ]
  },
  {
   "cell_type": "code",
   "execution_count": null,
   "metadata": {},
   "outputs": [],
   "source": [
    "fig = px.area(res_warhol, x=\"ano\", y=\"freq\",\n",
    "            color=\"tag\")\n",
    "            #hover_data=['petal_width'],)\n",
    " \n",
    "fig.show()"
   ]
  },
  {
   "cell_type": "markdown",
   "metadata": {},
   "source": [
    "## Picasso"
   ]
  },
  {
   "cell_type": "code",
   "execution_count": null,
   "metadata": {},
   "outputs": [],
   "source": [
    "df[df['artistName']=='Picasso Pablo']['tags'].str.split(', ').apply(lambda x: pd.Series(x, dtype=object).value_counts()).sum().sort_values(ascending=False)[:30]\n",
    "#female-portraits\n",
    "#female-nude\n",
    "#male-portraits\n",
    "#dishware-and-cutlery\n",
    "#animals\n",
    "#musical-instruments\n",
    "#allegories-and-symbols\n",
    "#famous-people\n",
    "#male-nude\n",
    "#Still life photography\n",
    "\n",
    "tags_picasso = ['female-portraits', 'female-nude', 'male-portraits', 'dishware-and-cutlery', 'animals', 'musical-instruments', 'allegories-and-symbols', 'famous-people', 'male-nude', 'Still life photography']"
   ]
  },
  {
   "cell_type": "code",
   "execution_count": null,
   "metadata": {},
   "outputs": [],
   "source": [
    "artista = 'Picasso Pablo'\n",
    "tags = tags_picasso"
   ]
  },
  {
   "cell_type": "code",
   "execution_count": null,
   "metadata": {},
   "outputs": [],
   "source": [
    "df_picasso = df[df['artistName']==artista]\n",
    "df_picasso = df_picasso[df_picasso['tags'].notna()]\n",
    "df_picasso = df_picasso[df_picasso['completitionYear'].notna()]\n",
    "anos_picasso = df_picasso[df_picasso['artistName']==artista]['completitionYear'].unique()\n",
    "anos_picasso"
   ]
  },
  {
   "cell_type": "code",
   "execution_count": null,
   "metadata": {},
   "outputs": [],
   "source": [
    "res_picasso = pd.DataFrame(columns = ['tag', 'freq', 'ano'])\n",
    "for ano in anos_picasso:\n",
    "    dfano = df_picasso[df_picasso['completitionYear']==ano]\n",
    "    tags_ano = dfano['tags'].str.split(', ').apply(lambda x: pd.Series(x, dtype=object).value_counts()).sum().rename_axis('tag').reset_index(name='freq')\n",
    "    tags_ano['ano'] = ano\n",
    "    res = tags_ano[tags_ano['tag'].isin(tags_picasso)]\n",
    "    #res['ano'] = ano\n",
    "    res_picasso = res_picasso.append(res)\n",
    "\n",
    "res_picasso\n"
   ]
  },
  {
   "cell_type": "code",
   "execution_count": null,
   "metadata": {},
   "outputs": [],
   "source": [
    "fig = px.area(res_picasso, x=\"ano\", y=\"freq\",\n",
    "            color=\"tag\")\n",
    "            #hover_data=['petal_width'],)\n",
    " \n",
    "fig.show()"
   ]
  },
  {
   "cell_type": "code",
   "execution_count": null,
   "metadata": {},
   "outputs": [],
   "source": [
    "res_picasso[(res_picasso['tag']==tags_picasso[8]) & (res_picasso['ano']==anos_picasso[2])]['freq'].values[0]"
   ]
  },
  {
   "cell_type": "code",
   "execution_count": null,
   "metadata": {},
   "outputs": [],
   "source": [
    "yfinal = []\n",
    "for tag in tags_picasso:\n",
    "    aux = []\n",
    "    for ano in anos_picasso:\n",
    "        filtrado = res_picasso[(res_picasso['tag']==tag) & (res_picasso['ano']==ano)]\n",
    "        if len(filtrado)>0:\n",
    "            aux.append(filtrado['freq'].values[0])\n",
    "        else:\n",
    "            aux.append(0)\n",
    "    print(tag)\n",
    "    print(aux[26])\n",
    "    yfinal.append(aux)"
   ]
  },
  {
   "cell_type": "code",
   "execution_count": null,
   "metadata": {},
   "outputs": [],
   "source": [
    "len(anos_picasso)"
   ]
  },
  {
   "cell_type": "code",
   "execution_count": null,
   "metadata": {},
   "outputs": [],
   "source": [
    "tags_picasso[8]"
   ]
  },
  {
   "cell_type": "code",
   "execution_count": null,
   "metadata": {},
   "outputs": [],
   "source": [
    "tags_picasso"
   ]
  },
  {
   "cell_type": "code",
   "execution_count": null,
   "metadata": {},
   "outputs": [],
   "source": [
    "len(x)"
   ]
  },
  {
   "cell_type": "code",
   "execution_count": null,
   "metadata": {},
   "outputs": [],
   "source": [
    "for y in yfinal:\n",
    "    print(len(y))"
   ]
  },
  {
   "cell_type": "code",
   "execution_count": null,
   "metadata": {},
   "outputs": [],
   "source": [
    "x = res_picasso['ano'].unique()\n",
    "colorvec = ['#ff7f00','#cab2d6','#a6cee3','#1f78b4','#b2df8a','#33a02c','#fb9a99','#e31a1c','#fdbf6f','#ff7f00','#cab2d6']\n",
    "\n",
    "fig = go.Figure()\n",
    "for i in range(0,10):\n",
    "    fig.add_trace(go.Scatter(\n",
    "    x=x, y=yfinal[i],\n",
    "    hoverinfo='x+y',\n",
    "    mode='lines',\n",
    "    line=dict(width=0.5, color=colorvec[i]),\n",
    "    fillcolor = colorvec[i],\n",
    "    stackgroup='one' # define stack group\n",
    "    #groupnorm='percent'\n",
    "))\n",
    "\n",
    "fig.update_layout()\n",
    "fig.show()"
   ]
  },
  {
   "cell_type": "code",
   "execution_count": null,
   "metadata": {},
   "outputs": [],
   "source": [
    "df[df['artistName']=='van Gogh Vincent ']['tags'].str.split(', ').apply(lambda x: pd.Series(x, dtype=object).value_counts()).sum().sort_values(ascending=False)[:40]\n",
    "#countryside\n",
    "#male-portraits \n",
    "#fields-and-plains\n",
    "#female-portraits\n",
    "#gardens-and-parks\n",
    "#flowers-and-plants\n",
    "#forests-and-trees\n",
    "#Still life photography\n",
    "#cottages-and-farmhouses\n",
    "#domestic-settings\n",
    "\n",
    "tags_van = ['countryside', 'male-portraits', 'fields-and-plains', 'female-portraits', 'gardens-and-parks', 'flowers-and-plants', 'forests-and-trees', 'Still life photography', 'cottages-and-farmhouses', 'domestic-settings']"
   ]
  },
  {
   "cell_type": "code",
   "execution_count": null,
   "metadata": {},
   "outputs": [],
   "source": [
    "artista = 'van Gogh Vincent '\n",
    "tags = tags_van"
   ]
  },
  {
   "cell_type": "code",
   "execution_count": null,
   "metadata": {},
   "outputs": [],
   "source": [
    "res_van = pd.DataFrame(columns = ['tag', 'freq', 'ano'])\n",
    "for ano in anos_van:\n",
    "    dfano = df_van[df_van['completitionYear']==ano]\n",
    "    tags_ano = dfano['tags'].str.split(', ').apply(lambda x: pd.Series(x, dtype=object).value_counts()).sum().rename_axis('tag').reset_index(name='freq')\n",
    "    tags_ano['ano'] = ano\n",
    "    res = tags_ano[tags_ano['tag'].isin(tags_van)]\n",
    "    #res['ano'] = ano\n",
    "    res_van = res_van.append(res)\n",
    "\n",
    "res_van\n"
   ]
  },
  {
   "cell_type": "code",
   "execution_count": null,
   "metadata": {},
   "outputs": [],
   "source": [
    "fig = px.area(res_van, x=\"ano\", y=\"freq\",\n",
    "            color=\"tag\")\n",
    "            #hover_data=['petal_width'],)\n",
    " \n",
    "fig.show()"
   ]
  },
  {
   "cell_type": "code",
   "execution_count": null,
   "metadata": {},
   "outputs": [],
   "source": [
    "fig = px.bar(res_van, x=\"ano\", y=\"freq\", color=\"tag\", title=\"Van Gogh\")\n",
    "fig.show()"
   ]
  }
 ],
 "metadata": {
  "interpreter": {
   "hash": "f79894c007380eb89594f3a442e98aae1d4fd175cc4eb89c86ff421779f7bfb8"
  },
  "kernelspec": {
   "display_name": "Python 3.8.8 64-bit ('base': conda)",
   "language": "python",
   "name": "python3"
  },
  "language_info": {
   "codemirror_mode": {
    "name": "ipython",
    "version": 3
   },
   "file_extension": ".py",
   "mimetype": "text/x-python",
   "name": "python",
   "nbconvert_exporter": "python",
   "pygments_lexer": "ipython3",
   "version": "3.9.7"
  },
  "orig_nbformat": 4
 },
 "nbformat": 4,
 "nbformat_minor": 2
}
