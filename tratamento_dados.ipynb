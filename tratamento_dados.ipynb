{
 "cells": [
  {
   "cell_type": "markdown",
   "metadata": {},
   "source": [
    "# Testes"
   ]
  },
  {
   "cell_type": "code",
   "execution_count": 350,
   "metadata": {},
   "outputs": [],
   "source": [
    "import pandas as pd\n",
    "import plotly_express as px\n",
    "import plotly.graph_objects as go"
   ]
  },
  {
   "cell_type": "code",
   "execution_count": 237,
   "metadata": {},
   "outputs": [
    {
     "data": {
      "text/html": [
       "<div>\n",
       "<style scoped>\n",
       "    .dataframe tbody tr th:only-of-type {\n",
       "        vertical-align: middle;\n",
       "    }\n",
       "\n",
       "    .dataframe tbody tr th {\n",
       "        vertical-align: top;\n",
       "    }\n",
       "\n",
       "    .dataframe thead th {\n",
       "        text-align: right;\n",
       "    }\n",
       "</style>\n",
       "<table border=\"1\" class=\"dataframe\">\n",
       "  <thead>\n",
       "    <tr style=\"text-align: right;\">\n",
       "      <th></th>\n",
       "      <th>title</th>\n",
       "      <th>contentId</th>\n",
       "      <th>artistContentId</th>\n",
       "      <th>artistName</th>\n",
       "      <th>completitionYear</th>\n",
       "      <th>yearAsString</th>\n",
       "      <th>width</th>\n",
       "      <th>image</th>\n",
       "      <th>height</th>\n",
       "      <th>artistUrl</th>\n",
       "      <th>...</th>\n",
       "      <th>technique</th>\n",
       "      <th>sizeX</th>\n",
       "      <th>sizeY</th>\n",
       "      <th>diameter</th>\n",
       "      <th>auction</th>\n",
       "      <th>yearOfTrade</th>\n",
       "      <th>lastPrice</th>\n",
       "      <th>galleryName</th>\n",
       "      <th>tags</th>\n",
       "      <th>description</th>\n",
       "    </tr>\n",
       "  </thead>\n",
       "  <tbody>\n",
       "    <tr>\n",
       "      <th>0</th>\n",
       "      <td>A Cat Named Sam</td>\n",
       "      <td>229254</td>\n",
       "      <td>229251</td>\n",
       "      <td>Warhol Andy</td>\n",
       "      <td>1954.0</td>\n",
       "      <td>1954</td>\n",
       "      <td>335</td>\n",
       "      <td>https://uploads7.wikiart.org/images/andy-warho...</td>\n",
       "      <td>448</td>\n",
       "      <td>andy-warhol</td>\n",
       "      <td>...</td>\n",
       "      <td>NaN</td>\n",
       "      <td>NaN</td>\n",
       "      <td>NaN</td>\n",
       "      <td>NaN</td>\n",
       "      <td>None</td>\n",
       "      <td>NaN</td>\n",
       "      <td>NaN</td>\n",
       "      <td>None</td>\n",
       "      <td>animals, cats, Cat, Felidae, Fictional character</td>\n",
       "      <td>None</td>\n",
       "    </tr>\n",
       "    <tr>\n",
       "      <th>1</th>\n",
       "      <td>Fairy and Christmas Ornaments</td>\n",
       "      <td>301919</td>\n",
       "      <td>229251</td>\n",
       "      <td>Warhol Andy</td>\n",
       "      <td>1955.0</td>\n",
       "      <td>1955</td>\n",
       "      <td>465</td>\n",
       "      <td>https://uploads8.wikiart.org/images/andy-warho...</td>\n",
       "      <td>600</td>\n",
       "      <td>andy-warhol</td>\n",
       "      <td>...</td>\n",
       "      <td>NaN</td>\n",
       "      <td>NaN</td>\n",
       "      <td>NaN</td>\n",
       "      <td>NaN</td>\n",
       "      <td>None</td>\n",
       "      <td>NaN</td>\n",
       "      <td>NaN</td>\n",
       "      <td>None</td>\n",
       "      <td>None</td>\n",
       "      <td>None</td>\n",
       "    </tr>\n",
       "    <tr>\n",
       "      <th>2</th>\n",
       "      <td>Cherub and Horse</td>\n",
       "      <td>300199</td>\n",
       "      <td>229251</td>\n",
       "      <td>Warhol Andy</td>\n",
       "      <td>1956.0</td>\n",
       "      <td>1956</td>\n",
       "      <td>570</td>\n",
       "      <td>https://uploads4.wikiart.org/images/andy-warho...</td>\n",
       "      <td>452</td>\n",
       "      <td>andy-warhol</td>\n",
       "      <td>...</td>\n",
       "      <td>NaN</td>\n",
       "      <td>NaN</td>\n",
       "      <td>NaN</td>\n",
       "      <td>NaN</td>\n",
       "      <td>None</td>\n",
       "      <td>NaN</td>\n",
       "      <td>NaN</td>\n",
       "      <td>None</td>\n",
       "      <td>None</td>\n",
       "      <td>None</td>\n",
       "    </tr>\n",
       "    <tr>\n",
       "      <th>3</th>\n",
       "      <td>Advertisement for I. Miller</td>\n",
       "      <td>9223372032559859394</td>\n",
       "      <td>229251</td>\n",
       "      <td>Warhol Andy</td>\n",
       "      <td>1958.0</td>\n",
       "      <td>1958</td>\n",
       "      <td>660</td>\n",
       "      <td>https://uploads3.wikiart.org/00313/images/endi...</td>\n",
       "      <td>479</td>\n",
       "      <td>andy-warhol</td>\n",
       "      <td>...</td>\n",
       "      <td>NaN</td>\n",
       "      <td>NaN</td>\n",
       "      <td>NaN</td>\n",
       "      <td>NaN</td>\n",
       "      <td>None</td>\n",
       "      <td>NaN</td>\n",
       "      <td>NaN</td>\n",
       "      <td>None</td>\n",
       "      <td>Text</td>\n",
       "      <td>None</td>\n",
       "    </tr>\n",
       "    <tr>\n",
       "      <th>4</th>\n",
       "      <td>Shoe Advertisement for I.Miller (Harper's Bazzar)</td>\n",
       "      <td>9223372032559859125</td>\n",
       "      <td>229251</td>\n",
       "      <td>Warhol Andy</td>\n",
       "      <td>1958.0</td>\n",
       "      <td>1958</td>\n",
       "      <td>660</td>\n",
       "      <td>https://uploads1.wikiart.org/00313/images/endi...</td>\n",
       "      <td>480</td>\n",
       "      <td>andy-warhol</td>\n",
       "      <td>...</td>\n",
       "      <td>NaN</td>\n",
       "      <td>NaN</td>\n",
       "      <td>NaN</td>\n",
       "      <td>NaN</td>\n",
       "      <td>None</td>\n",
       "      <td>NaN</td>\n",
       "      <td>NaN</td>\n",
       "      <td>None</td>\n",
       "      <td>None</td>\n",
       "      <td>None</td>\n",
       "    </tr>\n",
       "    <tr>\n",
       "      <th>...</th>\n",
       "      <td>...</td>\n",
       "      <td>...</td>\n",
       "      <td>...</td>\n",
       "      <td>...</td>\n",
       "      <td>...</td>\n",
       "      <td>...</td>\n",
       "      <td>...</td>\n",
       "      <td>...</td>\n",
       "      <td>...</td>\n",
       "      <td>...</td>\n",
       "      <td>...</td>\n",
       "      <td>...</td>\n",
       "      <td>...</td>\n",
       "      <td>...</td>\n",
       "      <td>...</td>\n",
       "      <td>...</td>\n",
       "      <td>...</td>\n",
       "      <td>...</td>\n",
       "      <td>...</td>\n",
       "      <td>...</td>\n",
       "      <td>...</td>\n",
       "    </tr>\n",
       "    <tr>\n",
       "      <th>3660</th>\n",
       "      <td>Composition N. 11 London with Blue, Red and Ye...</td>\n",
       "      <td>186003</td>\n",
       "      <td>185969</td>\n",
       "      <td>Mondrian Piet</td>\n",
       "      <td>NaN</td>\n",
       "      <td></td>\n",
       "      <td>684</td>\n",
       "      <td>https://uploads6.wikiart.org/images/piet-mondr...</td>\n",
       "      <td>800</td>\n",
       "      <td>piet-mondrian</td>\n",
       "      <td>...</td>\n",
       "      <td>NaN</td>\n",
       "      <td>NaN</td>\n",
       "      <td>NaN</td>\n",
       "      <td>NaN</td>\n",
       "      <td>NaN</td>\n",
       "      <td>NaN</td>\n",
       "      <td>NaN</td>\n",
       "      <td>None</td>\n",
       "      <td>Line, Rectangle</td>\n",
       "      <td>None</td>\n",
       "    </tr>\n",
       "    <tr>\n",
       "      <th>3661</th>\n",
       "      <td>Gable Farm with trees</td>\n",
       "      <td>186012</td>\n",
       "      <td>185969</td>\n",
       "      <td>Mondrian Piet</td>\n",
       "      <td>NaN</td>\n",
       "      <td></td>\n",
       "      <td>569</td>\n",
       "      <td>https://uploads6.wikiart.org/images/piet-mondr...</td>\n",
       "      <td>650</td>\n",
       "      <td>piet-mondrian</td>\n",
       "      <td>...</td>\n",
       "      <td>NaN</td>\n",
       "      <td>27.0</td>\n",
       "      <td>31.0</td>\n",
       "      <td>NaN</td>\n",
       "      <td>NaN</td>\n",
       "      <td>NaN</td>\n",
       "      <td>NaN</td>\n",
       "      <td>Musée Sainte-Croix, Poitiers, France</td>\n",
       "      <td>houses-and-buildings, forests-and-trees, Brown...</td>\n",
       "      <td>None</td>\n",
       "    </tr>\n",
       "    <tr>\n",
       "      <th>3662</th>\n",
       "      <td>Design for the Church of St. Jacob</td>\n",
       "      <td>186013</td>\n",
       "      <td>185969</td>\n",
       "      <td>Mondrian Piet</td>\n",
       "      <td>NaN</td>\n",
       "      <td></td>\n",
       "      <td>442</td>\n",
       "      <td>https://uploads0.wikiart.org/images/piet-mondr...</td>\n",
       "      <td>640</td>\n",
       "      <td>piet-mondrian</td>\n",
       "      <td>...</td>\n",
       "      <td>NaN</td>\n",
       "      <td>36.0</td>\n",
       "      <td>50.0</td>\n",
       "      <td>NaN</td>\n",
       "      <td>NaN</td>\n",
       "      <td>NaN</td>\n",
       "      <td>NaN</td>\n",
       "      <td>Musée d'Orsay, Paris, France</td>\n",
       "      <td>forests-and-trees, Tree, Branch, Botany, Plant...</td>\n",
       "      <td>None</td>\n",
       "    </tr>\n",
       "    <tr>\n",
       "      <th>3663</th>\n",
       "      <td>Head</td>\n",
       "      <td>186055</td>\n",
       "      <td>185969</td>\n",
       "      <td>Mondrian Piet</td>\n",
       "      <td>NaN</td>\n",
       "      <td></td>\n",
       "      <td>472</td>\n",
       "      <td>https://uploads7.wikiart.org/images/piet-mondr...</td>\n",
       "      <td>275</td>\n",
       "      <td>piet-mondrian</td>\n",
       "      <td>...</td>\n",
       "      <td>NaN</td>\n",
       "      <td>NaN</td>\n",
       "      <td>NaN</td>\n",
       "      <td>NaN</td>\n",
       "      <td>NaN</td>\n",
       "      <td>NaN</td>\n",
       "      <td>NaN</td>\n",
       "      <td>None</td>\n",
       "      <td>Text, Font, Line, Flag</td>\n",
       "      <td>None</td>\n",
       "    </tr>\n",
       "    <tr>\n",
       "      <th>3664</th>\n",
       "      <td>Lozenge Composition 3 Lines Blue Gray Yellow</td>\n",
       "      <td>186057</td>\n",
       "      <td>185969</td>\n",
       "      <td>Mondrian Piet</td>\n",
       "      <td>NaN</td>\n",
       "      <td></td>\n",
       "      <td>800</td>\n",
       "      <td>https://uploads2.wikiart.org/images/piet-mondr...</td>\n",
       "      <td>772</td>\n",
       "      <td>piet-mondrian</td>\n",
       "      <td>...</td>\n",
       "      <td>NaN</td>\n",
       "      <td>NaN</td>\n",
       "      <td>NaN</td>\n",
       "      <td>NaN</td>\n",
       "      <td>NaN</td>\n",
       "      <td>NaN</td>\n",
       "      <td>NaN</td>\n",
       "      <td>None</td>\n",
       "      <td>Origami, Line</td>\n",
       "      <td>None</td>\n",
       "    </tr>\n",
       "  </tbody>\n",
       "</table>\n",
       "<p>3665 rows × 28 columns</p>\n",
       "</div>"
      ],
      "text/plain": [
       "                                                  title            contentId  \\\n",
       "0                                       A Cat Named Sam               229254   \n",
       "1                         Fairy and Christmas Ornaments               301919   \n",
       "2                                      Cherub and Horse               300199   \n",
       "3                           Advertisement for I. Miller  9223372032559859394   \n",
       "4     Shoe Advertisement for I.Miller (Harper's Bazzar)  9223372032559859125   \n",
       "...                                                 ...                  ...   \n",
       "3660  Composition N. 11 London with Blue, Red and Ye...               186003   \n",
       "3661                              Gable Farm with trees               186012   \n",
       "3662                 Design for the Church of St. Jacob               186013   \n",
       "3663                                               Head               186055   \n",
       "3664       Lozenge Composition 3 Lines Blue Gray Yellow               186057   \n",
       "\n",
       "      artistContentId     artistName  completitionYear yearAsString  width  \\\n",
       "0              229251    Warhol Andy            1954.0         1954    335   \n",
       "1              229251    Warhol Andy            1955.0         1955    465   \n",
       "2              229251    Warhol Andy            1956.0         1956    570   \n",
       "3              229251    Warhol Andy            1958.0         1958    660   \n",
       "4              229251    Warhol Andy            1958.0         1958    660   \n",
       "...               ...            ...               ...          ...    ...   \n",
       "3660           185969  Mondrian Piet               NaN                 684   \n",
       "3661           185969  Mondrian Piet               NaN                 569   \n",
       "3662           185969  Mondrian Piet               NaN                 442   \n",
       "3663           185969  Mondrian Piet               NaN                 472   \n",
       "3664           185969  Mondrian Piet               NaN                 800   \n",
       "\n",
       "                                                  image  height  \\\n",
       "0     https://uploads7.wikiart.org/images/andy-warho...     448   \n",
       "1     https://uploads8.wikiart.org/images/andy-warho...     600   \n",
       "2     https://uploads4.wikiart.org/images/andy-warho...     452   \n",
       "3     https://uploads3.wikiart.org/00313/images/endi...     479   \n",
       "4     https://uploads1.wikiart.org/00313/images/endi...     480   \n",
       "...                                                 ...     ...   \n",
       "3660  https://uploads6.wikiart.org/images/piet-mondr...     800   \n",
       "3661  https://uploads6.wikiart.org/images/piet-mondr...     650   \n",
       "3662  https://uploads0.wikiart.org/images/piet-mondr...     640   \n",
       "3663  https://uploads7.wikiart.org/images/piet-mondr...     275   \n",
       "3664  https://uploads2.wikiart.org/images/piet-mondr...     772   \n",
       "\n",
       "          artistUrl  ... technique sizeX sizeY diameter auction yearOfTrade  \\\n",
       "0       andy-warhol  ...       NaN   NaN   NaN      NaN    None         NaN   \n",
       "1       andy-warhol  ...       NaN   NaN   NaN      NaN    None         NaN   \n",
       "2       andy-warhol  ...       NaN   NaN   NaN      NaN    None         NaN   \n",
       "3       andy-warhol  ...       NaN   NaN   NaN      NaN    None         NaN   \n",
       "4       andy-warhol  ...       NaN   NaN   NaN      NaN    None         NaN   \n",
       "...             ...  ...       ...   ...   ...      ...     ...         ...   \n",
       "3660  piet-mondrian  ...       NaN   NaN   NaN      NaN     NaN         NaN   \n",
       "3661  piet-mondrian  ...       NaN  27.0  31.0      NaN     NaN         NaN   \n",
       "3662  piet-mondrian  ...       NaN  36.0  50.0      NaN     NaN         NaN   \n",
       "3663  piet-mondrian  ...       NaN   NaN   NaN      NaN     NaN         NaN   \n",
       "3664  piet-mondrian  ...       NaN   NaN   NaN      NaN     NaN         NaN   \n",
       "\n",
       "      lastPrice                           galleryName  \\\n",
       "0           NaN                                  None   \n",
       "1           NaN                                  None   \n",
       "2           NaN                                  None   \n",
       "3           NaN                                  None   \n",
       "4           NaN                                  None   \n",
       "...         ...                                   ...   \n",
       "3660        NaN                                  None   \n",
       "3661        NaN  Musée Sainte-Croix, Poitiers, France   \n",
       "3662        NaN          Musée d'Orsay, Paris, France   \n",
       "3663        NaN                                  None   \n",
       "3664        NaN                                  None   \n",
       "\n",
       "                                                   tags  description  \n",
       "0      animals, cats, Cat, Felidae, Fictional character         None  \n",
       "1                                                  None         None  \n",
       "2                                                  None         None  \n",
       "3                                                  Text         None  \n",
       "4                                                  None         None  \n",
       "...                                                 ...          ...  \n",
       "3660                                    Line, Rectangle         None  \n",
       "3661  houses-and-buildings, forests-and-trees, Brown...         None  \n",
       "3662  forests-and-trees, Tree, Branch, Botany, Plant...         None  \n",
       "3663                             Text, Font, Line, Flag         None  \n",
       "3664                                      Origami, Line         None  \n",
       "\n",
       "[3665 rows x 28 columns]"
      ]
     },
     "execution_count": 237,
     "metadata": {},
     "output_type": "execute_result"
    }
   ],
   "source": [
    "dfList = []\n",
    "dfList.append(pd.read_json('dataset_artistas/andy-warhol.json', orient='records'))\n",
    "dfList.append(pd.read_json('dataset_artistas/frida-kahlo.json', orient='records'))\n",
    "dfList.append(pd.read_json('dataset_artistas/sandro-botticelli.json', orient='records'))\n",
    "dfList.append(pd.read_json('dataset_artistas/vincent-van-gogh.json', orient='records'))\n",
    "dfList.append(pd.read_json('dataset_artistas/pablo-picasso.json', orient='records'))\n",
    "dfList.append(pd.read_json('dataset_artistas/piet-mondrian.json', orient='records'))\n",
    "\n",
    "df = pd.concat(dfList, ignore_index=True)\n",
    "# df.head()\n",
    "\n",
    "\n",
    "df[df.duplicated(['artistName'], keep=False)]\n"
   ]
  },
  {
   "cell_type": "code",
   "execution_count": 238,
   "metadata": {},
   "outputs": [
    {
     "data": {
      "text/plain": [
       "['title',\n",
       " 'contentId',\n",
       " 'artistContentId',\n",
       " 'artistName',\n",
       " 'completitionYear',\n",
       " 'yearAsString',\n",
       " 'width',\n",
       " 'image',\n",
       " 'height',\n",
       " 'artistUrl',\n",
       " 'url',\n",
       " 'dictionaries',\n",
       " 'location',\n",
       " 'period',\n",
       " 'serie',\n",
       " 'genre',\n",
       " 'material',\n",
       " 'style',\n",
       " 'technique',\n",
       " 'sizeX',\n",
       " 'sizeY',\n",
       " 'diameter',\n",
       " 'auction',\n",
       " 'yearOfTrade',\n",
       " 'lastPrice',\n",
       " 'galleryName',\n",
       " 'tags',\n",
       " 'description']"
      ]
     },
     "execution_count": 238,
     "metadata": {},
     "output_type": "execute_result"
    }
   ],
   "source": [
    "list(df.columns)"
   ]
  },
  {
   "cell_type": "code",
   "execution_count": 239,
   "metadata": {},
   "outputs": [
    {
     "data": {
      "text/plain": [
       "0        animals, cats, Cat, Felidae, Fictional character\n",
       "1                                                    None\n",
       "2                                                    None\n",
       "3                                                    Text\n",
       "4                                                    None\n",
       "                              ...                        \n",
       "3660                                      Line, Rectangle\n",
       "3661    houses-and-buildings, forests-and-trees, Brown...\n",
       "3662    forests-and-trees, Tree, Branch, Botany, Plant...\n",
       "3663                               Text, Font, Line, Flag\n",
       "3664                                        Origami, Line\n",
       "Name: tags, Length: 3665, dtype: object"
      ]
     },
     "execution_count": 239,
     "metadata": {},
     "output_type": "execute_result"
    }
   ],
   "source": [
    "df['tags']"
   ]
  },
  {
   "cell_type": "code",
   "execution_count": 240,
   "metadata": {},
   "outputs": [
    {
     "data": {
      "text/plain": [
       "84"
      ]
     },
     "execution_count": 240,
     "metadata": {},
     "output_type": "execute_result"
    }
   ],
   "source": [
    "len(df[df['tags'].isna()])"
   ]
  },
  {
   "cell_type": "code",
   "execution_count": 241,
   "metadata": {},
   "outputs": [
    {
     "data": {
      "text/plain": [
       "38"
      ]
     },
     "execution_count": 241,
     "metadata": {},
     "output_type": "execute_result"
    }
   ],
   "source": [
    "len(df[df['completitionYear'].isna()])"
   ]
  },
  {
   "cell_type": "markdown",
   "metadata": {},
   "source": [
    "Tags mais populares:"
   ]
  },
  {
   "cell_type": "code",
   "execution_count": 242,
   "metadata": {},
   "outputs": [
    {
     "data": {
      "text/plain": [
       "Sketch                724.0\n",
       "female-portraits      487.0\n",
       "Tree                  373.0\n",
       "male-portraits        353.0\n",
       "handwork              306.0\n",
       "Plant                 253.0\n",
       "Figure drawing        232.0\n",
       "countryside           229.0\n",
       "female-nude           223.0\n",
       "famous-people         205.0\n",
       "Chin                  191.0\n",
       "fields-and-plains     183.0\n",
       "walking               175.0\n",
       "Head                  174.0\n",
       "gardens-and-parks     169.0\n",
       "Human                 157.0\n",
       "flowers-and-plants    151.0\n",
       "Forehead              151.0\n",
       "forests-and-trees     134.0\n",
       "Face                  131.0\n",
       "dtype: float64"
      ]
     },
     "execution_count": 242,
     "metadata": {},
     "output_type": "execute_result"
    }
   ],
   "source": [
    "df[df['tags'].notna()]['tags'].str.split(', ').apply(lambda x: pd.Series(x).value_counts()).sum().sort_values(ascending=False)[:20]"
   ]
  },
  {
   "cell_type": "code",
   "execution_count": 243,
   "metadata": {},
   "outputs": [
    {
     "data": {
      "text/plain": [
       "Sketch                0.202178\n",
       "female-portraits      0.135996\n",
       "Tree                  0.104161\n",
       "male-portraits        0.098576\n",
       "handwork              0.085451\n",
       "Plant                 0.070651\n",
       "Figure drawing        0.064786\n",
       "countryside           0.063949\n",
       "female-nude           0.062273\n",
       "famous-people         0.057247\n",
       "Chin                  0.053337\n",
       "fields-and-plains     0.051103\n",
       "walking               0.048869\n",
       "Head                  0.048590\n",
       "gardens-and-parks     0.047194\n",
       "Human                 0.043843\n",
       "flowers-and-plants    0.042167\n",
       "Forehead              0.042167\n",
       "forests-and-trees     0.037420\n",
       "Face                  0.036582\n",
       "dtype: float64"
      ]
     },
     "execution_count": 243,
     "metadata": {},
     "output_type": "execute_result"
    }
   ],
   "source": [
    "df[df['tags'].notna()]['tags'].str.split(', ').apply(lambda x: pd.Series(x).value_counts()).sum().sort_values(ascending=False)[:20]/len(df[df['tags'].notna()]['tags'])"
   ]
  },
  {
   "cell_type": "code",
   "execution_count": 244,
   "metadata": {},
   "outputs": [
    {
     "data": {
      "text/plain": [
       "female-portraits             236.0\n",
       "female-nude                  200.0\n",
       "male-portraits               118.0\n",
       "Sketch                       115.0\n",
       "dishware-and-cutlery          76.0\n",
       "Head                          69.0\n",
       "animals                       65.0\n",
       "musical-instruments           60.0\n",
       "Human                         59.0\n",
       "allegories-and-symbols        57.0\n",
       "Lady                          55.0\n",
       "Chin                          53.0\n",
       "Face                          50.0\n",
       "Figure drawing                49.0\n",
       "Cheek                         49.0\n",
       "famous-people                 46.0\n",
       "actors-and-performances       44.0\n",
       "Nose                          44.0\n",
       "couples                       44.0\n",
       "walking                       33.0\n",
       "Forehead                      33.0\n",
       "male-nude                     33.0\n",
       "Organism                      32.0\n",
       "Line                          32.0\n",
       "Still life photography        31.0\n",
       "bulls                         31.0\n",
       "mother-and-child              28.0\n",
       "arts-and-crafts               27.0\n",
       "Greek-and-Roman-Mythology     27.0\n",
       "birds                         26.0\n",
       "dtype: float64"
      ]
     },
     "execution_count": 244,
     "metadata": {},
     "output_type": "execute_result"
    }
   ],
   "source": [
    "df[df['artistName']=='Picasso Pablo']['tags'].str.split(', ').apply(lambda x: pd.Series(x, dtype=object).value_counts()).sum().sort_values(ascending=False)[:30]\n",
    "#female-portraits\n",
    "#female-nude\n",
    "#male-portraits\n",
    "#dishware-and-cutlery\n",
    "#animals\n",
    "#musical-instruments\n",
    "#allegories-and-symbols\n",
    "#famous-people\n",
    "#male-nude\n",
    "#Still life photography\n"
   ]
  },
  {
   "cell_type": "code",
   "execution_count": 245,
   "metadata": {},
   "outputs": [],
   "source": [
    "df[df['artistName']=='Warhol Andy']['tags'].str.split(', ').apply(lambda x: pd.Series(x, dtype=object).value_counts()).sum().sort_values(ascending=False)[:30]\n",
    "#famous-people\n",
    "#male-portraits\n",
    "#female-portraits\n",
    "#posters-and-advertisements\n",
    "#designs-and-sketches\n",
    "#food-and-beverages\n",
    "#furniture-and-decoration \n",
    "#Mao-Zedong\n",
    "#Marilyn-Monroe\n",
    "#animals\n",
    "\n",
    "tags_warhol = ['famous-people', 'male-portraits', 'female-portraits', 'posters-and-advertisements', 'designs-and-sketches', 'food-and-beverages', 'furniture-and-decoration', 'Mao-Zedong', 'Marilyn-Monroe', 'animals']"
   ]
  },
  {
   "cell_type": "code",
   "execution_count": 246,
   "metadata": {},
   "outputs": [
    {
     "data": {
      "text/plain": [
       "famous-people             55.0\n",
       "Frida-Kahlo               52.0\n",
       "female-portraits          46.0\n",
       "Forehead                  16.0\n",
       "Lady                      16.0\n",
       "allegories-and-symbols    14.0\n",
       "fruits-and-vegetables     14.0\n",
       "Face                      12.0\n",
       "Cheek                     11.0\n",
       "Chin                      11.0\n",
       "animals                    9.0\n",
       "Nose                       8.0\n",
       "Fruit                      8.0\n",
       "Still life photography     8.0\n",
       "Head                       8.0\n",
       "sun-and-moon               7.0\n",
       "monkeys                    7.0\n",
       "male-portraits             6.0\n",
       "Food                       6.0\n",
       "Mythology                  6.0\n",
       "disease-and-treatment      5.0\n",
       "Gentleman                  5.0\n",
       "birth-and-death            5.0\n",
       "Plant                      5.0\n",
       "parrots                    4.0\n",
       "Hair                       4.0\n",
       "skeletons-and-skulls       4.0\n",
       "Diego-Rivera               4.0\n",
       "birds                      4.0\n",
       "Eyebrow                    3.0\n",
       "dtype: float64"
      ]
     },
     "execution_count": 246,
     "metadata": {},
     "output_type": "execute_result"
    }
   ],
   "source": [
    "df[df['artistName']=='Kahlo Frida ']['tags'].str.split(', ').apply(lambda x: pd.Series(x, dtype=object).value_counts()).sum().sort_values(ascending=False)[:30]\n",
    "#female-portraits\n",
    "#allegories-and-symbols\n",
    "#fruits-and-vegetables\n",
    "#animals\n",
    "#male-portraits\n",
    "#Still life photography\n",
    "#sun-and-moon\n",
    "#Mythology\n",
    "#disease-and-treatment\n",
    "#birth-and-death \n"
   ]
  },
  {
   "cell_type": "code",
   "execution_count": 247,
   "metadata": {},
   "outputs": [
    {
     "data": {
      "text/plain": [
       "Christianity                           89.0\n",
       "Virgin-and-Child                       46.0\n",
       "Mythology                              37.0\n",
       "Prophet                                25.0\n",
       "saints-and-apostles                    24.0\n",
       "angels-and-archangels                  17.0\n",
       "Holy places                            14.0\n",
       "Lady                                   14.0\n",
       "fictional-characters                   13.0\n",
       "Jesus-Christ                           11.0\n",
       "male-portraits                          8.0\n",
       "Human                                   8.0\n",
       "Dante-Alighieri-\"The-Divine-Comedy\"     7.0\n",
       "pilgrims                                7.0\n",
       "Religious item                          6.0\n",
       "Chin                                    5.0\n",
       "Annunciation                            5.0\n",
       "St.-Augustine                           5.0\n",
       "Greek-and-Roman-Mythology               5.0\n",
       "gods-and-goddesses                      5.0\n",
       "Boccaccio-\"The-Decameron\"               5.0\n",
       "Moses                                   4.0\n",
       "St. John the Baptist                    4.0\n",
       "Classical sculpture                     4.0\n",
       "female-portraits                        4.0\n",
       "Human body                              4.0\n",
       "History                                 4.0\n",
       "Old-Testament                           4.0\n",
       "allegories-and-symbols                  4.0\n",
       "Sketch                                  4.0\n",
       "dtype: float64"
      ]
     },
     "execution_count": 247,
     "metadata": {},
     "output_type": "execute_result"
    }
   ],
   "source": [
    "df[df['artistName']=='Botticelli Sandro ']['tags'].str.split(', ').apply(lambda x: pd.Series(x, dtype=object).value_counts()).sum().sort_values(ascending=False)[:30]\n",
    "#Christianity\n",
    "#Virgin-and-Child\n",
    "#Mythology\n",
    "#Prophet\n",
    "#saints-and-apostles\n",
    "#angels-and-archangels\n",
    "#Holy places\n",
    "#Dante-Alighieri-\"The-Divine-Comedy\"\n",
    "#Jesus-Christ \n",
    "#male-portraits"
   ]
  },
  {
   "cell_type": "code",
   "execution_count": 248,
   "metadata": {},
   "outputs": [
    {
     "data": {
      "text/plain": [
       "Sketch                     598.0\n",
       "Tree                       340.0\n",
       "handwork                   302.0\n",
       "countryside                226.0\n",
       "Plant                      218.0\n",
       "Figure drawing             180.0\n",
       "male-portraits             179.0\n",
       "fields-and-plains          177.0\n",
       "female-portraits           166.0\n",
       "gardens-and-parks          162.0\n",
       "walking                    142.0\n",
       "flowers-and-plants         122.0\n",
       "forests-and-trees          109.0\n",
       "Woody plant                101.0\n",
       "Still life photography      87.0\n",
       "Flower                      85.0\n",
       "Human                       85.0\n",
       "Natural landscape           78.0\n",
       "Chin                        76.0\n",
       "Botany                      76.0\n",
       "cottages-and-farmhouses     75.0\n",
       "Text                        75.0\n",
       "Forehead                    70.0\n",
       "domestic-settings           69.0\n",
       "Grass family                65.0\n",
       "streets-and-squares         64.0\n",
       "Standing                    61.0\n",
       "Arm                         61.0\n",
       "Sky                         61.0\n",
       "Water                       59.0\n",
       "folk-architecture           58.0\n",
       "Head                        58.0\n",
       "Line                        52.0\n",
       "Gentleman                   51.0\n",
       "Nose                        46.0\n",
       "monuments-and-statues       45.0\n",
       "boats-and-ships             45.0\n",
       "parts-of-human-body         45.0\n",
       "Organism                    44.0\n",
       "Vincent-Van-Gogh            42.0\n",
       "dtype: float64"
      ]
     },
     "execution_count": 248,
     "metadata": {},
     "output_type": "execute_result"
    }
   ],
   "source": [
    "df[df['artistName']=='van Gogh Vincent ']['tags'].str.split(', ').apply(lambda x: pd.Series(x, dtype=object).value_counts()).sum().sort_values(ascending=False)[:40]\n",
    "#countryside\n",
    "#male-portraits \n",
    "#fields-and-plains\n",
    "#female-portraits\n",
    "#gardens-and-parks\n",
    "#flowers-and-plants\n",
    "#forests-and-trees\n",
    "#Still life photography\n",
    "#cottages-and-farmhouses\n",
    "#domestic-settings"
   ]
  },
  {
   "cell_type": "code",
   "execution_count": 249,
   "metadata": {},
   "outputs": [
    {
     "data": {
      "text/plain": [
       "Line                     32.0\n",
       "forests-and-trees        22.0\n",
       "Rectangle                15.0\n",
       "rivers-and-waterfalls    15.0\n",
       "Tree                     15.0\n",
       "houses-and-buildings     11.0\n",
       "flowers-and-plants        9.0\n",
       "Plant                     9.0\n",
       "Pattern                   9.0\n",
       "mills-and-windmills       7.0\n",
       "Sky                       7.0\n",
       "deserts-and-steppes       5.0\n",
       "Flower                    5.0\n",
       "Tints and shades          5.0\n",
       "Orange                    5.0\n",
       "gates-and-towers          5.0\n",
       "Branch                    5.0\n",
       "Windmill                  4.0\n",
       "Water                     4.0\n",
       "Bank                      4.0\n",
       "female-portraits          4.0\n",
       "Nature                    4.0\n",
       "Parallel                  3.0\n",
       "Bayou                     3.0\n",
       "boats-and-ships           3.0\n",
       "cliffs-and-rocks          3.0\n",
       "Natural landscape         3.0\n",
       "Woody plant               3.0\n",
       "Colorfulness              3.0\n",
       "fields-and-plains         3.0\n",
       "Brown                     3.0\n",
       "animals                   3.0\n",
       "Garden roses              2.0\n",
       "Petal                     2.0\n",
       "Tile                      2.0\n",
       "Reflection                2.0\n",
       "Text                      2.0\n",
       "Picture frame             2.0\n",
       "dishware-and-cutlery      2.0\n",
       "sunlight                  2.0\n",
       "dtype: float64"
      ]
     },
     "execution_count": 249,
     "metadata": {},
     "output_type": "execute_result"
    }
   ],
   "source": [
    "df[df['artistName']=='Mondrian Piet']['tags'].str.split(', ').apply(lambda x: pd.Series(x, dtype=object).value_counts()).sum().sort_values(ascending=False)[:40]\n",
    "#Line\n",
    "#forests-and-trees\n",
    "#Rectangle\n",
    "#rivers-and-waterfalls\n",
    "#houses-and-buildings\n",
    "#flowers-and-plants\n",
    "#mills-and-windmills\n",
    "#deserts-and-steppes\n",
    "#gates-and-towers\n",
    "#boats-and-ships\n"
   ]
  },
  {
   "cell_type": "code",
   "execution_count": 250,
   "metadata": {},
   "outputs": [
    {
     "data": {
      "text/plain": [
       "van Gogh Vincent      1929\n",
       "Picasso Pablo         1168\n",
       "Warhol Andy            231\n",
       "Botticelli Sandro      137\n",
       "Mondrian Piet          100\n",
       "Kahlo Frida            100\n",
       "Name: artistName, dtype: int64"
      ]
     },
     "execution_count": 250,
     "metadata": {},
     "output_type": "execute_result"
    }
   ],
   "source": [
    "df['artistName'].value_counts()"
   ]
  },
  {
   "cell_type": "code",
   "execution_count": 251,
   "metadata": {},
   "outputs": [
    {
     "data": {
      "text/plain": [
       "female-portraits           236.0\n",
       "female-nude                200.0\n",
       "male-portraits             118.0\n",
       "Sketch                     115.0\n",
       "dishware-and-cutlery        76.0\n",
       "Head                        69.0\n",
       "animals                     65.0\n",
       "musical-instruments         60.0\n",
       "Human                       59.0\n",
       "allegories-and-symbols      57.0\n",
       "Lady                        55.0\n",
       "Chin                        53.0\n",
       "Face                        50.0\n",
       "Figure drawing              49.0\n",
       "Cheek                       49.0\n",
       "famous-people               46.0\n",
       "actors-and-performances     44.0\n",
       "Nose                        44.0\n",
       "couples                     44.0\n",
       "walking                     33.0\n",
       "dtype: float64"
      ]
     },
     "execution_count": 251,
     "metadata": {},
     "output_type": "execute_result"
    }
   ],
   "source": [
    "df[df['artistName']=='Picasso Pablo']['tags'].str.split(', ').apply(lambda x: pd.Series(x, dtype=object).value_counts()).sum().sort_values(ascending=False)[:20]"
   ]
  },
  {
   "cell_type": "markdown",
   "metadata": {},
   "source": [
    "## Tags"
   ]
  },
  {
   "cell_type": "code",
   "execution_count": 252,
   "metadata": {},
   "outputs": [],
   "source": [
    "dftags = df[df['tags'].notna()]['tags']\n",
    "#tags = dftags\n",
    "\n",
    "total_tags = []\n",
    "for linha in dftags:\n",
    "    tag = linha.split(\", \")\n",
    "    total_tags = total_tags+tag\n"
   ]
  },
  {
   "cell_type": "code",
   "execution_count": 253,
   "metadata": {},
   "outputs": [
    {
     "data": {
      "text/plain": [
       "['animals',\n",
       " 'cats',\n",
       " 'Cat',\n",
       " 'Felidae',\n",
       " 'Fictional character',\n",
       " 'Text',\n",
       " 'Text',\n",
       " 'Font',\n",
       " 'Text',\n",
       " 'Font']"
      ]
     },
     "execution_count": 253,
     "metadata": {},
     "output_type": "execute_result"
    }
   ],
   "source": [
    "#df['tags'][0].split(\", \")\n",
    "df['tags'][3].split(\", \")\n",
    "#df['tags'][3560].split(\", \")\n",
    "\n",
    "a =[]\n",
    "a+df['tags'][0].split(\", \")+df['tags'][3].split(\", \")+df['tags'][3560].split(\", \")+df['tags'][3560].split(\", \")"
   ]
  },
  {
   "cell_type": "markdown",
   "metadata": {},
   "source": [
    "## Testando pegar top5 por ano"
   ]
  },
  {
   "cell_type": "code",
   "execution_count": 254,
   "metadata": {},
   "outputs": [
    {
     "data": {
      "text/html": [
       "<div>\n",
       "<style scoped>\n",
       "    .dataframe tbody tr th:only-of-type {\n",
       "        vertical-align: middle;\n",
       "    }\n",
       "\n",
       "    .dataframe tbody tr th {\n",
       "        vertical-align: top;\n",
       "    }\n",
       "\n",
       "    .dataframe thead th {\n",
       "        text-align: right;\n",
       "    }\n",
       "</style>\n",
       "<table border=\"1\" class=\"dataframe\">\n",
       "  <thead>\n",
       "    <tr style=\"text-align: right;\">\n",
       "      <th></th>\n",
       "      <th>title</th>\n",
       "      <th>contentId</th>\n",
       "      <th>artistContentId</th>\n",
       "      <th>artistName</th>\n",
       "      <th>completitionYear</th>\n",
       "      <th>yearAsString</th>\n",
       "      <th>width</th>\n",
       "      <th>image</th>\n",
       "      <th>height</th>\n",
       "      <th>artistUrl</th>\n",
       "      <th>...</th>\n",
       "      <th>technique</th>\n",
       "      <th>sizeX</th>\n",
       "      <th>sizeY</th>\n",
       "      <th>diameter</th>\n",
       "      <th>auction</th>\n",
       "      <th>yearOfTrade</th>\n",
       "      <th>lastPrice</th>\n",
       "      <th>galleryName</th>\n",
       "      <th>tags</th>\n",
       "      <th>description</th>\n",
       "    </tr>\n",
       "  </thead>\n",
       "  <tbody>\n",
       "    <tr>\n",
       "      <th>0</th>\n",
       "      <td>A Cat Named Sam</td>\n",
       "      <td>229254</td>\n",
       "      <td>229251</td>\n",
       "      <td>Warhol Andy</td>\n",
       "      <td>1954.0</td>\n",
       "      <td>1954</td>\n",
       "      <td>335</td>\n",
       "      <td>https://uploads7.wikiart.org/images/andy-warho...</td>\n",
       "      <td>448</td>\n",
       "      <td>andy-warhol</td>\n",
       "      <td>...</td>\n",
       "      <td>NaN</td>\n",
       "      <td>NaN</td>\n",
       "      <td>NaN</td>\n",
       "      <td>NaN</td>\n",
       "      <td>None</td>\n",
       "      <td>NaN</td>\n",
       "      <td>NaN</td>\n",
       "      <td>None</td>\n",
       "      <td>animals, cats, Cat, Felidae, Fictional character</td>\n",
       "      <td>None</td>\n",
       "    </tr>\n",
       "    <tr>\n",
       "      <th>3</th>\n",
       "      <td>Advertisement for I. Miller</td>\n",
       "      <td>9223372032559859394</td>\n",
       "      <td>229251</td>\n",
       "      <td>Warhol Andy</td>\n",
       "      <td>1958.0</td>\n",
       "      <td>1958</td>\n",
       "      <td>660</td>\n",
       "      <td>https://uploads3.wikiart.org/00313/images/endi...</td>\n",
       "      <td>479</td>\n",
       "      <td>andy-warhol</td>\n",
       "      <td>...</td>\n",
       "      <td>NaN</td>\n",
       "      <td>NaN</td>\n",
       "      <td>NaN</td>\n",
       "      <td>NaN</td>\n",
       "      <td>None</td>\n",
       "      <td>NaN</td>\n",
       "      <td>NaN</td>\n",
       "      <td>None</td>\n",
       "      <td>Text</td>\n",
       "      <td>None</td>\n",
       "    </tr>\n",
       "    <tr>\n",
       "      <th>5</th>\n",
       "      <td>Untitled (Superman Collage #15)</td>\n",
       "      <td>300220</td>\n",
       "      <td>229251</td>\n",
       "      <td>Warhol Andy</td>\n",
       "      <td>1960.0</td>\n",
       "      <td>1960</td>\n",
       "      <td>516</td>\n",
       "      <td>https://uploads7.wikiart.org/images/andy-warho...</td>\n",
       "      <td>570</td>\n",
       "      <td>andy-warhol</td>\n",
       "      <td>...</td>\n",
       "      <td>NaN</td>\n",
       "      <td>NaN</td>\n",
       "      <td>NaN</td>\n",
       "      <td>NaN</td>\n",
       "      <td>None</td>\n",
       "      <td>NaN</td>\n",
       "      <td>NaN</td>\n",
       "      <td>None</td>\n",
       "      <td>Text</td>\n",
       "      <td>None</td>\n",
       "    </tr>\n",
       "    <tr>\n",
       "      <th>7</th>\n",
       "      <td>Telephone</td>\n",
       "      <td>229387</td>\n",
       "      <td>229251</td>\n",
       "      <td>Warhol Andy</td>\n",
       "      <td>1961.0</td>\n",
       "      <td>1961</td>\n",
       "      <td>500</td>\n",
       "      <td>https://uploads1.wikiart.org/images/andy-warho...</td>\n",
       "      <td>707</td>\n",
       "      <td>andy-warhol</td>\n",
       "      <td>...</td>\n",
       "      <td>NaN</td>\n",
       "      <td>NaN</td>\n",
       "      <td>NaN</td>\n",
       "      <td>NaN</td>\n",
       "      <td>None</td>\n",
       "      <td>NaN</td>\n",
       "      <td>NaN</td>\n",
       "      <td>Museum of Contemporary Art (MOCA), Los Angeles...</td>\n",
       "      <td>instruments-and-mechanisms, communication-faci...</td>\n",
       "      <td>None</td>\n",
       "    </tr>\n",
       "    <tr>\n",
       "      <th>8</th>\n",
       "      <td>Green Coca Cola Bottles</td>\n",
       "      <td>9223372032559859124</td>\n",
       "      <td>229251</td>\n",
       "      <td>Warhol Andy</td>\n",
       "      <td>1962.0</td>\n",
       "      <td>1962</td>\n",
       "      <td>1040</td>\n",
       "      <td>https://uploads1.wikiart.org/00313/images/endi...</td>\n",
       "      <td>830</td>\n",
       "      <td>andy-warhol</td>\n",
       "      <td>...</td>\n",
       "      <td>NaN</td>\n",
       "      <td>NaN</td>\n",
       "      <td>NaN</td>\n",
       "      <td>NaN</td>\n",
       "      <td>None</td>\n",
       "      <td>NaN</td>\n",
       "      <td>NaN</td>\n",
       "      <td>None</td>\n",
       "      <td>Coca-cola, Bottle, Drink, Carbonated soft drin...</td>\n",
       "      <td>None</td>\n",
       "    </tr>\n",
       "    <tr>\n",
       "      <th>...</th>\n",
       "      <td>...</td>\n",
       "      <td>...</td>\n",
       "      <td>...</td>\n",
       "      <td>...</td>\n",
       "      <td>...</td>\n",
       "      <td>...</td>\n",
       "      <td>...</td>\n",
       "      <td>...</td>\n",
       "      <td>...</td>\n",
       "      <td>...</td>\n",
       "      <td>...</td>\n",
       "      <td>...</td>\n",
       "      <td>...</td>\n",
       "      <td>...</td>\n",
       "      <td>...</td>\n",
       "      <td>...</td>\n",
       "      <td>...</td>\n",
       "      <td>...</td>\n",
       "      <td>...</td>\n",
       "      <td>...</td>\n",
       "      <td>...</td>\n",
       "    </tr>\n",
       "    <tr>\n",
       "      <th>3653</th>\n",
       "      <td>New York City I</td>\n",
       "      <td>186042</td>\n",
       "      <td>185969</td>\n",
       "      <td>Mondrian Piet</td>\n",
       "      <td>1942.0</td>\n",
       "      <td>1942</td>\n",
       "      <td>818</td>\n",
       "      <td>https://uploads5.wikiart.org/images/piet-mondr...</td>\n",
       "      <td>850</td>\n",
       "      <td>piet-mondrian</td>\n",
       "      <td>...</td>\n",
       "      <td>NaN</td>\n",
       "      <td>114.2</td>\n",
       "      <td>119.3</td>\n",
       "      <td>NaN</td>\n",
       "      <td>NaN</td>\n",
       "      <td>NaN</td>\n",
       "      <td>NaN</td>\n",
       "      <td>Georges Pompidou Center, Paris, France</td>\n",
       "      <td>Line, Pattern, Parallel</td>\n",
       "      <td>None</td>\n",
       "    </tr>\n",
       "    <tr>\n",
       "      <th>3654</th>\n",
       "      <td>Broadway Boogie Woogie</td>\n",
       "      <td>186025</td>\n",
       "      <td>185969</td>\n",
       "      <td>Mondrian Piet</td>\n",
       "      <td>1943.0</td>\n",
       "      <td>1943</td>\n",
       "      <td>888</td>\n",
       "      <td>https://uploads3.wikiart.org/images/piet-mondr...</td>\n",
       "      <td>901</td>\n",
       "      <td>piet-mondrian</td>\n",
       "      <td>...</td>\n",
       "      <td>NaN</td>\n",
       "      <td>127.0</td>\n",
       "      <td>127.0</td>\n",
       "      <td>NaN</td>\n",
       "      <td>NaN</td>\n",
       "      <td>NaN</td>\n",
       "      <td>NaN</td>\n",
       "      <td>Museum of Modern Art (MoMA), New York City, NY...</td>\n",
       "      <td>New-York, roads-and-vehicles, Broadway, Line, ...</td>\n",
       "      <td>Considered Mondrian’s masterpiece, Broadway Bo...</td>\n",
       "    </tr>\n",
       "    <tr>\n",
       "      <th>3655</th>\n",
       "      <td>Place de la Concorde</td>\n",
       "      <td>186060</td>\n",
       "      <td>185969</td>\n",
       "      <td>Mondrian Piet</td>\n",
       "      <td>1943.0</td>\n",
       "      <td>1943</td>\n",
       "      <td>800</td>\n",
       "      <td>https://uploads1.wikiart.org/images/piet-mondr...</td>\n",
       "      <td>809</td>\n",
       "      <td>piet-mondrian</td>\n",
       "      <td>...</td>\n",
       "      <td>NaN</td>\n",
       "      <td>NaN</td>\n",
       "      <td>NaN</td>\n",
       "      <td>NaN</td>\n",
       "      <td>NaN</td>\n",
       "      <td>NaN</td>\n",
       "      <td>NaN</td>\n",
       "      <td>None</td>\n",
       "      <td>Paris, Place-de-la-Concorde, Line</td>\n",
       "      <td>None</td>\n",
       "    </tr>\n",
       "    <tr>\n",
       "      <th>3656</th>\n",
       "      <td>Trafalgar Square</td>\n",
       "      <td>186065</td>\n",
       "      <td>185969</td>\n",
       "      <td>Mondrian Piet</td>\n",
       "      <td>1943.0</td>\n",
       "      <td>1943</td>\n",
       "      <td>800</td>\n",
       "      <td>https://uploads6.wikiart.org/images/piet-mondr...</td>\n",
       "      <td>979</td>\n",
       "      <td>piet-mondrian</td>\n",
       "      <td>...</td>\n",
       "      <td>NaN</td>\n",
       "      <td>120.0</td>\n",
       "      <td>145.2</td>\n",
       "      <td>NaN</td>\n",
       "      <td>NaN</td>\n",
       "      <td>NaN</td>\n",
       "      <td>NaN</td>\n",
       "      <td>None</td>\n",
       "      <td>streets-and-squares, London, Line</td>\n",
       "      <td>None</td>\n",
       "    </tr>\n",
       "    <tr>\n",
       "      <th>3657</th>\n",
       "      <td>Victory Boogie Woogie</td>\n",
       "      <td>185977</td>\n",
       "      <td>185969</td>\n",
       "      <td>Mondrian Piet</td>\n",
       "      <td>1944.0</td>\n",
       "      <td>1944</td>\n",
       "      <td>811</td>\n",
       "      <td>https://uploads2.wikiart.org/images/piet-mondr...</td>\n",
       "      <td>800</td>\n",
       "      <td>piet-mondrian</td>\n",
       "      <td>...</td>\n",
       "      <td>NaN</td>\n",
       "      <td>126.0</td>\n",
       "      <td>126.0</td>\n",
       "      <td>NaN</td>\n",
       "      <td>NaN</td>\n",
       "      <td>NaN</td>\n",
       "      <td>NaN</td>\n",
       "      <td>Gemeentemuseum den Haag, Hague, Netherlands</td>\n",
       "      <td>Symmetry, Pattern, Line</td>\n",
       "      <td>None</td>\n",
       "    </tr>\n",
       "  </tbody>\n",
       "</table>\n",
       "<p>3545 rows × 28 columns</p>\n",
       "</div>"
      ],
      "text/plain": [
       "                                title            contentId  artistContentId  \\\n",
       "0                     A Cat Named Sam               229254           229251   \n",
       "3         Advertisement for I. Miller  9223372032559859394           229251   \n",
       "5     Untitled (Superman Collage #15)               300220           229251   \n",
       "7                           Telephone               229387           229251   \n",
       "8             Green Coca Cola Bottles  9223372032559859124           229251   \n",
       "...                               ...                  ...              ...   \n",
       "3653                  New York City I               186042           185969   \n",
       "3654           Broadway Boogie Woogie               186025           185969   \n",
       "3655             Place de la Concorde               186060           185969   \n",
       "3656                 Trafalgar Square               186065           185969   \n",
       "3657            Victory Boogie Woogie               185977           185969   \n",
       "\n",
       "         artistName  completitionYear yearAsString  width  \\\n",
       "0       Warhol Andy            1954.0         1954    335   \n",
       "3       Warhol Andy            1958.0         1958    660   \n",
       "5       Warhol Andy            1960.0         1960    516   \n",
       "7       Warhol Andy            1961.0         1961    500   \n",
       "8       Warhol Andy            1962.0         1962   1040   \n",
       "...             ...               ...          ...    ...   \n",
       "3653  Mondrian Piet            1942.0         1942    818   \n",
       "3654  Mondrian Piet            1943.0         1943    888   \n",
       "3655  Mondrian Piet            1943.0         1943    800   \n",
       "3656  Mondrian Piet            1943.0         1943    800   \n",
       "3657  Mondrian Piet            1944.0         1944    811   \n",
       "\n",
       "                                                  image  height  \\\n",
       "0     https://uploads7.wikiart.org/images/andy-warho...     448   \n",
       "3     https://uploads3.wikiart.org/00313/images/endi...     479   \n",
       "5     https://uploads7.wikiart.org/images/andy-warho...     570   \n",
       "7     https://uploads1.wikiart.org/images/andy-warho...     707   \n",
       "8     https://uploads1.wikiart.org/00313/images/endi...     830   \n",
       "...                                                 ...     ...   \n",
       "3653  https://uploads5.wikiart.org/images/piet-mondr...     850   \n",
       "3654  https://uploads3.wikiart.org/images/piet-mondr...     901   \n",
       "3655  https://uploads1.wikiart.org/images/piet-mondr...     809   \n",
       "3656  https://uploads6.wikiart.org/images/piet-mondr...     979   \n",
       "3657  https://uploads2.wikiart.org/images/piet-mondr...     800   \n",
       "\n",
       "          artistUrl  ... technique  sizeX  sizeY diameter auction yearOfTrade  \\\n",
       "0       andy-warhol  ...       NaN    NaN    NaN      NaN    None         NaN   \n",
       "3       andy-warhol  ...       NaN    NaN    NaN      NaN    None         NaN   \n",
       "5       andy-warhol  ...       NaN    NaN    NaN      NaN    None         NaN   \n",
       "7       andy-warhol  ...       NaN    NaN    NaN      NaN    None         NaN   \n",
       "8       andy-warhol  ...       NaN    NaN    NaN      NaN    None         NaN   \n",
       "...             ...  ...       ...    ...    ...      ...     ...         ...   \n",
       "3653  piet-mondrian  ...       NaN  114.2  119.3      NaN     NaN         NaN   \n",
       "3654  piet-mondrian  ...       NaN  127.0  127.0      NaN     NaN         NaN   \n",
       "3655  piet-mondrian  ...       NaN    NaN    NaN      NaN     NaN         NaN   \n",
       "3656  piet-mondrian  ...       NaN  120.0  145.2      NaN     NaN         NaN   \n",
       "3657  piet-mondrian  ...       NaN  126.0  126.0      NaN     NaN         NaN   \n",
       "\n",
       "      lastPrice                                        galleryName  \\\n",
       "0           NaN                                               None   \n",
       "3           NaN                                               None   \n",
       "5           NaN                                               None   \n",
       "7           NaN  Museum of Contemporary Art (MOCA), Los Angeles...   \n",
       "8           NaN                                               None   \n",
       "...         ...                                                ...   \n",
       "3653        NaN             Georges Pompidou Center, Paris, France   \n",
       "3654        NaN  Museum of Modern Art (MoMA), New York City, NY...   \n",
       "3655        NaN                                               None   \n",
       "3656        NaN                                               None   \n",
       "3657        NaN        Gemeentemuseum den Haag, Hague, Netherlands   \n",
       "\n",
       "                                                   tags  \\\n",
       "0      animals, cats, Cat, Felidae, Fictional character   \n",
       "3                                                  Text   \n",
       "5                                                  Text   \n",
       "7     instruments-and-mechanisms, communication-faci...   \n",
       "8     Coca-cola, Bottle, Drink, Carbonated soft drin...   \n",
       "...                                                 ...   \n",
       "3653                            Line, Pattern, Parallel   \n",
       "3654  New-York, roads-and-vehicles, Broadway, Line, ...   \n",
       "3655                  Paris, Place-de-la-Concorde, Line   \n",
       "3656                  streets-and-squares, London, Line   \n",
       "3657                            Symmetry, Pattern, Line   \n",
       "\n",
       "                                            description  \n",
       "0                                                  None  \n",
       "3                                                  None  \n",
       "5                                                  None  \n",
       "7                                                  None  \n",
       "8                                                  None  \n",
       "...                                                 ...  \n",
       "3653                                               None  \n",
       "3654  Considered Mondrian’s masterpiece, Broadway Bo...  \n",
       "3655                                               None  \n",
       "3656                                               None  \n",
       "3657                                               None  \n",
       "\n",
       "[3545 rows x 28 columns]"
      ]
     },
     "execution_count": 254,
     "metadata": {},
     "output_type": "execute_result"
    }
   ],
   "source": [
    "dftop = df[df['tags'].notna()]#['tags']\n",
    "dftop = dftop[dftop['completitionYear'].notna()]\n",
    "dftop"
   ]
  },
  {
   "cell_type": "code",
   "execution_count": null,
   "metadata": {},
   "outputs": [],
   "source": [
    "df[df['artistName']=='Picasso Pablo']['tags'].str.split(', ').apply(lambda x: pd.Series(x, dtype=object).value_counts()).sum().sort_values(ascending=False)[:5].index.tolist()"
   ]
  },
  {
   "cell_type": "code",
   "execution_count": null,
   "metadata": {},
   "outputs": [],
   "source": [
    "df[df['artistName']=='Picasso Pablo']['tags'].str.split(', ').apply(lambda x: pd.Series(x, dtype=object).value_counts()).sum().sort_values(ascending=False)[:5].values.tolist()"
   ]
  },
  {
   "cell_type": "code",
   "execution_count": null,
   "metadata": {},
   "outputs": [],
   "source": [
    "#dftop[dftop['artistName']=='Picasso Pablo'].groupby('completitionYear').count()#.agg()#.sum('tags')"
   ]
  },
  {
   "cell_type": "code",
   "execution_count": null,
   "metadata": {},
   "outputs": [],
   "source": [
    "#df[df['tags'].notna()].groupby('artistName')['tags'].value_counts()"
   ]
  },
  {
   "cell_type": "markdown",
   "metadata": {},
   "source": [
    "### Pablo Picasso"
   ]
  },
  {
   "cell_type": "code",
   "execution_count": null,
   "metadata": {},
   "outputs": [],
   "source": [
    "anos_picasso = dftop[dftop['artistName']=='Picasso Pablo']['completitionYear'].unique()\n",
    "anos_picasso"
   ]
  },
  {
   "cell_type": "code",
   "execution_count": null,
   "metadata": {},
   "outputs": [],
   "source": [
    "dfpablo = dftop[dftop['artistName']=='Picasso Pablo']"
   ]
  },
  {
   "cell_type": "code",
   "execution_count": null,
   "metadata": {},
   "outputs": [],
   "source": [
    "lista_tags = []\n",
    "lista_freq = []\n",
    "lista_anos = []\n",
    "for ano in anos_picasso:\n",
    "    dfano = dfpablo[dfpablo['completitionYear']==ano]\n",
    "    tags5 = dfano['tags'].str.split(', ').apply(lambda x: pd.Series(x, dtype=object).value_counts()).sum().sort_values(ascending=False)[:5].index.tolist()\n",
    "    freq5 = dfano['tags'].str.split(', ').apply(lambda x: pd.Series(x, dtype=object).value_counts()).sum().sort_values(ascending=False)[:5].values.tolist()\n",
    "    if len(tags5)>=5:\n",
    "        lista_anos.append(ano)\n",
    "        lista_tags.append(tags5)\n",
    "        lista_freq.append(freq5)"
   ]
  },
  {
   "cell_type": "code",
   "execution_count": null,
   "metadata": {},
   "outputs": [],
   "source": [
    "lista_tags"
   ]
  },
  {
   "cell_type": "code",
   "execution_count": null,
   "metadata": {},
   "outputs": [],
   "source": [
    "lista_freq"
   ]
  },
  {
   "cell_type": "code",
   "execution_count": null,
   "metadata": {},
   "outputs": [],
   "source": [
    "lista_anos"
   ]
  },
  {
   "cell_type": "code",
   "execution_count": null,
   "metadata": {},
   "outputs": [],
   "source": [
    "dfpicasso = pd.DataFrame(list(zip(lista_anos, lista_tags, lista_freq)),\n",
    "              columns=['ano','tags', 'freq'])"
   ]
  },
  {
   "cell_type": "code",
   "execution_count": null,
   "metadata": {},
   "outputs": [],
   "source": [
    "dfpicasso.head()"
   ]
  },
  {
   "cell_type": "markdown",
   "metadata": {},
   "source": [
    "## Estilo"
   ]
  },
  {
   "cell_type": "code",
   "execution_count": null,
   "metadata": {},
   "outputs": [],
   "source": [
    "df[df['artistName']=='Picasso Pablo']['style'].str.split(', ').apply(lambda x: pd.Series(x, dtype=object).value_counts()).sum().sort_values(ascending=False)#[:20]\n",
    "#df['style'].value_counts()"
   ]
  },
  {
   "cell_type": "code",
   "execution_count": null,
   "metadata": {},
   "outputs": [],
   "source": [
    "df.groupby('artistName')['style'].value_counts()#.sum().sort_values(ascending=False)"
   ]
  },
  {
   "cell_type": "code",
   "execution_count": null,
   "metadata": {},
   "outputs": [],
   "source": [
    "df[df['artistName']=='Picasso Pablo']['style'].str.split(', ').apply(lambda x: pd.Series(x, dtype=object).value_counts()).sum().sort_values(ascending=False)#[:20]\n",
    "#df['style'].value_counts()"
   ]
  },
  {
   "cell_type": "markdown",
   "metadata": {},
   "source": [
    "## Genero"
   ]
  },
  {
   "cell_type": "code",
   "execution_count": null,
   "metadata": {},
   "outputs": [],
   "source": [
    "df['genre'].value_counts()"
   ]
  },
  {
   "cell_type": "code",
   "execution_count": null,
   "metadata": {},
   "outputs": [],
   "source": [
    "df.groupby('artistName')['genre'].count()#.sum().sort_values(ascending=False)"
   ]
  },
  {
   "cell_type": "markdown",
   "metadata": {},
   "source": [
    "## Frequencia 10 tags"
   ]
  },
  {
   "cell_type": "markdown",
   "metadata": {},
   "source": [
    "### Andy Warhol"
   ]
  },
  {
   "cell_type": "code",
   "execution_count": 255,
   "metadata": {},
   "outputs": [],
   "source": [
    "df[df['artistName']=='Warhol Andy']['tags'].str.split(', ').apply(lambda x: pd.Series(x, dtype=object).value_counts()).sum().sort_values(ascending=False)[:30]\n",
    "#famous-people\n",
    "#male-portraits\n",
    "#female-portraits\n",
    "#posters-and-advertisements\n",
    "#designs-and-sketches\n",
    "#food-and-beverages\n",
    "#furniture-and-decoration \n",
    "#Mao-Zedong\n",
    "#Marilyn-Monroe\n",
    "#animals\n",
    "\n",
    "tags_warhol = ['famous-people', 'male-portraits', 'female-portraits', 'posters-and-advertisements', 'designs-and-sketches', 'food-and-beverages', 'furniture-and-decoration', 'Mao-Zedong', 'Marilyn-Monroe', 'animals']"
   ]
  },
  {
   "cell_type": "code",
   "execution_count": 256,
   "metadata": {},
   "outputs": [],
   "source": [
    "artista = 'Warhol Andy'\n",
    "tags = tags_warhol"
   ]
  },
  {
   "cell_type": "code",
   "execution_count": null,
   "metadata": {},
   "outputs": [],
   "source": [
    "df[(df['artistName']==artista) & (df['completitionYear']==1955)]#['tags']"
   ]
  },
  {
   "cell_type": "code",
   "execution_count": 262,
   "metadata": {},
   "outputs": [
    {
     "data": {
      "text/plain": [
       "array([1954., 1958., 1960., 1961., 1962., 1963., 1964., 1965., 1966.,\n",
       "       1967., 1968., 1969., 1970., 1971., 1972., 1973., 1974., 1975.,\n",
       "       1976., 1977., 1978., 1979., 1980., 1981., 1982., 1983., 1984.,\n",
       "       1985., 1986., 1987.])"
      ]
     },
     "execution_count": 262,
     "metadata": {},
     "output_type": "execute_result"
    }
   ],
   "source": [
    "df_warhol = df[df['artistName']==artista]\n",
    "df_warhol = df_warhol[df_warhol['tags'].notna()]\n",
    "df_warhol = df_warhol[df_warhol['completitionYear'].notna()]\n",
    "anos_warhol = df_warhol[df_warhol['artistName']==artista]['completitionYear'].unique()\n",
    "anos_warhol"
   ]
  },
  {
   "cell_type": "code",
   "execution_count": 288,
   "metadata": {},
   "outputs": [],
   "source": [
    "res_warhol = pd.DataFrame(columns = ['tag', 'freq', 'ano'])\n",
    "for ano in anos_warhol:\n",
    "    dfano = df_warhol[df_warhol['completitionYear']==ano]\n",
    "    tags_ano = dfano['tags'].str.split(', ').apply(lambda x: pd.Series(x, dtype=object).value_counts()).sum().rename_axis('tag').reset_index(name='freq')\n",
    "    tags_ano['ano'] = ano\n",
    "    res = tags_ano[tags_ano['tag'].isin(tags_warhol)]\n",
    "    #res['ano'] = ano\n",
    "    res_warhol = res_warhol.append(res)\n"
   ]
  },
  {
   "cell_type": "code",
   "execution_count": 289,
   "metadata": {},
   "outputs": [
    {
     "data": {
      "text/html": [
       "<div>\n",
       "<style scoped>\n",
       "    .dataframe tbody tr th:only-of-type {\n",
       "        vertical-align: middle;\n",
       "    }\n",
       "\n",
       "    .dataframe tbody tr th {\n",
       "        vertical-align: top;\n",
       "    }\n",
       "\n",
       "    .dataframe thead th {\n",
       "        text-align: right;\n",
       "    }\n",
       "</style>\n",
       "<table border=\"1\" class=\"dataframe\">\n",
       "  <thead>\n",
       "    <tr style=\"text-align: right;\">\n",
       "      <th></th>\n",
       "      <th>tag</th>\n",
       "      <th>freq</th>\n",
       "      <th>ano</th>\n",
       "    </tr>\n",
       "  </thead>\n",
       "  <tbody>\n",
       "    <tr>\n",
       "      <th>4</th>\n",
       "      <td>animals</td>\n",
       "      <td>1</td>\n",
       "      <td>1954.0</td>\n",
       "    </tr>\n",
       "    <tr>\n",
       "      <th>12</th>\n",
       "      <td>Marilyn-Monroe</td>\n",
       "      <td>2.0</td>\n",
       "      <td>1962.0</td>\n",
       "    </tr>\n",
       "    <tr>\n",
       "      <th>13</th>\n",
       "      <td>famous-people</td>\n",
       "      <td>2.0</td>\n",
       "      <td>1962.0</td>\n",
       "    </tr>\n",
       "    <tr>\n",
       "      <th>14</th>\n",
       "      <td>food-and-beverages</td>\n",
       "      <td>3.0</td>\n",
       "      <td>1962.0</td>\n",
       "    </tr>\n",
       "    <tr>\n",
       "      <th>18</th>\n",
       "      <td>posters-and-advertisements</td>\n",
       "      <td>2.0</td>\n",
       "      <td>1962.0</td>\n",
       "    </tr>\n",
       "    <tr>\n",
       "      <th>...</th>\n",
       "      <td>...</td>\n",
       "      <td>...</td>\n",
       "      <td>...</td>\n",
       "    </tr>\n",
       "    <tr>\n",
       "      <th>5</th>\n",
       "      <td>posters-and-advertisements</td>\n",
       "      <td>5.0</td>\n",
       "      <td>1986.0</td>\n",
       "    </tr>\n",
       "    <tr>\n",
       "      <th>10</th>\n",
       "      <td>male-portraits</td>\n",
       "      <td>3.0</td>\n",
       "      <td>1986.0</td>\n",
       "    </tr>\n",
       "    <tr>\n",
       "      <th>12</th>\n",
       "      <td>famous-people</td>\n",
       "      <td>3.0</td>\n",
       "      <td>1986.0</td>\n",
       "    </tr>\n",
       "    <tr>\n",
       "      <th>2</th>\n",
       "      <td>male-portraits</td>\n",
       "      <td>3.0</td>\n",
       "      <td>1987.0</td>\n",
       "    </tr>\n",
       "    <tr>\n",
       "      <th>5</th>\n",
       "      <td>famous-people</td>\n",
       "      <td>3.0</td>\n",
       "      <td>1987.0</td>\n",
       "    </tr>\n",
       "  </tbody>\n",
       "</table>\n",
       "<p>91 rows × 3 columns</p>\n",
       "</div>"
      ],
      "text/plain": [
       "                           tag freq     ano\n",
       "4                      animals    1  1954.0\n",
       "12              Marilyn-Monroe  2.0  1962.0\n",
       "13               famous-people  2.0  1962.0\n",
       "14          food-and-beverages  3.0  1962.0\n",
       "18  posters-and-advertisements  2.0  1962.0\n",
       "..                         ...  ...     ...\n",
       "5   posters-and-advertisements  5.0  1986.0\n",
       "10              male-portraits  3.0  1986.0\n",
       "12               famous-people  3.0  1986.0\n",
       "2               male-portraits  3.0  1987.0\n",
       "5                famous-people  3.0  1987.0\n",
       "\n",
       "[91 rows x 3 columns]"
      ]
     },
     "execution_count": 289,
     "metadata": {},
     "output_type": "execute_result"
    }
   ],
   "source": [
    "res_warhol"
   ]
  },
  {
   "cell_type": "markdown",
   "metadata": {},
   "source": [
    "## Plotly"
   ]
  },
  {
   "cell_type": "code",
   "execution_count": null,
   "metadata": {},
   "outputs": [],
   "source": [
    "df2 = px.data.gapminder()\n",
    "fig = px.area(df2, x=\"year\", y=\"pop\", #color=\"continent\",\n",
    "\t      line_group=\"country\")\n",
    "fig.show()\n"
   ]
  },
  {
   "cell_type": "code",
   "execution_count": 290,
   "metadata": {},
   "outputs": [],
   "source": [
    "res_warhol.reset_index(inplace=True, drop=True)"
   ]
  },
  {
   "cell_type": "code",
   "execution_count": 298,
   "metadata": {},
   "outputs": [],
   "source": [
    "res_warhol[\"freq\"] = res_warhol['freq'].astype('int')"
   ]
  },
  {
   "cell_type": "code",
   "execution_count": 300,
   "metadata": {},
   "outputs": [
    {
     "data": {
      "text/html": [
       "<div>\n",
       "<style scoped>\n",
       "    .dataframe tbody tr th:only-of-type {\n",
       "        vertical-align: middle;\n",
       "    }\n",
       "\n",
       "    .dataframe tbody tr th {\n",
       "        vertical-align: top;\n",
       "    }\n",
       "\n",
       "    .dataframe thead th {\n",
       "        text-align: right;\n",
       "    }\n",
       "</style>\n",
       "<table border=\"1\" class=\"dataframe\">\n",
       "  <thead>\n",
       "    <tr style=\"text-align: right;\">\n",
       "      <th></th>\n",
       "      <th>tag</th>\n",
       "      <th>freq</th>\n",
       "      <th>ano</th>\n",
       "    </tr>\n",
       "  </thead>\n",
       "  <tbody>\n",
       "    <tr>\n",
       "      <th>0</th>\n",
       "      <td>animals</td>\n",
       "      <td>1</td>\n",
       "      <td>1954.0</td>\n",
       "    </tr>\n",
       "    <tr>\n",
       "      <th>1</th>\n",
       "      <td>Marilyn-Monroe</td>\n",
       "      <td>2</td>\n",
       "      <td>1962.0</td>\n",
       "    </tr>\n",
       "    <tr>\n",
       "      <th>2</th>\n",
       "      <td>famous-people</td>\n",
       "      <td>2</td>\n",
       "      <td>1962.0</td>\n",
       "    </tr>\n",
       "    <tr>\n",
       "      <th>3</th>\n",
       "      <td>food-and-beverages</td>\n",
       "      <td>3</td>\n",
       "      <td>1962.0</td>\n",
       "    </tr>\n",
       "    <tr>\n",
       "      <th>4</th>\n",
       "      <td>posters-and-advertisements</td>\n",
       "      <td>2</td>\n",
       "      <td>1962.0</td>\n",
       "    </tr>\n",
       "    <tr>\n",
       "      <th>...</th>\n",
       "      <td>...</td>\n",
       "      <td>...</td>\n",
       "      <td>...</td>\n",
       "    </tr>\n",
       "    <tr>\n",
       "      <th>86</th>\n",
       "      <td>posters-and-advertisements</td>\n",
       "      <td>5</td>\n",
       "      <td>1986.0</td>\n",
       "    </tr>\n",
       "    <tr>\n",
       "      <th>87</th>\n",
       "      <td>male-portraits</td>\n",
       "      <td>3</td>\n",
       "      <td>1986.0</td>\n",
       "    </tr>\n",
       "    <tr>\n",
       "      <th>88</th>\n",
       "      <td>famous-people</td>\n",
       "      <td>3</td>\n",
       "      <td>1986.0</td>\n",
       "    </tr>\n",
       "    <tr>\n",
       "      <th>89</th>\n",
       "      <td>male-portraits</td>\n",
       "      <td>3</td>\n",
       "      <td>1987.0</td>\n",
       "    </tr>\n",
       "    <tr>\n",
       "      <th>90</th>\n",
       "      <td>famous-people</td>\n",
       "      <td>3</td>\n",
       "      <td>1987.0</td>\n",
       "    </tr>\n",
       "  </tbody>\n",
       "</table>\n",
       "<p>91 rows × 3 columns</p>\n",
       "</div>"
      ],
      "text/plain": [
       "                           tag  freq     ano\n",
       "0                      animals     1  1954.0\n",
       "1               Marilyn-Monroe     2  1962.0\n",
       "2                famous-people     2  1962.0\n",
       "3           food-and-beverages     3  1962.0\n",
       "4   posters-and-advertisements     2  1962.0\n",
       "..                         ...   ...     ...\n",
       "86  posters-and-advertisements     5  1986.0\n",
       "87              male-portraits     3  1986.0\n",
       "88               famous-people     3  1986.0\n",
       "89              male-portraits     3  1987.0\n",
       "90               famous-people     3  1987.0\n",
       "\n",
       "[91 rows x 3 columns]"
      ]
     },
     "execution_count": 300,
     "metadata": {},
     "output_type": "execute_result"
    }
   ],
   "source": [
    "res_warhol"
   ]
  },
  {
   "cell_type": "code",
   "execution_count": 299,
   "metadata": {},
   "outputs": [
    {
     "data": {
      "application/vnd.plotly.v1+json": {
       "config": {
        "plotlyServerURL": "https://plot.ly"
       },
       "data": [
        {
         "hovertemplate": "tag=animals<br>ano=%{x}<br>freq=%{y}<extra></extra>",
         "legendgroup": "animals",
         "line": {
          "color": "#636efa"
         },
         "marker": {
          "symbol": "circle"
         },
         "mode": "lines",
         "name": "animals",
         "orientation": "v",
         "showlegend": true,
         "stackgroup": "1",
         "type": "scatter",
         "x": [
          1954,
          1966,
          1976,
          1983
         ],
         "xaxis": "x",
         "y": [
          1,
          4,
          1,
          1
         ],
         "yaxis": "y"
        },
        {
         "hovertemplate": "tag=Marilyn-Monroe<br>ano=%{x}<br>freq=%{y}<extra></extra>",
         "legendgroup": "Marilyn-Monroe",
         "line": {
          "color": "#EF553B"
         },
         "marker": {
          "symbol": "circle"
         },
         "mode": "lines",
         "name": "Marilyn-Monroe",
         "orientation": "v",
         "showlegend": true,
         "stackgroup": "1",
         "type": "scatter",
         "x": [
          1962,
          1964,
          1967,
          1968
         ],
         "xaxis": "x",
         "y": [
          2,
          1,
          4,
          1
         ],
         "yaxis": "y"
        },
        {
         "hovertemplate": "tag=famous-people<br>ano=%{x}<br>freq=%{y}<extra></extra>",
         "legendgroup": "famous-people",
         "line": {
          "color": "#00cc96"
         },
         "marker": {
          "symbol": "circle"
         },
         "mode": "lines",
         "name": "famous-people",
         "orientation": "v",
         "showlegend": true,
         "stackgroup": "1",
         "type": "scatter",
         "x": [
          1962,
          1963,
          1964,
          1966,
          1967,
          1968,
          1972,
          1973,
          1974,
          1975,
          1976,
          1977,
          1978,
          1979,
          1980,
          1982,
          1983,
          1984,
          1985,
          1986,
          1987
         ],
         "xaxis": "x",
         "y": [
          2,
          3,
          3,
          1,
          4,
          2,
          6,
          1,
          2,
          3,
          1,
          2,
          3,
          1,
          4,
          2,
          6,
          1,
          3,
          3,
          3
         ],
         "yaxis": "y"
        },
        {
         "hovertemplate": "tag=food-and-beverages<br>ano=%{x}<br>freq=%{y}<extra></extra>",
         "legendgroup": "food-and-beverages",
         "line": {
          "color": "#ab63fa"
         },
         "marker": {
          "symbol": "circle"
         },
         "mode": "lines",
         "name": "food-and-beverages",
         "orientation": "v",
         "showlegend": true,
         "stackgroup": "1",
         "type": "scatter",
         "x": [
          1962,
          1967,
          1968,
          1969,
          1978,
          1986
         ],
         "xaxis": "x",
         "y": [
          3,
          1,
          1,
          1,
          1,
          1
         ],
         "yaxis": "y"
        },
        {
         "hovertemplate": "tag=posters-and-advertisements<br>ano=%{x}<br>freq=%{y}<extra></extra>",
         "legendgroup": "posters-and-advertisements",
         "line": {
          "color": "#FFA15A"
         },
         "marker": {
          "symbol": "circle"
         },
         "mode": "lines",
         "name": "posters-and-advertisements",
         "orientation": "v",
         "showlegend": true,
         "stackgroup": "1",
         "type": "scatter",
         "x": [
          1962,
          1966,
          1967,
          1968,
          1981,
          1982,
          1983,
          1984,
          1985,
          1986
         ],
         "xaxis": "x",
         "y": [
          2,
          2,
          1,
          1,
          1,
          1,
          1,
          1,
          3,
          5
         ],
         "yaxis": "y"
        },
        {
         "hovertemplate": "tag=designs-and-sketches<br>ano=%{x}<br>freq=%{y}<extra></extra>",
         "legendgroup": "designs-and-sketches",
         "line": {
          "color": "#19d3f3"
         },
         "marker": {
          "symbol": "circle"
         },
         "mode": "lines",
         "name": "designs-and-sketches",
         "orientation": "v",
         "showlegend": true,
         "stackgroup": "1",
         "type": "scatter",
         "x": [
          1962,
          1963,
          1964,
          1980,
          1981,
          1983,
          1984,
          1985
         ],
         "xaxis": "x",
         "y": [
          2,
          3,
          1,
          1,
          1,
          1,
          1,
          4
         ],
         "yaxis": "y"
        },
        {
         "hovertemplate": "tag=female-portraits<br>ano=%{x}<br>freq=%{y}<extra></extra>",
         "legendgroup": "female-portraits",
         "line": {
          "color": "#FF6692"
         },
         "marker": {
          "symbol": "circle"
         },
         "mode": "lines",
         "name": "female-portraits",
         "orientation": "v",
         "showlegend": true,
         "stackgroup": "1",
         "type": "scatter",
         "x": [
          1962,
          1963,
          1964,
          1966,
          1967,
          1968,
          1974,
          1975,
          1980,
          1981,
          1982,
          1983,
          1984,
          1985
         ],
         "xaxis": "x",
         "y": [
          1,
          1,
          5,
          2,
          4,
          1,
          1,
          1,
          2,
          2,
          1,
          6,
          1,
          2
         ],
         "yaxis": "y"
        },
        {
         "hovertemplate": "tag=furniture-and-decoration<br>ano=%{x}<br>freq=%{y}<extra></extra>",
         "legendgroup": "furniture-and-decoration",
         "line": {
          "color": "#B6E880"
         },
         "marker": {
          "symbol": "circle"
         },
         "mode": "lines",
         "name": "furniture-and-decoration",
         "orientation": "v",
         "showlegend": true,
         "stackgroup": "1",
         "type": "scatter",
         "x": [
          1963,
          1964,
          1967,
          1971
         ],
         "xaxis": "x",
         "y": [
          2,
          3,
          1,
          1
         ],
         "yaxis": "y"
        },
        {
         "hovertemplate": "tag=male-portraits<br>ano=%{x}<br>freq=%{y}<extra></extra>",
         "legendgroup": "male-portraits",
         "line": {
          "color": "#FF97FF"
         },
         "marker": {
          "symbol": "circle"
         },
         "mode": "lines",
         "name": "male-portraits",
         "orientation": "v",
         "showlegend": true,
         "stackgroup": "1",
         "type": "scatter",
         "x": [
          1963,
          1966,
          1972,
          1973,
          1974,
          1975,
          1976,
          1977,
          1978,
          1979,
          1980,
          1981,
          1982,
          1983,
          1984,
          1985,
          1986,
          1987
         ],
         "xaxis": "x",
         "y": [
          3,
          1,
          6,
          1,
          1,
          3,
          1,
          2,
          3,
          1,
          2,
          2,
          1,
          1,
          1,
          2,
          3,
          3
         ],
         "yaxis": "y"
        },
        {
         "hovertemplate": "tag=Mao-Zedong<br>ano=%{x}<br>freq=%{y}<extra></extra>",
         "legendgroup": "Mao-Zedong",
         "line": {
          "color": "#FECB52"
         },
         "marker": {
          "symbol": "circle"
         },
         "mode": "lines",
         "name": "Mao-Zedong",
         "orientation": "v",
         "showlegend": true,
         "stackgroup": "1",
         "type": "scatter",
         "x": [
          1972,
          1973
         ],
         "xaxis": "x",
         "y": [
          6,
          1
         ],
         "yaxis": "y"
        }
       ],
       "layout": {
        "legend": {
         "title": {
          "text": "tag"
         },
         "tracegroupgap": 0
        },
        "margin": {
         "t": 60
        },
        "template": {
         "data": {
          "bar": [
           {
            "error_x": {
             "color": "#2a3f5f"
            },
            "error_y": {
             "color": "#2a3f5f"
            },
            "marker": {
             "line": {
              "color": "#E5ECF6",
              "width": 0.5
             },
             "pattern": {
              "fillmode": "overlay",
              "size": 10,
              "solidity": 0.2
             }
            },
            "type": "bar"
           }
          ],
          "barpolar": [
           {
            "marker": {
             "line": {
              "color": "#E5ECF6",
              "width": 0.5
             },
             "pattern": {
              "fillmode": "overlay",
              "size": 10,
              "solidity": 0.2
             }
            },
            "type": "barpolar"
           }
          ],
          "carpet": [
           {
            "aaxis": {
             "endlinecolor": "#2a3f5f",
             "gridcolor": "white",
             "linecolor": "white",
             "minorgridcolor": "white",
             "startlinecolor": "#2a3f5f"
            },
            "baxis": {
             "endlinecolor": "#2a3f5f",
             "gridcolor": "white",
             "linecolor": "white",
             "minorgridcolor": "white",
             "startlinecolor": "#2a3f5f"
            },
            "type": "carpet"
           }
          ],
          "choropleth": [
           {
            "colorbar": {
             "outlinewidth": 0,
             "ticks": ""
            },
            "type": "choropleth"
           }
          ],
          "contour": [
           {
            "colorbar": {
             "outlinewidth": 0,
             "ticks": ""
            },
            "colorscale": [
             [
              0,
              "#0d0887"
             ],
             [
              0.1111111111111111,
              "#46039f"
             ],
             [
              0.2222222222222222,
              "#7201a8"
             ],
             [
              0.3333333333333333,
              "#9c179e"
             ],
             [
              0.4444444444444444,
              "#bd3786"
             ],
             [
              0.5555555555555556,
              "#d8576b"
             ],
             [
              0.6666666666666666,
              "#ed7953"
             ],
             [
              0.7777777777777778,
              "#fb9f3a"
             ],
             [
              0.8888888888888888,
              "#fdca26"
             ],
             [
              1,
              "#f0f921"
             ]
            ],
            "type": "contour"
           }
          ],
          "contourcarpet": [
           {
            "colorbar": {
             "outlinewidth": 0,
             "ticks": ""
            },
            "type": "contourcarpet"
           }
          ],
          "heatmap": [
           {
            "colorbar": {
             "outlinewidth": 0,
             "ticks": ""
            },
            "colorscale": [
             [
              0,
              "#0d0887"
             ],
             [
              0.1111111111111111,
              "#46039f"
             ],
             [
              0.2222222222222222,
              "#7201a8"
             ],
             [
              0.3333333333333333,
              "#9c179e"
             ],
             [
              0.4444444444444444,
              "#bd3786"
             ],
             [
              0.5555555555555556,
              "#d8576b"
             ],
             [
              0.6666666666666666,
              "#ed7953"
             ],
             [
              0.7777777777777778,
              "#fb9f3a"
             ],
             [
              0.8888888888888888,
              "#fdca26"
             ],
             [
              1,
              "#f0f921"
             ]
            ],
            "type": "heatmap"
           }
          ],
          "heatmapgl": [
           {
            "colorbar": {
             "outlinewidth": 0,
             "ticks": ""
            },
            "colorscale": [
             [
              0,
              "#0d0887"
             ],
             [
              0.1111111111111111,
              "#46039f"
             ],
             [
              0.2222222222222222,
              "#7201a8"
             ],
             [
              0.3333333333333333,
              "#9c179e"
             ],
             [
              0.4444444444444444,
              "#bd3786"
             ],
             [
              0.5555555555555556,
              "#d8576b"
             ],
             [
              0.6666666666666666,
              "#ed7953"
             ],
             [
              0.7777777777777778,
              "#fb9f3a"
             ],
             [
              0.8888888888888888,
              "#fdca26"
             ],
             [
              1,
              "#f0f921"
             ]
            ],
            "type": "heatmapgl"
           }
          ],
          "histogram": [
           {
            "marker": {
             "pattern": {
              "fillmode": "overlay",
              "size": 10,
              "solidity": 0.2
             }
            },
            "type": "histogram"
           }
          ],
          "histogram2d": [
           {
            "colorbar": {
             "outlinewidth": 0,
             "ticks": ""
            },
            "colorscale": [
             [
              0,
              "#0d0887"
             ],
             [
              0.1111111111111111,
              "#46039f"
             ],
             [
              0.2222222222222222,
              "#7201a8"
             ],
             [
              0.3333333333333333,
              "#9c179e"
             ],
             [
              0.4444444444444444,
              "#bd3786"
             ],
             [
              0.5555555555555556,
              "#d8576b"
             ],
             [
              0.6666666666666666,
              "#ed7953"
             ],
             [
              0.7777777777777778,
              "#fb9f3a"
             ],
             [
              0.8888888888888888,
              "#fdca26"
             ],
             [
              1,
              "#f0f921"
             ]
            ],
            "type": "histogram2d"
           }
          ],
          "histogram2dcontour": [
           {
            "colorbar": {
             "outlinewidth": 0,
             "ticks": ""
            },
            "colorscale": [
             [
              0,
              "#0d0887"
             ],
             [
              0.1111111111111111,
              "#46039f"
             ],
             [
              0.2222222222222222,
              "#7201a8"
             ],
             [
              0.3333333333333333,
              "#9c179e"
             ],
             [
              0.4444444444444444,
              "#bd3786"
             ],
             [
              0.5555555555555556,
              "#d8576b"
             ],
             [
              0.6666666666666666,
              "#ed7953"
             ],
             [
              0.7777777777777778,
              "#fb9f3a"
             ],
             [
              0.8888888888888888,
              "#fdca26"
             ],
             [
              1,
              "#f0f921"
             ]
            ],
            "type": "histogram2dcontour"
           }
          ],
          "mesh3d": [
           {
            "colorbar": {
             "outlinewidth": 0,
             "ticks": ""
            },
            "type": "mesh3d"
           }
          ],
          "parcoords": [
           {
            "line": {
             "colorbar": {
              "outlinewidth": 0,
              "ticks": ""
             }
            },
            "type": "parcoords"
           }
          ],
          "pie": [
           {
            "automargin": true,
            "type": "pie"
           }
          ],
          "scatter": [
           {
            "marker": {
             "colorbar": {
              "outlinewidth": 0,
              "ticks": ""
             }
            },
            "type": "scatter"
           }
          ],
          "scatter3d": [
           {
            "line": {
             "colorbar": {
              "outlinewidth": 0,
              "ticks": ""
             }
            },
            "marker": {
             "colorbar": {
              "outlinewidth": 0,
              "ticks": ""
             }
            },
            "type": "scatter3d"
           }
          ],
          "scattercarpet": [
           {
            "marker": {
             "colorbar": {
              "outlinewidth": 0,
              "ticks": ""
             }
            },
            "type": "scattercarpet"
           }
          ],
          "scattergeo": [
           {
            "marker": {
             "colorbar": {
              "outlinewidth": 0,
              "ticks": ""
             }
            },
            "type": "scattergeo"
           }
          ],
          "scattergl": [
           {
            "marker": {
             "colorbar": {
              "outlinewidth": 0,
              "ticks": ""
             }
            },
            "type": "scattergl"
           }
          ],
          "scattermapbox": [
           {
            "marker": {
             "colorbar": {
              "outlinewidth": 0,
              "ticks": ""
             }
            },
            "type": "scattermapbox"
           }
          ],
          "scatterpolar": [
           {
            "marker": {
             "colorbar": {
              "outlinewidth": 0,
              "ticks": ""
             }
            },
            "type": "scatterpolar"
           }
          ],
          "scatterpolargl": [
           {
            "marker": {
             "colorbar": {
              "outlinewidth": 0,
              "ticks": ""
             }
            },
            "type": "scatterpolargl"
           }
          ],
          "scatterternary": [
           {
            "marker": {
             "colorbar": {
              "outlinewidth": 0,
              "ticks": ""
             }
            },
            "type": "scatterternary"
           }
          ],
          "surface": [
           {
            "colorbar": {
             "outlinewidth": 0,
             "ticks": ""
            },
            "colorscale": [
             [
              0,
              "#0d0887"
             ],
             [
              0.1111111111111111,
              "#46039f"
             ],
             [
              0.2222222222222222,
              "#7201a8"
             ],
             [
              0.3333333333333333,
              "#9c179e"
             ],
             [
              0.4444444444444444,
              "#bd3786"
             ],
             [
              0.5555555555555556,
              "#d8576b"
             ],
             [
              0.6666666666666666,
              "#ed7953"
             ],
             [
              0.7777777777777778,
              "#fb9f3a"
             ],
             [
              0.8888888888888888,
              "#fdca26"
             ],
             [
              1,
              "#f0f921"
             ]
            ],
            "type": "surface"
           }
          ],
          "table": [
           {
            "cells": {
             "fill": {
              "color": "#EBF0F8"
             },
             "line": {
              "color": "white"
             }
            },
            "header": {
             "fill": {
              "color": "#C8D4E3"
             },
             "line": {
              "color": "white"
             }
            },
            "type": "table"
           }
          ]
         },
         "layout": {
          "annotationdefaults": {
           "arrowcolor": "#2a3f5f",
           "arrowhead": 0,
           "arrowwidth": 1
          },
          "autotypenumbers": "strict",
          "coloraxis": {
           "colorbar": {
            "outlinewidth": 0,
            "ticks": ""
           }
          },
          "colorscale": {
           "diverging": [
            [
             0,
             "#8e0152"
            ],
            [
             0.1,
             "#c51b7d"
            ],
            [
             0.2,
             "#de77ae"
            ],
            [
             0.3,
             "#f1b6da"
            ],
            [
             0.4,
             "#fde0ef"
            ],
            [
             0.5,
             "#f7f7f7"
            ],
            [
             0.6,
             "#e6f5d0"
            ],
            [
             0.7,
             "#b8e186"
            ],
            [
             0.8,
             "#7fbc41"
            ],
            [
             0.9,
             "#4d9221"
            ],
            [
             1,
             "#276419"
            ]
           ],
           "sequential": [
            [
             0,
             "#0d0887"
            ],
            [
             0.1111111111111111,
             "#46039f"
            ],
            [
             0.2222222222222222,
             "#7201a8"
            ],
            [
             0.3333333333333333,
             "#9c179e"
            ],
            [
             0.4444444444444444,
             "#bd3786"
            ],
            [
             0.5555555555555556,
             "#d8576b"
            ],
            [
             0.6666666666666666,
             "#ed7953"
            ],
            [
             0.7777777777777778,
             "#fb9f3a"
            ],
            [
             0.8888888888888888,
             "#fdca26"
            ],
            [
             1,
             "#f0f921"
            ]
           ],
           "sequentialminus": [
            [
             0,
             "#0d0887"
            ],
            [
             0.1111111111111111,
             "#46039f"
            ],
            [
             0.2222222222222222,
             "#7201a8"
            ],
            [
             0.3333333333333333,
             "#9c179e"
            ],
            [
             0.4444444444444444,
             "#bd3786"
            ],
            [
             0.5555555555555556,
             "#d8576b"
            ],
            [
             0.6666666666666666,
             "#ed7953"
            ],
            [
             0.7777777777777778,
             "#fb9f3a"
            ],
            [
             0.8888888888888888,
             "#fdca26"
            ],
            [
             1,
             "#f0f921"
            ]
           ]
          },
          "colorway": [
           "#636efa",
           "#EF553B",
           "#00cc96",
           "#ab63fa",
           "#FFA15A",
           "#19d3f3",
           "#FF6692",
           "#B6E880",
           "#FF97FF",
           "#FECB52"
          ],
          "font": {
           "color": "#2a3f5f"
          },
          "geo": {
           "bgcolor": "white",
           "lakecolor": "white",
           "landcolor": "#E5ECF6",
           "showlakes": true,
           "showland": true,
           "subunitcolor": "white"
          },
          "hoverlabel": {
           "align": "left"
          },
          "hovermode": "closest",
          "mapbox": {
           "style": "light"
          },
          "paper_bgcolor": "white",
          "plot_bgcolor": "#E5ECF6",
          "polar": {
           "angularaxis": {
            "gridcolor": "white",
            "linecolor": "white",
            "ticks": ""
           },
           "bgcolor": "#E5ECF6",
           "radialaxis": {
            "gridcolor": "white",
            "linecolor": "white",
            "ticks": ""
           }
          },
          "scene": {
           "xaxis": {
            "backgroundcolor": "#E5ECF6",
            "gridcolor": "white",
            "gridwidth": 2,
            "linecolor": "white",
            "showbackground": true,
            "ticks": "",
            "zerolinecolor": "white"
           },
           "yaxis": {
            "backgroundcolor": "#E5ECF6",
            "gridcolor": "white",
            "gridwidth": 2,
            "linecolor": "white",
            "showbackground": true,
            "ticks": "",
            "zerolinecolor": "white"
           },
           "zaxis": {
            "backgroundcolor": "#E5ECF6",
            "gridcolor": "white",
            "gridwidth": 2,
            "linecolor": "white",
            "showbackground": true,
            "ticks": "",
            "zerolinecolor": "white"
           }
          },
          "shapedefaults": {
           "line": {
            "color": "#2a3f5f"
           }
          },
          "ternary": {
           "aaxis": {
            "gridcolor": "white",
            "linecolor": "white",
            "ticks": ""
           },
           "baxis": {
            "gridcolor": "white",
            "linecolor": "white",
            "ticks": ""
           },
           "bgcolor": "#E5ECF6",
           "caxis": {
            "gridcolor": "white",
            "linecolor": "white",
            "ticks": ""
           }
          },
          "title": {
           "x": 0.05
          },
          "xaxis": {
           "automargin": true,
           "gridcolor": "white",
           "linecolor": "white",
           "ticks": "",
           "title": {
            "standoff": 15
           },
           "zerolinecolor": "white",
           "zerolinewidth": 2
          },
          "yaxis": {
           "automargin": true,
           "gridcolor": "white",
           "linecolor": "white",
           "ticks": "",
           "title": {
            "standoff": 15
           },
           "zerolinecolor": "white",
           "zerolinewidth": 2
          }
         }
        },
        "xaxis": {
         "anchor": "y",
         "domain": [
          0,
          1
         ],
         "title": {
          "text": "ano"
         }
        },
        "yaxis": {
         "anchor": "x",
         "domain": [
          0,
          1
         ],
         "title": {
          "text": "freq"
         }
        }
       }
      }
     },
     "metadata": {},
     "output_type": "display_data"
    }
   ],
   "source": [
    "fig = px.area(res_warhol, x=\"ano\", y=\"freq\",\n",
    "            color=\"tag\")\n",
    "            #hover_data=['petal_width'],)\n",
    " \n",
    "fig.show()"
   ]
  },
  {
   "cell_type": "markdown",
   "metadata": {},
   "source": [
    "## Picasso"
   ]
  },
  {
   "cell_type": "code",
   "execution_count": 302,
   "metadata": {},
   "outputs": [],
   "source": [
    "df[df['artistName']=='Picasso Pablo']['tags'].str.split(', ').apply(lambda x: pd.Series(x, dtype=object).value_counts()).sum().sort_values(ascending=False)[:30]\n",
    "#female-portraits\n",
    "#female-nude\n",
    "#male-portraits\n",
    "#dishware-and-cutlery\n",
    "#animals\n",
    "#musical-instruments\n",
    "#allegories-and-symbols\n",
    "#famous-people\n",
    "#male-nude\n",
    "#Still life photography\n",
    "\n",
    "tags_picasso = ['female-portraits', 'female-nude', 'male-portraits', 'dishware-and-cutlery', 'animals', 'musical-instruments', 'allegories-and-symbols', 'famous-people', 'male-nude', 'Still life photography']"
   ]
  },
  {
   "cell_type": "code",
   "execution_count": 303,
   "metadata": {},
   "outputs": [],
   "source": [
    "artista = 'Picasso Pablo'\n",
    "tags = tags_picasso"
   ]
  },
  {
   "cell_type": "code",
   "execution_count": 304,
   "metadata": {},
   "outputs": [
    {
     "data": {
      "text/plain": [
       "array([1890., 1893., 1895., 1896., 1897., 1898., 1899., 1900., 1901.,\n",
       "       1902., 1903., 1904., 1905., 1906., 1907., 1908., 1909., 1910.,\n",
       "       1911., 1912., 1913., 1914., 1915., 1916., 1917., 1918., 1919.,\n",
       "       1920., 1921., 1922., 1923., 1924., 1925., 1926., 1927., 1928.,\n",
       "       1929., 1930., 1931., 1932., 1933., 1934., 1935., 1936., 1937.,\n",
       "       1938., 1939., 1940., 1941., 1942., 1943., 1944., 1945., 1946.,\n",
       "       1947., 1948., 1949., 1950., 1951., 1952., 1953., 1954., 1955.,\n",
       "       1956., 1957., 1958., 1959., 1960., 1961., 1962., 1963., 1964.,\n",
       "       1965., 1966., 1967., 1968., 1969., 1970., 1971., 1972., 1973.])"
      ]
     },
     "execution_count": 304,
     "metadata": {},
     "output_type": "execute_result"
    }
   ],
   "source": [
    "df_picasso = df[df['artistName']==artista]\n",
    "df_picasso = df_picasso[df_picasso['tags'].notna()]\n",
    "df_picasso = df_picasso[df_picasso['completitionYear'].notna()]\n",
    "anos_picasso = df_picasso[df_picasso['artistName']==artista]['completitionYear'].unique()\n",
    "anos_picasso"
   ]
  },
  {
   "cell_type": "code",
   "execution_count": 306,
   "metadata": {},
   "outputs": [
    {
     "data": {
      "text/html": [
       "<div>\n",
       "<style scoped>\n",
       "    .dataframe tbody tr th:only-of-type {\n",
       "        vertical-align: middle;\n",
       "    }\n",
       "\n",
       "    .dataframe tbody tr th {\n",
       "        vertical-align: top;\n",
       "    }\n",
       "\n",
       "    .dataframe thead th {\n",
       "        text-align: right;\n",
       "    }\n",
       "</style>\n",
       "<table border=\"1\" class=\"dataframe\">\n",
       "  <thead>\n",
       "    <tr style=\"text-align: right;\">\n",
       "      <th></th>\n",
       "      <th>tag</th>\n",
       "      <th>freq</th>\n",
       "      <th>ano</th>\n",
       "    </tr>\n",
       "  </thead>\n",
       "  <tbody>\n",
       "    <tr>\n",
       "      <th>2</th>\n",
       "      <td>male-nude</td>\n",
       "      <td>1.0</td>\n",
       "      <td>1895.0</td>\n",
       "    </tr>\n",
       "    <tr>\n",
       "      <th>5</th>\n",
       "      <td>male-portraits</td>\n",
       "      <td>2.0</td>\n",
       "      <td>1895.0</td>\n",
       "    </tr>\n",
       "    <tr>\n",
       "      <th>6</th>\n",
       "      <td>female-nude</td>\n",
       "      <td>1.0</td>\n",
       "      <td>1895.0</td>\n",
       "    </tr>\n",
       "    <tr>\n",
       "      <th>7</th>\n",
       "      <td>female-portraits</td>\n",
       "      <td>1.0</td>\n",
       "      <td>1895.0</td>\n",
       "    </tr>\n",
       "    <tr>\n",
       "      <th>0</th>\n",
       "      <td>female-portraits</td>\n",
       "      <td>3.0</td>\n",
       "      <td>1896.0</td>\n",
       "    </tr>\n",
       "    <tr>\n",
       "      <th>...</th>\n",
       "      <td>...</td>\n",
       "      <td>...</td>\n",
       "      <td>...</td>\n",
       "    </tr>\n",
       "    <tr>\n",
       "      <th>4</th>\n",
       "      <td>female-nude</td>\n",
       "      <td>7.0</td>\n",
       "      <td>1971.0</td>\n",
       "    </tr>\n",
       "    <tr>\n",
       "      <th>5</th>\n",
       "      <td>male-nude</td>\n",
       "      <td>3.0</td>\n",
       "      <td>1971.0</td>\n",
       "    </tr>\n",
       "    <tr>\n",
       "      <th>12</th>\n",
       "      <td>animals</td>\n",
       "      <td>1.0</td>\n",
       "      <td>1971.0</td>\n",
       "    </tr>\n",
       "    <tr>\n",
       "      <th>0</th>\n",
       "      <td>male-portraits</td>\n",
       "      <td>1.0</td>\n",
       "      <td>1972.0</td>\n",
       "    </tr>\n",
       "    <tr>\n",
       "      <th>5</th>\n",
       "      <td>famous-people</td>\n",
       "      <td>1.0</td>\n",
       "      <td>1972.0</td>\n",
       "    </tr>\n",
       "  </tbody>\n",
       "</table>\n",
       "<p>315 rows × 3 columns</p>\n",
       "</div>"
      ],
      "text/plain": [
       "                 tag  freq     ano\n",
       "2          male-nude   1.0  1895.0\n",
       "5     male-portraits   2.0  1895.0\n",
       "6        female-nude   1.0  1895.0\n",
       "7   female-portraits   1.0  1895.0\n",
       "0   female-portraits   3.0  1896.0\n",
       "..               ...   ...     ...\n",
       "4        female-nude   7.0  1971.0\n",
       "5          male-nude   3.0  1971.0\n",
       "12           animals   1.0  1971.0\n",
       "0     male-portraits   1.0  1972.0\n",
       "5      famous-people   1.0  1972.0\n",
       "\n",
       "[315 rows x 3 columns]"
      ]
     },
     "execution_count": 306,
     "metadata": {},
     "output_type": "execute_result"
    }
   ],
   "source": [
    "res_picasso = pd.DataFrame(columns = ['tag', 'freq', 'ano'])\n",
    "for ano in anos_picasso:\n",
    "    dfano = df_picasso[df_picasso['completitionYear']==ano]\n",
    "    tags_ano = dfano['tags'].str.split(', ').apply(lambda x: pd.Series(x, dtype=object).value_counts()).sum().rename_axis('tag').reset_index(name='freq')\n",
    "    tags_ano['ano'] = ano\n",
    "    res = tags_ano[tags_ano['tag'].isin(tags_picasso)]\n",
    "    #res['ano'] = ano\n",
    "    res_picasso = res_picasso.append(res)\n",
    "\n",
    "res_picasso\n"
   ]
  },
  {
   "cell_type": "code",
   "execution_count": 307,
   "metadata": {},
   "outputs": [
    {
     "data": {
      "application/vnd.plotly.v1+json": {
       "config": {
        "plotlyServerURL": "https://plot.ly"
       },
       "data": [
        {
         "hovertemplate": "tag=male-nude<br>ano=%{x}<br>freq=%{y}<extra></extra>",
         "legendgroup": "male-nude",
         "line": {
          "color": "#636efa"
         },
         "marker": {
          "symbol": "circle"
         },
         "mode": "lines",
         "name": "male-nude",
         "orientation": "v",
         "showlegend": true,
         "stackgroup": "1",
         "type": "scatter",
         "x": [
          1895,
          1902,
          1903,
          1904,
          1906,
          1908,
          1920,
          1921,
          1927,
          1933,
          1938,
          1956,
          1958,
          1965,
          1967,
          1971
         ],
         "xaxis": "x",
         "y": [
          1,
          2,
          3,
          3,
          5,
          1,
          1,
          2,
          1,
          3,
          2,
          1,
          1,
          1,
          3,
          3
         ],
         "yaxis": "y"
        },
        {
         "hovertemplate": "tag=male-portraits<br>ano=%{x}<br>freq=%{y}<extra></extra>",
         "legendgroup": "male-portraits",
         "line": {
          "color": "#EF553B"
         },
         "marker": {
          "symbol": "circle"
         },
         "mode": "lines",
         "name": "male-portraits",
         "orientation": "v",
         "showlegend": true,
         "stackgroup": "1",
         "type": "scatter",
         "x": [
          1895,
          1896,
          1899,
          1900,
          1901,
          1902,
          1903,
          1904,
          1905,
          1906,
          1907,
          1908,
          1909,
          1910,
          1911,
          1912,
          1913,
          1915,
          1917,
          1918,
          1919,
          1920,
          1922,
          1923,
          1924,
          1925,
          1929,
          1937,
          1938,
          1939,
          1948,
          1953,
          1954,
          1962,
          1963,
          1965,
          1967,
          1970,
          1971,
          1972
         ],
         "xaxis": "x",
         "y": [
          2,
          1,
          3,
          2,
          14,
          3,
          5,
          5,
          7,
          8,
          3,
          3,
          2,
          3,
          1,
          2,
          4,
          1,
          4,
          4,
          2,
          5,
          1,
          4,
          1,
          2,
          2,
          1,
          6,
          1,
          1,
          1,
          1,
          1,
          1,
          1,
          2,
          4,
          2,
          1
         ],
         "yaxis": "y"
        },
        {
         "hovertemplate": "tag=female-nude<br>ano=%{x}<br>freq=%{y}<extra></extra>",
         "legendgroup": "female-nude",
         "line": {
          "color": "#00cc96"
         },
         "marker": {
          "symbol": "circle"
         },
         "mode": "lines",
         "name": "female-nude",
         "orientation": "v",
         "showlegend": true,
         "stackgroup": "1",
         "type": "scatter",
         "x": [
          1895,
          1900,
          1901,
          1902,
          1903,
          1904,
          1905,
          1906,
          1907,
          1908,
          1909,
          1910,
          1920,
          1921,
          1923,
          1927,
          1928,
          1929,
          1930,
          1931,
          1932,
          1933,
          1934,
          1935,
          1936,
          1937,
          1938,
          1939,
          1940,
          1941,
          1942,
          1944,
          1946,
          1953,
          1954,
          1955,
          1956,
          1958,
          1959,
          1960,
          1961,
          1962,
          1963,
          1964,
          1965,
          1966,
          1967,
          1968,
          1970,
          1971
         ],
         "xaxis": "x",
         "y": [
          1,
          1,
          4,
          4,
          8,
          6,
          5,
          24,
          13,
          13,
          3,
          2,
          10,
          1,
          1,
          2,
          3,
          3,
          1,
          2,
          11,
          5,
          2,
          1,
          3,
          1,
          1,
          3,
          1,
          2,
          2,
          1,
          1,
          2,
          1,
          7,
          5,
          3,
          3,
          2,
          2,
          1,
          4,
          7,
          2,
          1,
          6,
          2,
          4,
          7
         ],
         "yaxis": "y"
        },
        {
         "hovertemplate": "tag=female-portraits<br>ano=%{x}<br>freq=%{y}<extra></extra>",
         "legendgroup": "female-portraits",
         "line": {
          "color": "#ab63fa"
         },
         "marker": {
          "symbol": "circle"
         },
         "mode": "lines",
         "name": "female-portraits",
         "orientation": "v",
         "showlegend": true,
         "stackgroup": "1",
         "type": "scatter",
         "x": [
          1895,
          1896,
          1899,
          1901,
          1902,
          1903,
          1904,
          1905,
          1906,
          1907,
          1908,
          1909,
          1911,
          1912,
          1913,
          1914,
          1917,
          1919,
          1920,
          1921,
          1922,
          1923,
          1924,
          1926,
          1927,
          1929,
          1930,
          1931,
          1932,
          1934,
          1935,
          1936,
          1937,
          1938,
          1939,
          1940,
          1941,
          1942,
          1943,
          1944,
          1945,
          1946,
          1947,
          1948,
          1949,
          1950,
          1951,
          1952,
          1953,
          1954,
          1955,
          1956,
          1957,
          1960,
          1961,
          1962,
          1964,
          1965,
          1966,
          1970,
          1971
         ],
         "xaxis": "x",
         "y": [
          1,
          3,
          2,
          19,
          8,
          2,
          8,
          8,
          7,
          7,
          5,
          3,
          2,
          1,
          1,
          1,
          3,
          2,
          5,
          7,
          1,
          8,
          1,
          1,
          1,
          3,
          1,
          3,
          4,
          2,
          3,
          14,
          19,
          5,
          14,
          1,
          10,
          3,
          4,
          2,
          2,
          2,
          1,
          1,
          2,
          1,
          1,
          1,
          2,
          7,
          2,
          1,
          3,
          3,
          1,
          5,
          1,
          1,
          1,
          1,
          2
         ],
         "yaxis": "y"
        },
        {
         "hovertemplate": "tag=famous-people<br>ano=%{x}<br>freq=%{y}<extra></extra>",
         "legendgroup": "famous-people",
         "line": {
          "color": "#FFA15A"
         },
         "marker": {
          "symbol": "circle"
         },
         "mode": "lines",
         "name": "famous-people",
         "orientation": "v",
         "showlegend": true,
         "stackgroup": "1",
         "type": "scatter",
         "x": [
          1896,
          1900,
          1901,
          1902,
          1903,
          1904,
          1906,
          1907,
          1910,
          1917,
          1919,
          1920,
          1923,
          1929,
          1932,
          1937,
          1939,
          1941,
          1950,
          1951,
          1957,
          1959,
          1965,
          1972
         ],
         "xaxis": "x",
         "y": [
          1,
          1,
          6,
          1,
          1,
          2,
          4,
          1,
          2,
          2,
          2,
          2,
          2,
          1,
          1,
          2,
          1,
          1,
          1,
          1,
          8,
          1,
          1,
          1
         ],
         "yaxis": "y"
        },
        {
         "hovertemplate": "tag=animals<br>ano=%{x}<br>freq=%{y}<extra></extra>",
         "legendgroup": "animals",
         "line": {
          "color": "#19d3f3"
         },
         "marker": {
          "symbol": "circle"
         },
         "mode": "lines",
         "name": "animals",
         "orientation": "v",
         "showlegend": true,
         "stackgroup": "1",
         "type": "scatter",
         "x": [
          1898,
          1900,
          1901,
          1903,
          1905,
          1906,
          1917,
          1923,
          1933,
          1934,
          1935,
          1936,
          1937,
          1938,
          1939,
          1941,
          1945,
          1946,
          1951,
          1955,
          1956,
          1959,
          1962,
          1963,
          1964,
          1967,
          1971
         ],
         "xaxis": "x",
         "y": [
          1,
          3,
          2,
          1,
          6,
          4,
          1,
          1,
          1,
          6,
          1,
          3,
          1,
          3,
          2,
          1,
          8,
          5,
          1,
          2,
          1,
          2,
          1,
          1,
          4,
          1,
          1
         ],
         "yaxis": "y"
        },
        {
         "hovertemplate": "tag=allegories-and-symbols<br>ano=%{x}<br>freq=%{y}<extra></extra>",
         "legendgroup": "allegories-and-symbols",
         "line": {
          "color": "#FF6692"
         },
         "marker": {
          "symbol": "circle"
         },
         "mode": "lines",
         "name": "allegories-and-symbols",
         "orientation": "v",
         "showlegend": true,
         "stackgroup": "1",
         "type": "scatter",
         "x": [
          1900,
          1901,
          1903,
          1904,
          1905,
          1906,
          1908,
          1911,
          1912,
          1914,
          1917,
          1919,
          1920,
          1921,
          1923,
          1925,
          1928,
          1930,
          1931,
          1932,
          1933,
          1936,
          1937,
          1938,
          1939,
          1941,
          1942,
          1943,
          1944,
          1945,
          1946,
          1953,
          1961,
          1962,
          1963
         ],
         "xaxis": "x",
         "y": [
          1,
          2,
          2,
          2,
          1,
          1,
          1,
          1,
          2,
          1,
          1,
          1,
          2,
          2,
          1,
          3,
          1,
          2,
          1,
          1,
          1,
          3,
          4,
          2,
          1,
          1,
          1,
          2,
          1,
          1,
          2,
          2,
          2,
          3,
          2
         ],
         "yaxis": "y"
        },
        {
         "hovertemplate": "tag=dishware-and-cutlery<br>ano=%{x}<br>freq=%{y}<extra></extra>",
         "legendgroup": "dishware-and-cutlery",
         "line": {
          "color": "#B6E880"
         },
         "marker": {
          "symbol": "circle"
         },
         "mode": "lines",
         "name": "dishware-and-cutlery",
         "orientation": "v",
         "showlegend": true,
         "stackgroup": "1",
         "type": "scatter",
         "x": [
          1901,
          1903,
          1906,
          1907,
          1908,
          1909,
          1911,
          1912,
          1913,
          1914,
          1917,
          1918,
          1919,
          1920,
          1921,
          1922,
          1924,
          1925,
          1931,
          1936,
          1937,
          1938,
          1939,
          1944,
          1945,
          1947,
          1955
         ],
         "xaxis": "x",
         "y": [
          1,
          1,
          2,
          2,
          6,
          2,
          3,
          10,
          4,
          12,
          2,
          1,
          2,
          2,
          3,
          1,
          1,
          1,
          1,
          5,
          3,
          1,
          2,
          2,
          3,
          2,
          1
         ],
         "yaxis": "y"
        },
        {
         "hovertemplate": "tag=Still life photography<br>ano=%{x}<br>freq=%{y}<extra></extra>",
         "legendgroup": "Still life photography",
         "line": {
          "color": "#FF97FF"
         },
         "marker": {
          "symbol": "circle"
         },
         "mode": "lines",
         "name": "Still life photography",
         "orientation": "v",
         "showlegend": true,
         "stackgroup": "1",
         "type": "scatter",
         "x": [
          1901,
          1906,
          1907,
          1908,
          1909,
          1914,
          1918,
          1919,
          1921,
          1932,
          1936,
          1937,
          1939,
          1942,
          1943,
          1945
         ],
         "xaxis": "x",
         "y": [
          1,
          2,
          1,
          8,
          2,
          4,
          1,
          1,
          1,
          1,
          2,
          2,
          1,
          1,
          2,
          1
         ],
         "yaxis": "y"
        },
        {
         "hovertemplate": "tag=musical-instruments<br>ano=%{x}<br>freq=%{y}<extra></extra>",
         "legendgroup": "musical-instruments",
         "line": {
          "color": "#FECB52"
         },
         "marker": {
          "symbol": "circle"
         },
         "mode": "lines",
         "name": "musical-instruments",
         "orientation": "v",
         "showlegend": true,
         "stackgroup": "1",
         "type": "scatter",
         "x": [
          1903,
          1905,
          1910,
          1911,
          1912,
          1913,
          1914,
          1916,
          1917,
          1918,
          1919,
          1920,
          1921,
          1922,
          1924,
          1925,
          1926,
          1942,
          1957
         ],
         "xaxis": "x",
         "y": [
          1,
          1,
          1,
          4,
          13,
          9,
          2,
          2,
          1,
          1,
          3,
          10,
          1,
          1,
          3,
          3,
          2,
          1,
          1
         ],
         "yaxis": "y"
        }
       ],
       "layout": {
        "legend": {
         "title": {
          "text": "tag"
         },
         "tracegroupgap": 0
        },
        "margin": {
         "t": 60
        },
        "template": {
         "data": {
          "bar": [
           {
            "error_x": {
             "color": "#2a3f5f"
            },
            "error_y": {
             "color": "#2a3f5f"
            },
            "marker": {
             "line": {
              "color": "#E5ECF6",
              "width": 0.5
             },
             "pattern": {
              "fillmode": "overlay",
              "size": 10,
              "solidity": 0.2
             }
            },
            "type": "bar"
           }
          ],
          "barpolar": [
           {
            "marker": {
             "line": {
              "color": "#E5ECF6",
              "width": 0.5
             },
             "pattern": {
              "fillmode": "overlay",
              "size": 10,
              "solidity": 0.2
             }
            },
            "type": "barpolar"
           }
          ],
          "carpet": [
           {
            "aaxis": {
             "endlinecolor": "#2a3f5f",
             "gridcolor": "white",
             "linecolor": "white",
             "minorgridcolor": "white",
             "startlinecolor": "#2a3f5f"
            },
            "baxis": {
             "endlinecolor": "#2a3f5f",
             "gridcolor": "white",
             "linecolor": "white",
             "minorgridcolor": "white",
             "startlinecolor": "#2a3f5f"
            },
            "type": "carpet"
           }
          ],
          "choropleth": [
           {
            "colorbar": {
             "outlinewidth": 0,
             "ticks": ""
            },
            "type": "choropleth"
           }
          ],
          "contour": [
           {
            "colorbar": {
             "outlinewidth": 0,
             "ticks": ""
            },
            "colorscale": [
             [
              0,
              "#0d0887"
             ],
             [
              0.1111111111111111,
              "#46039f"
             ],
             [
              0.2222222222222222,
              "#7201a8"
             ],
             [
              0.3333333333333333,
              "#9c179e"
             ],
             [
              0.4444444444444444,
              "#bd3786"
             ],
             [
              0.5555555555555556,
              "#d8576b"
             ],
             [
              0.6666666666666666,
              "#ed7953"
             ],
             [
              0.7777777777777778,
              "#fb9f3a"
             ],
             [
              0.8888888888888888,
              "#fdca26"
             ],
             [
              1,
              "#f0f921"
             ]
            ],
            "type": "contour"
           }
          ],
          "contourcarpet": [
           {
            "colorbar": {
             "outlinewidth": 0,
             "ticks": ""
            },
            "type": "contourcarpet"
           }
          ],
          "heatmap": [
           {
            "colorbar": {
             "outlinewidth": 0,
             "ticks": ""
            },
            "colorscale": [
             [
              0,
              "#0d0887"
             ],
             [
              0.1111111111111111,
              "#46039f"
             ],
             [
              0.2222222222222222,
              "#7201a8"
             ],
             [
              0.3333333333333333,
              "#9c179e"
             ],
             [
              0.4444444444444444,
              "#bd3786"
             ],
             [
              0.5555555555555556,
              "#d8576b"
             ],
             [
              0.6666666666666666,
              "#ed7953"
             ],
             [
              0.7777777777777778,
              "#fb9f3a"
             ],
             [
              0.8888888888888888,
              "#fdca26"
             ],
             [
              1,
              "#f0f921"
             ]
            ],
            "type": "heatmap"
           }
          ],
          "heatmapgl": [
           {
            "colorbar": {
             "outlinewidth": 0,
             "ticks": ""
            },
            "colorscale": [
             [
              0,
              "#0d0887"
             ],
             [
              0.1111111111111111,
              "#46039f"
             ],
             [
              0.2222222222222222,
              "#7201a8"
             ],
             [
              0.3333333333333333,
              "#9c179e"
             ],
             [
              0.4444444444444444,
              "#bd3786"
             ],
             [
              0.5555555555555556,
              "#d8576b"
             ],
             [
              0.6666666666666666,
              "#ed7953"
             ],
             [
              0.7777777777777778,
              "#fb9f3a"
             ],
             [
              0.8888888888888888,
              "#fdca26"
             ],
             [
              1,
              "#f0f921"
             ]
            ],
            "type": "heatmapgl"
           }
          ],
          "histogram": [
           {
            "marker": {
             "pattern": {
              "fillmode": "overlay",
              "size": 10,
              "solidity": 0.2
             }
            },
            "type": "histogram"
           }
          ],
          "histogram2d": [
           {
            "colorbar": {
             "outlinewidth": 0,
             "ticks": ""
            },
            "colorscale": [
             [
              0,
              "#0d0887"
             ],
             [
              0.1111111111111111,
              "#46039f"
             ],
             [
              0.2222222222222222,
              "#7201a8"
             ],
             [
              0.3333333333333333,
              "#9c179e"
             ],
             [
              0.4444444444444444,
              "#bd3786"
             ],
             [
              0.5555555555555556,
              "#d8576b"
             ],
             [
              0.6666666666666666,
              "#ed7953"
             ],
             [
              0.7777777777777778,
              "#fb9f3a"
             ],
             [
              0.8888888888888888,
              "#fdca26"
             ],
             [
              1,
              "#f0f921"
             ]
            ],
            "type": "histogram2d"
           }
          ],
          "histogram2dcontour": [
           {
            "colorbar": {
             "outlinewidth": 0,
             "ticks": ""
            },
            "colorscale": [
             [
              0,
              "#0d0887"
             ],
             [
              0.1111111111111111,
              "#46039f"
             ],
             [
              0.2222222222222222,
              "#7201a8"
             ],
             [
              0.3333333333333333,
              "#9c179e"
             ],
             [
              0.4444444444444444,
              "#bd3786"
             ],
             [
              0.5555555555555556,
              "#d8576b"
             ],
             [
              0.6666666666666666,
              "#ed7953"
             ],
             [
              0.7777777777777778,
              "#fb9f3a"
             ],
             [
              0.8888888888888888,
              "#fdca26"
             ],
             [
              1,
              "#f0f921"
             ]
            ],
            "type": "histogram2dcontour"
           }
          ],
          "mesh3d": [
           {
            "colorbar": {
             "outlinewidth": 0,
             "ticks": ""
            },
            "type": "mesh3d"
           }
          ],
          "parcoords": [
           {
            "line": {
             "colorbar": {
              "outlinewidth": 0,
              "ticks": ""
             }
            },
            "type": "parcoords"
           }
          ],
          "pie": [
           {
            "automargin": true,
            "type": "pie"
           }
          ],
          "scatter": [
           {
            "marker": {
             "colorbar": {
              "outlinewidth": 0,
              "ticks": ""
             }
            },
            "type": "scatter"
           }
          ],
          "scatter3d": [
           {
            "line": {
             "colorbar": {
              "outlinewidth": 0,
              "ticks": ""
             }
            },
            "marker": {
             "colorbar": {
              "outlinewidth": 0,
              "ticks": ""
             }
            },
            "type": "scatter3d"
           }
          ],
          "scattercarpet": [
           {
            "marker": {
             "colorbar": {
              "outlinewidth": 0,
              "ticks": ""
             }
            },
            "type": "scattercarpet"
           }
          ],
          "scattergeo": [
           {
            "marker": {
             "colorbar": {
              "outlinewidth": 0,
              "ticks": ""
             }
            },
            "type": "scattergeo"
           }
          ],
          "scattergl": [
           {
            "marker": {
             "colorbar": {
              "outlinewidth": 0,
              "ticks": ""
             }
            },
            "type": "scattergl"
           }
          ],
          "scattermapbox": [
           {
            "marker": {
             "colorbar": {
              "outlinewidth": 0,
              "ticks": ""
             }
            },
            "type": "scattermapbox"
           }
          ],
          "scatterpolar": [
           {
            "marker": {
             "colorbar": {
              "outlinewidth": 0,
              "ticks": ""
             }
            },
            "type": "scatterpolar"
           }
          ],
          "scatterpolargl": [
           {
            "marker": {
             "colorbar": {
              "outlinewidth": 0,
              "ticks": ""
             }
            },
            "type": "scatterpolargl"
           }
          ],
          "scatterternary": [
           {
            "marker": {
             "colorbar": {
              "outlinewidth": 0,
              "ticks": ""
             }
            },
            "type": "scatterternary"
           }
          ],
          "surface": [
           {
            "colorbar": {
             "outlinewidth": 0,
             "ticks": ""
            },
            "colorscale": [
             [
              0,
              "#0d0887"
             ],
             [
              0.1111111111111111,
              "#46039f"
             ],
             [
              0.2222222222222222,
              "#7201a8"
             ],
             [
              0.3333333333333333,
              "#9c179e"
             ],
             [
              0.4444444444444444,
              "#bd3786"
             ],
             [
              0.5555555555555556,
              "#d8576b"
             ],
             [
              0.6666666666666666,
              "#ed7953"
             ],
             [
              0.7777777777777778,
              "#fb9f3a"
             ],
             [
              0.8888888888888888,
              "#fdca26"
             ],
             [
              1,
              "#f0f921"
             ]
            ],
            "type": "surface"
           }
          ],
          "table": [
           {
            "cells": {
             "fill": {
              "color": "#EBF0F8"
             },
             "line": {
              "color": "white"
             }
            },
            "header": {
             "fill": {
              "color": "#C8D4E3"
             },
             "line": {
              "color": "white"
             }
            },
            "type": "table"
           }
          ]
         },
         "layout": {
          "annotationdefaults": {
           "arrowcolor": "#2a3f5f",
           "arrowhead": 0,
           "arrowwidth": 1
          },
          "autotypenumbers": "strict",
          "coloraxis": {
           "colorbar": {
            "outlinewidth": 0,
            "ticks": ""
           }
          },
          "colorscale": {
           "diverging": [
            [
             0,
             "#8e0152"
            ],
            [
             0.1,
             "#c51b7d"
            ],
            [
             0.2,
             "#de77ae"
            ],
            [
             0.3,
             "#f1b6da"
            ],
            [
             0.4,
             "#fde0ef"
            ],
            [
             0.5,
             "#f7f7f7"
            ],
            [
             0.6,
             "#e6f5d0"
            ],
            [
             0.7,
             "#b8e186"
            ],
            [
             0.8,
             "#7fbc41"
            ],
            [
             0.9,
             "#4d9221"
            ],
            [
             1,
             "#276419"
            ]
           ],
           "sequential": [
            [
             0,
             "#0d0887"
            ],
            [
             0.1111111111111111,
             "#46039f"
            ],
            [
             0.2222222222222222,
             "#7201a8"
            ],
            [
             0.3333333333333333,
             "#9c179e"
            ],
            [
             0.4444444444444444,
             "#bd3786"
            ],
            [
             0.5555555555555556,
             "#d8576b"
            ],
            [
             0.6666666666666666,
             "#ed7953"
            ],
            [
             0.7777777777777778,
             "#fb9f3a"
            ],
            [
             0.8888888888888888,
             "#fdca26"
            ],
            [
             1,
             "#f0f921"
            ]
           ],
           "sequentialminus": [
            [
             0,
             "#0d0887"
            ],
            [
             0.1111111111111111,
             "#46039f"
            ],
            [
             0.2222222222222222,
             "#7201a8"
            ],
            [
             0.3333333333333333,
             "#9c179e"
            ],
            [
             0.4444444444444444,
             "#bd3786"
            ],
            [
             0.5555555555555556,
             "#d8576b"
            ],
            [
             0.6666666666666666,
             "#ed7953"
            ],
            [
             0.7777777777777778,
             "#fb9f3a"
            ],
            [
             0.8888888888888888,
             "#fdca26"
            ],
            [
             1,
             "#f0f921"
            ]
           ]
          },
          "colorway": [
           "#636efa",
           "#EF553B",
           "#00cc96",
           "#ab63fa",
           "#FFA15A",
           "#19d3f3",
           "#FF6692",
           "#B6E880",
           "#FF97FF",
           "#FECB52"
          ],
          "font": {
           "color": "#2a3f5f"
          },
          "geo": {
           "bgcolor": "white",
           "lakecolor": "white",
           "landcolor": "#E5ECF6",
           "showlakes": true,
           "showland": true,
           "subunitcolor": "white"
          },
          "hoverlabel": {
           "align": "left"
          },
          "hovermode": "closest",
          "mapbox": {
           "style": "light"
          },
          "paper_bgcolor": "white",
          "plot_bgcolor": "#E5ECF6",
          "polar": {
           "angularaxis": {
            "gridcolor": "white",
            "linecolor": "white",
            "ticks": ""
           },
           "bgcolor": "#E5ECF6",
           "radialaxis": {
            "gridcolor": "white",
            "linecolor": "white",
            "ticks": ""
           }
          },
          "scene": {
           "xaxis": {
            "backgroundcolor": "#E5ECF6",
            "gridcolor": "white",
            "gridwidth": 2,
            "linecolor": "white",
            "showbackground": true,
            "ticks": "",
            "zerolinecolor": "white"
           },
           "yaxis": {
            "backgroundcolor": "#E5ECF6",
            "gridcolor": "white",
            "gridwidth": 2,
            "linecolor": "white",
            "showbackground": true,
            "ticks": "",
            "zerolinecolor": "white"
           },
           "zaxis": {
            "backgroundcolor": "#E5ECF6",
            "gridcolor": "white",
            "gridwidth": 2,
            "linecolor": "white",
            "showbackground": true,
            "ticks": "",
            "zerolinecolor": "white"
           }
          },
          "shapedefaults": {
           "line": {
            "color": "#2a3f5f"
           }
          },
          "ternary": {
           "aaxis": {
            "gridcolor": "white",
            "linecolor": "white",
            "ticks": ""
           },
           "baxis": {
            "gridcolor": "white",
            "linecolor": "white",
            "ticks": ""
           },
           "bgcolor": "#E5ECF6",
           "caxis": {
            "gridcolor": "white",
            "linecolor": "white",
            "ticks": ""
           }
          },
          "title": {
           "x": 0.05
          },
          "xaxis": {
           "automargin": true,
           "gridcolor": "white",
           "linecolor": "white",
           "ticks": "",
           "title": {
            "standoff": 15
           },
           "zerolinecolor": "white",
           "zerolinewidth": 2
          },
          "yaxis": {
           "automargin": true,
           "gridcolor": "white",
           "linecolor": "white",
           "ticks": "",
           "title": {
            "standoff": 15
           },
           "zerolinecolor": "white",
           "zerolinewidth": 2
          }
         }
        },
        "xaxis": {
         "anchor": "y",
         "domain": [
          0,
          1
         ],
         "title": {
          "text": "ano"
         }
        },
        "yaxis": {
         "anchor": "x",
         "domain": [
          0,
          1
         ],
         "title": {
          "text": "freq"
         }
        }
       }
      }
     },
     "metadata": {},
     "output_type": "display_data"
    }
   ],
   "source": [
    "fig = px.area(res_picasso, x=\"ano\", y=\"freq\",\n",
    "            color=\"tag\")\n",
    "            #hover_data=['petal_width'],)\n",
    " \n",
    "fig.show()"
   ]
  },
  {
   "cell_type": "code",
   "execution_count": 349,
   "metadata": {},
   "outputs": [
    {
     "data": {
      "text/plain": [
       "1.0"
      ]
     },
     "execution_count": 349,
     "metadata": {},
     "output_type": "execute_result"
    }
   ],
   "source": [
    "res_picasso[(res_picasso['tag']==tags_picasso[8]) & (res_picasso['ano']==anos_picasso[2])]['freq'].values[0]"
   ]
  },
  {
   "cell_type": "code",
   "execution_count": 392,
   "metadata": {},
   "outputs": [
    {
     "name": "stdout",
     "output_type": "stream",
     "text": [
      "female-portraits\n",
      "2.0\n",
      "female-nude\n",
      "0\n",
      "male-portraits\n",
      "2.0\n",
      "dishware-and-cutlery\n",
      "2.0\n",
      "animals\n",
      "0\n",
      "musical-instruments\n",
      "3.0\n",
      "allegories-and-symbols\n",
      "1.0\n",
      "famous-people\n",
      "2.0\n",
      "male-nude\n",
      "0\n",
      "Still life photography\n",
      "1.0\n"
     ]
    }
   ],
   "source": [
    "yfinal = []\n",
    "for tag in tags_picasso:\n",
    "    aux = []\n",
    "    for ano in anos_picasso:\n",
    "        filtrado = res_picasso[(res_picasso['tag']==tag) & (res_picasso['ano']==ano)]\n",
    "        if len(filtrado)>0:\n",
    "            aux.append(filtrado['freq'].values[0])\n",
    "        else:\n",
    "            aux.append(0)\n",
    "    print(tag)\n",
    "    print(aux[26])\n",
    "    yfinal.append(aux)"
   ]
  },
  {
   "cell_type": "code",
   "execution_count": 391,
   "metadata": {},
   "outputs": [
    {
     "data": {
      "text/plain": [
       "array([1890., 1893., 1895., 1896., 1897., 1898., 1899., 1900., 1901.,\n",
       "       1902., 1903., 1904., 1905., 1906., 1907., 1908., 1909., 1910.,\n",
       "       1911., 1912., 1913., 1914., 1915., 1916., 1917., 1918., 1919.,\n",
       "       1920., 1921., 1922., 1923., 1924., 1925., 1926., 1927., 1928.,\n",
       "       1929., 1930., 1931., 1932., 1933., 1934., 1935., 1936., 1937.,\n",
       "       1938., 1939., 1940., 1941., 1942., 1943., 1944., 1945., 1946.,\n",
       "       1947., 1948., 1949., 1950., 1951., 1952., 1953., 1954., 1955.,\n",
       "       1956., 1957., 1958., 1959., 1960., 1961., 1962., 1963., 1964.,\n",
       "       1965., 1966., 1967., 1968., 1969., 1970., 1971., 1972., 1973.])"
      ]
     },
     "execution_count": 391,
     "metadata": {},
     "output_type": "execute_result"
    }
   ],
   "source": [
    "anos_picasso"
   ]
  },
  {
   "cell_type": "code",
   "execution_count": 372,
   "metadata": {},
   "outputs": [
    {
     "data": {
      "text/plain": [
       "'male-nude'"
      ]
     },
     "execution_count": 372,
     "metadata": {},
     "output_type": "execute_result"
    }
   ],
   "source": [
    "tags_picasso[8]"
   ]
  },
  {
   "cell_type": "code",
   "execution_count": 389,
   "metadata": {},
   "outputs": [
    {
     "data": {
      "text/plain": [
       "['female-portraits',\n",
       " 'female-nude',\n",
       " 'male-portraits',\n",
       " 'dishware-and-cutlery',\n",
       " 'animals',\n",
       " 'musical-instruments',\n",
       " 'allegories-and-symbols',\n",
       " 'famous-people',\n",
       " 'male-nude',\n",
       " 'Still life photography']"
      ]
     },
     "execution_count": 389,
     "metadata": {},
     "output_type": "execute_result"
    }
   ],
   "source": [
    "tags_picasso"
   ]
  },
  {
   "cell_type": "code",
   "execution_count": 394,
   "metadata": {},
   "outputs": [
    {
     "data": {
      "application/vnd.plotly.v1+json": {
       "config": {
        "plotlyServerURL": "https://plot.ly"
       },
       "data": [
        {
         "hoverinfo": "x+y",
         "line": {
          "color": "#a6cee3",
          "width": 0.5
         },
         "mode": "lines",
         "stackgroup": "one",
         "type": "scatter",
         "x": [
          1895,
          1896,
          1898,
          1899,
          1900,
          1901,
          1902,
          1903,
          1904,
          1905,
          1906,
          1907,
          1908,
          1909,
          1910,
          1911,
          1912,
          1913,
          1914,
          1915,
          1916,
          1917,
          1918,
          1919,
          1920,
          1921,
          1922,
          1923,
          1924,
          1925,
          1926,
          1927,
          1928,
          1929,
          1930,
          1931,
          1932,
          1933,
          1934,
          1935,
          1936,
          1937,
          1938,
          1939,
          1940,
          1941,
          1942,
          1943,
          1944,
          1945,
          1946,
          1947,
          1948,
          1949,
          1950,
          1951,
          1952,
          1953,
          1954,
          1955,
          1956,
          1957,
          1958,
          1959,
          1960,
          1961,
          1962,
          1963,
          1964,
          1965,
          1966,
          1967,
          1968,
          1970,
          1971,
          1972
         ],
         "y": [
          0,
          0,
          1,
          3,
          0,
          0,
          2,
          0,
          19,
          8,
          2,
          8,
          8,
          7,
          7,
          5,
          3,
          0,
          2,
          1,
          1,
          1,
          0,
          0,
          3,
          0,
          2,
          5,
          7,
          1,
          8,
          1,
          0,
          1,
          1,
          0,
          3,
          1,
          3,
          4,
          0,
          2,
          3,
          14,
          19,
          5,
          14,
          1,
          10,
          3,
          4,
          2,
          2,
          2,
          1,
          1,
          2,
          1,
          1,
          1,
          2,
          7,
          2,
          1,
          3,
          0,
          0,
          3,
          1,
          5,
          0,
          1,
          1,
          1,
          0,
          0,
          0,
          1,
          2,
          0,
          0
         ]
        },
        {
         "hoverinfo": "x+y",
         "line": {
          "color": "#1f78b4",
          "width": 0.5
         },
         "mode": "lines",
         "stackgroup": "one",
         "type": "scatter",
         "x": [
          1895,
          1896,
          1898,
          1899,
          1900,
          1901,
          1902,
          1903,
          1904,
          1905,
          1906,
          1907,
          1908,
          1909,
          1910,
          1911,
          1912,
          1913,
          1914,
          1915,
          1916,
          1917,
          1918,
          1919,
          1920,
          1921,
          1922,
          1923,
          1924,
          1925,
          1926,
          1927,
          1928,
          1929,
          1930,
          1931,
          1932,
          1933,
          1934,
          1935,
          1936,
          1937,
          1938,
          1939,
          1940,
          1941,
          1942,
          1943,
          1944,
          1945,
          1946,
          1947,
          1948,
          1949,
          1950,
          1951,
          1952,
          1953,
          1954,
          1955,
          1956,
          1957,
          1958,
          1959,
          1960,
          1961,
          1962,
          1963,
          1964,
          1965,
          1966,
          1967,
          1968,
          1970,
          1971,
          1972
         ],
         "y": [
          0,
          0,
          1,
          0,
          0,
          0,
          0,
          1,
          4,
          4,
          8,
          6,
          5,
          24,
          13,
          13,
          3,
          2,
          0,
          0,
          0,
          0,
          0,
          0,
          0,
          0,
          0,
          10,
          1,
          0,
          1,
          0,
          0,
          0,
          2,
          3,
          3,
          1,
          2,
          11,
          5,
          2,
          1,
          3,
          1,
          1,
          3,
          1,
          2,
          2,
          0,
          1,
          0,
          1,
          0,
          0,
          0,
          0,
          0,
          0,
          2,
          1,
          7,
          5,
          0,
          3,
          3,
          2,
          2,
          1,
          4,
          7,
          2,
          1,
          6,
          2,
          0,
          4,
          7,
          0,
          0
         ]
        },
        {
         "hoverinfo": "x+y",
         "line": {
          "color": "#b2df8a",
          "width": 0.5
         },
         "mode": "lines",
         "stackgroup": "one",
         "type": "scatter",
         "x": [
          1895,
          1896,
          1898,
          1899,
          1900,
          1901,
          1902,
          1903,
          1904,
          1905,
          1906,
          1907,
          1908,
          1909,
          1910,
          1911,
          1912,
          1913,
          1914,
          1915,
          1916,
          1917,
          1918,
          1919,
          1920,
          1921,
          1922,
          1923,
          1924,
          1925,
          1926,
          1927,
          1928,
          1929,
          1930,
          1931,
          1932,
          1933,
          1934,
          1935,
          1936,
          1937,
          1938,
          1939,
          1940,
          1941,
          1942,
          1943,
          1944,
          1945,
          1946,
          1947,
          1948,
          1949,
          1950,
          1951,
          1952,
          1953,
          1954,
          1955,
          1956,
          1957,
          1958,
          1959,
          1960,
          1961,
          1962,
          1963,
          1964,
          1965,
          1966,
          1967,
          1968,
          1970,
          1971,
          1972
         ],
         "y": [
          0,
          0,
          2,
          1,
          0,
          0,
          3,
          2,
          14,
          3,
          5,
          5,
          7,
          8,
          3,
          3,
          2,
          3,
          1,
          2,
          4,
          0,
          1,
          0,
          4,
          4,
          2,
          5,
          0,
          1,
          4,
          1,
          2,
          0,
          0,
          0,
          2,
          0,
          0,
          0,
          0,
          0,
          0,
          0,
          1,
          6,
          1,
          0,
          0,
          0,
          0,
          0,
          0,
          0,
          0,
          1,
          0,
          0,
          0,
          0,
          1,
          1,
          0,
          0,
          0,
          0,
          0,
          0,
          0,
          1,
          1,
          0,
          1,
          0,
          2,
          0,
          0,
          4,
          2,
          1,
          0
         ]
        },
        {
         "hoverinfo": "x+y",
         "line": {
          "color": "#33a02c",
          "width": 0.5
         },
         "mode": "lines",
         "stackgroup": "one",
         "type": "scatter",
         "x": [
          1895,
          1896,
          1898,
          1899,
          1900,
          1901,
          1902,
          1903,
          1904,
          1905,
          1906,
          1907,
          1908,
          1909,
          1910,
          1911,
          1912,
          1913,
          1914,
          1915,
          1916,
          1917,
          1918,
          1919,
          1920,
          1921,
          1922,
          1923,
          1924,
          1925,
          1926,
          1927,
          1928,
          1929,
          1930,
          1931,
          1932,
          1933,
          1934,
          1935,
          1936,
          1937,
          1938,
          1939,
          1940,
          1941,
          1942,
          1943,
          1944,
          1945,
          1946,
          1947,
          1948,
          1949,
          1950,
          1951,
          1952,
          1953,
          1954,
          1955,
          1956,
          1957,
          1958,
          1959,
          1960,
          1961,
          1962,
          1963,
          1964,
          1965,
          1966,
          1967,
          1968,
          1970,
          1971,
          1972
         ],
         "y": [
          0,
          0,
          0,
          0,
          0,
          0,
          0,
          0,
          1,
          0,
          1,
          0,
          0,
          2,
          2,
          6,
          2,
          0,
          3,
          10,
          4,
          12,
          0,
          0,
          2,
          1,
          2,
          2,
          3,
          1,
          0,
          1,
          1,
          0,
          0,
          0,
          0,
          0,
          1,
          0,
          0,
          0,
          0,
          5,
          3,
          1,
          2,
          0,
          0,
          0,
          0,
          2,
          3,
          0,
          2,
          0,
          0,
          0,
          0,
          0,
          0,
          0,
          1,
          0,
          0,
          0,
          0,
          0,
          0,
          0,
          0,
          0,
          0,
          0,
          0,
          0,
          0,
          0,
          0,
          0,
          0
         ]
        },
        {
         "hoverinfo": "x+y",
         "line": {
          "color": "#fb9a99",
          "width": 0.5
         },
         "mode": "lines",
         "stackgroup": "one",
         "type": "scatter",
         "x": [
          1895,
          1896,
          1898,
          1899,
          1900,
          1901,
          1902,
          1903,
          1904,
          1905,
          1906,
          1907,
          1908,
          1909,
          1910,
          1911,
          1912,
          1913,
          1914,
          1915,
          1916,
          1917,
          1918,
          1919,
          1920,
          1921,
          1922,
          1923,
          1924,
          1925,
          1926,
          1927,
          1928,
          1929,
          1930,
          1931,
          1932,
          1933,
          1934,
          1935,
          1936,
          1937,
          1938,
          1939,
          1940,
          1941,
          1942,
          1943,
          1944,
          1945,
          1946,
          1947,
          1948,
          1949,
          1950,
          1951,
          1952,
          1953,
          1954,
          1955,
          1956,
          1957,
          1958,
          1959,
          1960,
          1961,
          1962,
          1963,
          1964,
          1965,
          1966,
          1967,
          1968,
          1970,
          1971,
          1972
         ],
         "y": [
          0,
          0,
          0,
          0,
          0,
          1,
          0,
          3,
          2,
          0,
          1,
          0,
          6,
          4,
          0,
          0,
          0,
          0,
          0,
          0,
          0,
          0,
          0,
          0,
          1,
          0,
          0,
          0,
          0,
          0,
          1,
          0,
          0,
          0,
          0,
          0,
          0,
          0,
          0,
          0,
          1,
          6,
          1,
          3,
          1,
          3,
          2,
          0,
          1,
          0,
          0,
          0,
          8,
          5,
          0,
          0,
          0,
          0,
          1,
          0,
          0,
          0,
          2,
          1,
          0,
          0,
          2,
          0,
          0,
          1,
          1,
          4,
          0,
          0,
          1,
          0,
          0,
          0,
          1,
          0,
          0
         ]
        },
        {
         "hoverinfo": "x+y",
         "line": {
          "color": "#e31a1c",
          "width": 0.5
         },
         "mode": "lines",
         "stackgroup": "one",
         "type": "scatter",
         "x": [
          1895,
          1896,
          1898,
          1899,
          1900,
          1901,
          1902,
          1903,
          1904,
          1905,
          1906,
          1907,
          1908,
          1909,
          1910,
          1911,
          1912,
          1913,
          1914,
          1915,
          1916,
          1917,
          1918,
          1919,
          1920,
          1921,
          1922,
          1923,
          1924,
          1925,
          1926,
          1927,
          1928,
          1929,
          1930,
          1931,
          1932,
          1933,
          1934,
          1935,
          1936,
          1937,
          1938,
          1939,
          1940,
          1941,
          1942,
          1943,
          1944,
          1945,
          1946,
          1947,
          1948,
          1949,
          1950,
          1951,
          1952,
          1953,
          1954,
          1955,
          1956,
          1957,
          1958,
          1959,
          1960,
          1961,
          1962,
          1963,
          1964,
          1965,
          1966,
          1967,
          1968,
          1970,
          1971,
          1972
         ],
         "y": [
          0,
          0,
          0,
          0,
          0,
          0,
          0,
          0,
          0,
          0,
          1,
          0,
          1,
          0,
          0,
          0,
          0,
          1,
          4,
          13,
          9,
          2,
          0,
          2,
          1,
          1,
          3,
          10,
          1,
          1,
          0,
          3,
          3,
          2,
          0,
          0,
          0,
          0,
          0,
          0,
          0,
          0,
          0,
          0,
          0,
          0,
          0,
          0,
          0,
          1,
          0,
          0,
          0,
          0,
          0,
          0,
          0,
          0,
          0,
          0,
          0,
          0,
          0,
          0,
          1,
          0,
          0,
          0,
          0,
          0,
          0,
          0,
          0,
          0,
          0,
          0,
          0,
          0,
          0,
          0,
          0
         ]
        },
        {
         "hoverinfo": "x+y",
         "line": {
          "color": "#fdbf6f",
          "width": 0.5
         },
         "mode": "lines",
         "stackgroup": "one",
         "type": "scatter",
         "x": [
          1895,
          1896,
          1898,
          1899,
          1900,
          1901,
          1902,
          1903,
          1904,
          1905,
          1906,
          1907,
          1908,
          1909,
          1910,
          1911,
          1912,
          1913,
          1914,
          1915,
          1916,
          1917,
          1918,
          1919,
          1920,
          1921,
          1922,
          1923,
          1924,
          1925,
          1926,
          1927,
          1928,
          1929,
          1930,
          1931,
          1932,
          1933,
          1934,
          1935,
          1936,
          1937,
          1938,
          1939,
          1940,
          1941,
          1942,
          1943,
          1944,
          1945,
          1946,
          1947,
          1948,
          1949,
          1950,
          1951,
          1952,
          1953,
          1954,
          1955,
          1956,
          1957,
          1958,
          1959,
          1960,
          1961,
          1962,
          1963,
          1964,
          1965,
          1966,
          1967,
          1968,
          1970,
          1971,
          1972
         ],
         "y": [
          0,
          0,
          0,
          0,
          0,
          0,
          0,
          1,
          2,
          0,
          2,
          2,
          1,
          1,
          0,
          1,
          0,
          0,
          1,
          2,
          0,
          1,
          0,
          0,
          1,
          0,
          1,
          2,
          2,
          0,
          1,
          0,
          3,
          0,
          0,
          1,
          0,
          2,
          1,
          1,
          1,
          0,
          0,
          3,
          4,
          2,
          1,
          0,
          1,
          1,
          2,
          1,
          1,
          2,
          0,
          0,
          0,
          0,
          0,
          0,
          2,
          0,
          0,
          0,
          0,
          0,
          0,
          0,
          2,
          3,
          2,
          0,
          0,
          0,
          0,
          0,
          0,
          0,
          0,
          0,
          0
         ]
        },
        {
         "hoverinfo": "x+y",
         "line": {
          "color": "#ff7f00",
          "width": 0.5
         },
         "mode": "lines",
         "stackgroup": "one",
         "type": "scatter",
         "x": [
          1895,
          1896,
          1898,
          1899,
          1900,
          1901,
          1902,
          1903,
          1904,
          1905,
          1906,
          1907,
          1908,
          1909,
          1910,
          1911,
          1912,
          1913,
          1914,
          1915,
          1916,
          1917,
          1918,
          1919,
          1920,
          1921,
          1922,
          1923,
          1924,
          1925,
          1926,
          1927,
          1928,
          1929,
          1930,
          1931,
          1932,
          1933,
          1934,
          1935,
          1936,
          1937,
          1938,
          1939,
          1940,
          1941,
          1942,
          1943,
          1944,
          1945,
          1946,
          1947,
          1948,
          1949,
          1950,
          1951,
          1952,
          1953,
          1954,
          1955,
          1956,
          1957,
          1958,
          1959,
          1960,
          1961,
          1962,
          1963,
          1964,
          1965,
          1966,
          1967,
          1968,
          1970,
          1971,
          1972
         ],
         "y": [
          0,
          0,
          0,
          1,
          0,
          0,
          0,
          1,
          6,
          1,
          1,
          2,
          0,
          4,
          1,
          0,
          0,
          2,
          0,
          0,
          0,
          0,
          0,
          0,
          2,
          0,
          2,
          2,
          0,
          0,
          2,
          0,
          0,
          0,
          0,
          0,
          1,
          0,
          0,
          1,
          0,
          0,
          0,
          0,
          2,
          0,
          1,
          0,
          1,
          0,
          0,
          0,
          0,
          0,
          0,
          0,
          0,
          1,
          1,
          0,
          0,
          0,
          0,
          0,
          8,
          0,
          1,
          0,
          0,
          0,
          0,
          0,
          1,
          0,
          0,
          0,
          0,
          0,
          0,
          1,
          0
         ]
        },
        {
         "hoverinfo": "x+y",
         "line": {
          "color": "#cab2d6",
          "width": 0.5
         },
         "mode": "lines",
         "stackgroup": "one",
         "type": "scatter",
         "x": [
          1895,
          1896,
          1898,
          1899,
          1900,
          1901,
          1902,
          1903,
          1904,
          1905,
          1906,
          1907,
          1908,
          1909,
          1910,
          1911,
          1912,
          1913,
          1914,
          1915,
          1916,
          1917,
          1918,
          1919,
          1920,
          1921,
          1922,
          1923,
          1924,
          1925,
          1926,
          1927,
          1928,
          1929,
          1930,
          1931,
          1932,
          1933,
          1934,
          1935,
          1936,
          1937,
          1938,
          1939,
          1940,
          1941,
          1942,
          1943,
          1944,
          1945,
          1946,
          1947,
          1948,
          1949,
          1950,
          1951,
          1952,
          1953,
          1954,
          1955,
          1956,
          1957,
          1958,
          1959,
          1960,
          1961,
          1962,
          1963,
          1964,
          1965,
          1966,
          1967,
          1968,
          1970,
          1971,
          1972
         ],
         "y": [
          0,
          0,
          1,
          0,
          0,
          0,
          0,
          0,
          0,
          2,
          3,
          3,
          0,
          5,
          0,
          1,
          0,
          0,
          0,
          0,
          0,
          0,
          0,
          0,
          0,
          0,
          0,
          1,
          2,
          0,
          0,
          0,
          0,
          0,
          1,
          0,
          0,
          0,
          0,
          0,
          3,
          0,
          0,
          0,
          0,
          2,
          0,
          0,
          0,
          0,
          0,
          0,
          0,
          0,
          0,
          0,
          0,
          0,
          0,
          0,
          0,
          0,
          0,
          1,
          0,
          1,
          0,
          0,
          0,
          0,
          0,
          0,
          1,
          0,
          3,
          0,
          0,
          0,
          3,
          0,
          0
         ]
        },
        {
         "hoverinfo": "x+y",
         "line": {
          "color": "#ff7f00",
          "width": 0.5
         },
         "mode": "lines",
         "stackgroup": "one",
         "type": "scatter",
         "x": [
          1895,
          1896,
          1898,
          1899,
          1900,
          1901,
          1902,
          1903,
          1904,
          1905,
          1906,
          1907,
          1908,
          1909,
          1910,
          1911,
          1912,
          1913,
          1914,
          1915,
          1916,
          1917,
          1918,
          1919,
          1920,
          1921,
          1922,
          1923,
          1924,
          1925,
          1926,
          1927,
          1928,
          1929,
          1930,
          1931,
          1932,
          1933,
          1934,
          1935,
          1936,
          1937,
          1938,
          1939,
          1940,
          1941,
          1942,
          1943,
          1944,
          1945,
          1946,
          1947,
          1948,
          1949,
          1950,
          1951,
          1952,
          1953,
          1954,
          1955,
          1956,
          1957,
          1958,
          1959,
          1960,
          1961,
          1962,
          1963,
          1964,
          1965,
          1966,
          1967,
          1968,
          1970,
          1971,
          1972
         ],
         "y": [
          0,
          0,
          0,
          0,
          0,
          0,
          0,
          0,
          1,
          0,
          0,
          0,
          0,
          2,
          1,
          8,
          2,
          0,
          0,
          0,
          0,
          4,
          0,
          0,
          0,
          1,
          1,
          0,
          1,
          0,
          0,
          0,
          0,
          0,
          0,
          0,
          0,
          0,
          0,
          1,
          0,
          0,
          0,
          2,
          2,
          0,
          1,
          0,
          0,
          1,
          2,
          0,
          1,
          0,
          0,
          0,
          0,
          0,
          0,
          0,
          0,
          0,
          0,
          0,
          0,
          0,
          0,
          0,
          0,
          0,
          0,
          0,
          0,
          0,
          0,
          0,
          0,
          0,
          0,
          0,
          0
         ]
        }
       ],
       "layout": {
        "template": {
         "data": {
          "bar": [
           {
            "error_x": {
             "color": "#2a3f5f"
            },
            "error_y": {
             "color": "#2a3f5f"
            },
            "marker": {
             "line": {
              "color": "#E5ECF6",
              "width": 0.5
             },
             "pattern": {
              "fillmode": "overlay",
              "size": 10,
              "solidity": 0.2
             }
            },
            "type": "bar"
           }
          ],
          "barpolar": [
           {
            "marker": {
             "line": {
              "color": "#E5ECF6",
              "width": 0.5
             },
             "pattern": {
              "fillmode": "overlay",
              "size": 10,
              "solidity": 0.2
             }
            },
            "type": "barpolar"
           }
          ],
          "carpet": [
           {
            "aaxis": {
             "endlinecolor": "#2a3f5f",
             "gridcolor": "white",
             "linecolor": "white",
             "minorgridcolor": "white",
             "startlinecolor": "#2a3f5f"
            },
            "baxis": {
             "endlinecolor": "#2a3f5f",
             "gridcolor": "white",
             "linecolor": "white",
             "minorgridcolor": "white",
             "startlinecolor": "#2a3f5f"
            },
            "type": "carpet"
           }
          ],
          "choropleth": [
           {
            "colorbar": {
             "outlinewidth": 0,
             "ticks": ""
            },
            "type": "choropleth"
           }
          ],
          "contour": [
           {
            "colorbar": {
             "outlinewidth": 0,
             "ticks": ""
            },
            "colorscale": [
             [
              0,
              "#0d0887"
             ],
             [
              0.1111111111111111,
              "#46039f"
             ],
             [
              0.2222222222222222,
              "#7201a8"
             ],
             [
              0.3333333333333333,
              "#9c179e"
             ],
             [
              0.4444444444444444,
              "#bd3786"
             ],
             [
              0.5555555555555556,
              "#d8576b"
             ],
             [
              0.6666666666666666,
              "#ed7953"
             ],
             [
              0.7777777777777778,
              "#fb9f3a"
             ],
             [
              0.8888888888888888,
              "#fdca26"
             ],
             [
              1,
              "#f0f921"
             ]
            ],
            "type": "contour"
           }
          ],
          "contourcarpet": [
           {
            "colorbar": {
             "outlinewidth": 0,
             "ticks": ""
            },
            "type": "contourcarpet"
           }
          ],
          "heatmap": [
           {
            "colorbar": {
             "outlinewidth": 0,
             "ticks": ""
            },
            "colorscale": [
             [
              0,
              "#0d0887"
             ],
             [
              0.1111111111111111,
              "#46039f"
             ],
             [
              0.2222222222222222,
              "#7201a8"
             ],
             [
              0.3333333333333333,
              "#9c179e"
             ],
             [
              0.4444444444444444,
              "#bd3786"
             ],
             [
              0.5555555555555556,
              "#d8576b"
             ],
             [
              0.6666666666666666,
              "#ed7953"
             ],
             [
              0.7777777777777778,
              "#fb9f3a"
             ],
             [
              0.8888888888888888,
              "#fdca26"
             ],
             [
              1,
              "#f0f921"
             ]
            ],
            "type": "heatmap"
           }
          ],
          "heatmapgl": [
           {
            "colorbar": {
             "outlinewidth": 0,
             "ticks": ""
            },
            "colorscale": [
             [
              0,
              "#0d0887"
             ],
             [
              0.1111111111111111,
              "#46039f"
             ],
             [
              0.2222222222222222,
              "#7201a8"
             ],
             [
              0.3333333333333333,
              "#9c179e"
             ],
             [
              0.4444444444444444,
              "#bd3786"
             ],
             [
              0.5555555555555556,
              "#d8576b"
             ],
             [
              0.6666666666666666,
              "#ed7953"
             ],
             [
              0.7777777777777778,
              "#fb9f3a"
             ],
             [
              0.8888888888888888,
              "#fdca26"
             ],
             [
              1,
              "#f0f921"
             ]
            ],
            "type": "heatmapgl"
           }
          ],
          "histogram": [
           {
            "marker": {
             "pattern": {
              "fillmode": "overlay",
              "size": 10,
              "solidity": 0.2
             }
            },
            "type": "histogram"
           }
          ],
          "histogram2d": [
           {
            "colorbar": {
             "outlinewidth": 0,
             "ticks": ""
            },
            "colorscale": [
             [
              0,
              "#0d0887"
             ],
             [
              0.1111111111111111,
              "#46039f"
             ],
             [
              0.2222222222222222,
              "#7201a8"
             ],
             [
              0.3333333333333333,
              "#9c179e"
             ],
             [
              0.4444444444444444,
              "#bd3786"
             ],
             [
              0.5555555555555556,
              "#d8576b"
             ],
             [
              0.6666666666666666,
              "#ed7953"
             ],
             [
              0.7777777777777778,
              "#fb9f3a"
             ],
             [
              0.8888888888888888,
              "#fdca26"
             ],
             [
              1,
              "#f0f921"
             ]
            ],
            "type": "histogram2d"
           }
          ],
          "histogram2dcontour": [
           {
            "colorbar": {
             "outlinewidth": 0,
             "ticks": ""
            },
            "colorscale": [
             [
              0,
              "#0d0887"
             ],
             [
              0.1111111111111111,
              "#46039f"
             ],
             [
              0.2222222222222222,
              "#7201a8"
             ],
             [
              0.3333333333333333,
              "#9c179e"
             ],
             [
              0.4444444444444444,
              "#bd3786"
             ],
             [
              0.5555555555555556,
              "#d8576b"
             ],
             [
              0.6666666666666666,
              "#ed7953"
             ],
             [
              0.7777777777777778,
              "#fb9f3a"
             ],
             [
              0.8888888888888888,
              "#fdca26"
             ],
             [
              1,
              "#f0f921"
             ]
            ],
            "type": "histogram2dcontour"
           }
          ],
          "mesh3d": [
           {
            "colorbar": {
             "outlinewidth": 0,
             "ticks": ""
            },
            "type": "mesh3d"
           }
          ],
          "parcoords": [
           {
            "line": {
             "colorbar": {
              "outlinewidth": 0,
              "ticks": ""
             }
            },
            "type": "parcoords"
           }
          ],
          "pie": [
           {
            "automargin": true,
            "type": "pie"
           }
          ],
          "scatter": [
           {
            "marker": {
             "colorbar": {
              "outlinewidth": 0,
              "ticks": ""
             }
            },
            "type": "scatter"
           }
          ],
          "scatter3d": [
           {
            "line": {
             "colorbar": {
              "outlinewidth": 0,
              "ticks": ""
             }
            },
            "marker": {
             "colorbar": {
              "outlinewidth": 0,
              "ticks": ""
             }
            },
            "type": "scatter3d"
           }
          ],
          "scattercarpet": [
           {
            "marker": {
             "colorbar": {
              "outlinewidth": 0,
              "ticks": ""
             }
            },
            "type": "scattercarpet"
           }
          ],
          "scattergeo": [
           {
            "marker": {
             "colorbar": {
              "outlinewidth": 0,
              "ticks": ""
             }
            },
            "type": "scattergeo"
           }
          ],
          "scattergl": [
           {
            "marker": {
             "colorbar": {
              "outlinewidth": 0,
              "ticks": ""
             }
            },
            "type": "scattergl"
           }
          ],
          "scattermapbox": [
           {
            "marker": {
             "colorbar": {
              "outlinewidth": 0,
              "ticks": ""
             }
            },
            "type": "scattermapbox"
           }
          ],
          "scatterpolar": [
           {
            "marker": {
             "colorbar": {
              "outlinewidth": 0,
              "ticks": ""
             }
            },
            "type": "scatterpolar"
           }
          ],
          "scatterpolargl": [
           {
            "marker": {
             "colorbar": {
              "outlinewidth": 0,
              "ticks": ""
             }
            },
            "type": "scatterpolargl"
           }
          ],
          "scatterternary": [
           {
            "marker": {
             "colorbar": {
              "outlinewidth": 0,
              "ticks": ""
             }
            },
            "type": "scatterternary"
           }
          ],
          "surface": [
           {
            "colorbar": {
             "outlinewidth": 0,
             "ticks": ""
            },
            "colorscale": [
             [
              0,
              "#0d0887"
             ],
             [
              0.1111111111111111,
              "#46039f"
             ],
             [
              0.2222222222222222,
              "#7201a8"
             ],
             [
              0.3333333333333333,
              "#9c179e"
             ],
             [
              0.4444444444444444,
              "#bd3786"
             ],
             [
              0.5555555555555556,
              "#d8576b"
             ],
             [
              0.6666666666666666,
              "#ed7953"
             ],
             [
              0.7777777777777778,
              "#fb9f3a"
             ],
             [
              0.8888888888888888,
              "#fdca26"
             ],
             [
              1,
              "#f0f921"
             ]
            ],
            "type": "surface"
           }
          ],
          "table": [
           {
            "cells": {
             "fill": {
              "color": "#EBF0F8"
             },
             "line": {
              "color": "white"
             }
            },
            "header": {
             "fill": {
              "color": "#C8D4E3"
             },
             "line": {
              "color": "white"
             }
            },
            "type": "table"
           }
          ]
         },
         "layout": {
          "annotationdefaults": {
           "arrowcolor": "#2a3f5f",
           "arrowhead": 0,
           "arrowwidth": 1
          },
          "autotypenumbers": "strict",
          "coloraxis": {
           "colorbar": {
            "outlinewidth": 0,
            "ticks": ""
           }
          },
          "colorscale": {
           "diverging": [
            [
             0,
             "#8e0152"
            ],
            [
             0.1,
             "#c51b7d"
            ],
            [
             0.2,
             "#de77ae"
            ],
            [
             0.3,
             "#f1b6da"
            ],
            [
             0.4,
             "#fde0ef"
            ],
            [
             0.5,
             "#f7f7f7"
            ],
            [
             0.6,
             "#e6f5d0"
            ],
            [
             0.7,
             "#b8e186"
            ],
            [
             0.8,
             "#7fbc41"
            ],
            [
             0.9,
             "#4d9221"
            ],
            [
             1,
             "#276419"
            ]
           ],
           "sequential": [
            [
             0,
             "#0d0887"
            ],
            [
             0.1111111111111111,
             "#46039f"
            ],
            [
             0.2222222222222222,
             "#7201a8"
            ],
            [
             0.3333333333333333,
             "#9c179e"
            ],
            [
             0.4444444444444444,
             "#bd3786"
            ],
            [
             0.5555555555555556,
             "#d8576b"
            ],
            [
             0.6666666666666666,
             "#ed7953"
            ],
            [
             0.7777777777777778,
             "#fb9f3a"
            ],
            [
             0.8888888888888888,
             "#fdca26"
            ],
            [
             1,
             "#f0f921"
            ]
           ],
           "sequentialminus": [
            [
             0,
             "#0d0887"
            ],
            [
             0.1111111111111111,
             "#46039f"
            ],
            [
             0.2222222222222222,
             "#7201a8"
            ],
            [
             0.3333333333333333,
             "#9c179e"
            ],
            [
             0.4444444444444444,
             "#bd3786"
            ],
            [
             0.5555555555555556,
             "#d8576b"
            ],
            [
             0.6666666666666666,
             "#ed7953"
            ],
            [
             0.7777777777777778,
             "#fb9f3a"
            ],
            [
             0.8888888888888888,
             "#fdca26"
            ],
            [
             1,
             "#f0f921"
            ]
           ]
          },
          "colorway": [
           "#636efa",
           "#EF553B",
           "#00cc96",
           "#ab63fa",
           "#FFA15A",
           "#19d3f3",
           "#FF6692",
           "#B6E880",
           "#FF97FF",
           "#FECB52"
          ],
          "font": {
           "color": "#2a3f5f"
          },
          "geo": {
           "bgcolor": "white",
           "lakecolor": "white",
           "landcolor": "#E5ECF6",
           "showlakes": true,
           "showland": true,
           "subunitcolor": "white"
          },
          "hoverlabel": {
           "align": "left"
          },
          "hovermode": "closest",
          "mapbox": {
           "style": "light"
          },
          "paper_bgcolor": "white",
          "plot_bgcolor": "#E5ECF6",
          "polar": {
           "angularaxis": {
            "gridcolor": "white",
            "linecolor": "white",
            "ticks": ""
           },
           "bgcolor": "#E5ECF6",
           "radialaxis": {
            "gridcolor": "white",
            "linecolor": "white",
            "ticks": ""
           }
          },
          "scene": {
           "xaxis": {
            "backgroundcolor": "#E5ECF6",
            "gridcolor": "white",
            "gridwidth": 2,
            "linecolor": "white",
            "showbackground": true,
            "ticks": "",
            "zerolinecolor": "white"
           },
           "yaxis": {
            "backgroundcolor": "#E5ECF6",
            "gridcolor": "white",
            "gridwidth": 2,
            "linecolor": "white",
            "showbackground": true,
            "ticks": "",
            "zerolinecolor": "white"
           },
           "zaxis": {
            "backgroundcolor": "#E5ECF6",
            "gridcolor": "white",
            "gridwidth": 2,
            "linecolor": "white",
            "showbackground": true,
            "ticks": "",
            "zerolinecolor": "white"
           }
          },
          "shapedefaults": {
           "line": {
            "color": "#2a3f5f"
           }
          },
          "ternary": {
           "aaxis": {
            "gridcolor": "white",
            "linecolor": "white",
            "ticks": ""
           },
           "baxis": {
            "gridcolor": "white",
            "linecolor": "white",
            "ticks": ""
           },
           "bgcolor": "#E5ECF6",
           "caxis": {
            "gridcolor": "white",
            "linecolor": "white",
            "ticks": ""
           }
          },
          "title": {
           "x": 0.05
          },
          "xaxis": {
           "automargin": true,
           "gridcolor": "white",
           "linecolor": "white",
           "ticks": "",
           "title": {
            "standoff": 15
           },
           "zerolinecolor": "white",
           "zerolinewidth": 2
          },
          "yaxis": {
           "automargin": true,
           "gridcolor": "white",
           "linecolor": "white",
           "ticks": "",
           "title": {
            "standoff": 15
           },
           "zerolinecolor": "white",
           "zerolinewidth": 2
          }
         }
        },
        "yaxis": {
         "range": [
          0,
          100
         ]
        }
       }
      }
     },
     "metadata": {},
     "output_type": "display_data"
    }
   ],
   "source": [
    "x = res_picasso['ano'].unique()\n",
    "colorvec = ['#a6cee3','#1f78b4','#b2df8a','#33a02c','#fb9a99','#e31a1c','#fdbf6f','#ff7f00','#cab2d6', '#ff7f00','#cab2d6']\n",
    "\n",
    "fig = go.Figure()\n",
    "for i in range(0,10):\n",
    "    fig.add_trace(go.Scatter(\n",
    "    x=x, y=yfinal[i],\n",
    "    hoverinfo='x+y',\n",
    "    mode='lines',\n",
    "    line=dict(width=0.5, color=colorvec[i]),\n",
    "    stackgroup='one' # define stack group\n",
    "    #groupnorm='percent'\n",
    "))\n",
    "\n",
    "fig.update_layout(yaxis_range=(0, 100))\n",
    "fig.show()"
   ]
  },
  {
   "cell_type": "code",
   "execution_count": 393,
   "metadata": {},
   "outputs": [
    {
     "data": {
      "text/html": [
       "<div>\n",
       "<style scoped>\n",
       "    .dataframe tbody tr th:only-of-type {\n",
       "        vertical-align: middle;\n",
       "    }\n",
       "\n",
       "    .dataframe tbody tr th {\n",
       "        vertical-align: top;\n",
       "    }\n",
       "\n",
       "    .dataframe thead th {\n",
       "        text-align: right;\n",
       "    }\n",
       "</style>\n",
       "<table border=\"1\" class=\"dataframe\">\n",
       "  <thead>\n",
       "    <tr style=\"text-align: right;\">\n",
       "      <th></th>\n",
       "      <th>tag</th>\n",
       "      <th>freq</th>\n",
       "      <th>ano</th>\n",
       "    </tr>\n",
       "  </thead>\n",
       "  <tbody>\n",
       "    <tr>\n",
       "      <th>6</th>\n",
       "      <td>musical-instruments</td>\n",
       "      <td>3.0</td>\n",
       "      <td>1919.0</td>\n",
       "    </tr>\n",
       "    <tr>\n",
       "      <th>7</th>\n",
       "      <td>dishware-and-cutlery</td>\n",
       "      <td>2.0</td>\n",
       "      <td>1919.0</td>\n",
       "    </tr>\n",
       "    <tr>\n",
       "      <th>8</th>\n",
       "      <td>allegories-and-symbols</td>\n",
       "      <td>1.0</td>\n",
       "      <td>1919.0</td>\n",
       "    </tr>\n",
       "    <tr>\n",
       "      <th>14</th>\n",
       "      <td>male-portraits</td>\n",
       "      <td>2.0</td>\n",
       "      <td>1919.0</td>\n",
       "    </tr>\n",
       "    <tr>\n",
       "      <th>20</th>\n",
       "      <td>famous-people</td>\n",
       "      <td>2.0</td>\n",
       "      <td>1919.0</td>\n",
       "    </tr>\n",
       "    <tr>\n",
       "      <th>35</th>\n",
       "      <td>Still life photography</td>\n",
       "      <td>1.0</td>\n",
       "      <td>1919.0</td>\n",
       "    </tr>\n",
       "    <tr>\n",
       "      <th>37</th>\n",
       "      <td>female-portraits</td>\n",
       "      <td>2.0</td>\n",
       "      <td>1919.0</td>\n",
       "    </tr>\n",
       "  </tbody>\n",
       "</table>\n",
       "</div>"
      ],
      "text/plain": [
       "                       tag  freq     ano\n",
       "6      musical-instruments   3.0  1919.0\n",
       "7     dishware-and-cutlery   2.0  1919.0\n",
       "8   allegories-and-symbols   1.0  1919.0\n",
       "14          male-portraits   2.0  1919.0\n",
       "20           famous-people   2.0  1919.0\n",
       "35  Still life photography   1.0  1919.0\n",
       "37        female-portraits   2.0  1919.0"
      ]
     },
     "execution_count": 393,
     "metadata": {},
     "output_type": "execute_result"
    }
   ],
   "source": [
    "res_picasso[res_picasso['ano']==1919]"
   ]
  },
  {
   "cell_type": "code",
   "execution_count": null,
   "metadata": {},
   "outputs": [],
   "source": [
    "fig.add_trace(go.Scatter(\n",
    "    x=x, y=[40, 60, 40, 10],\n",
    "    hoverinfo='x+y',\n",
    "    mode='lines',\n",
    "    line=dict(width=0.5, color='rgb(131, 90, 241)'),\n",
    "    stackgroup='one' # define stack group\n",
    "))\n",
    "fig.add_trace(go.Scatter(\n",
    "    x=x, y=[20, 10, 10, 60],\n",
    "    hoverinfo='x+y',\n",
    "    mode='lines',\n",
    "    line=dict(width=0.5, color='rgb(111, 231, 219)'),\n",
    "    stackgroup='one'\n",
    "))\n",
    "fig.add_trace(go.Scatter(\n",
    "    x=x, y=[40, 30, 50, 30],\n",
    "    hoverinfo='x+y',\n",
    "    mode='lines',\n",
    "    line=dict(width=0.5, color='rgb(184, 247, 212)'),\n",
    "    stackgroup='one'\n",
    "))\n",
    "\n",
    "fig.update_layout(yaxis_range=(0, 100))\n",
    "fig.show()"
   ]
  },
  {
   "cell_type": "markdown",
   "metadata": {},
   "source": [
    "## Van gogh"
   ]
  },
  {
   "cell_type": "code",
   "execution_count": 309,
   "metadata": {},
   "outputs": [],
   "source": [
    "df[df['artistName']=='van Gogh Vincent ']['tags'].str.split(', ').apply(lambda x: pd.Series(x, dtype=object).value_counts()).sum().sort_values(ascending=False)[:40]\n",
    "#countryside\n",
    "#male-portraits \n",
    "#fields-and-plains\n",
    "#female-portraits\n",
    "#gardens-and-parks\n",
    "#flowers-and-plants\n",
    "#forests-and-trees\n",
    "#Still life photography\n",
    "#cottages-and-farmhouses\n",
    "#domestic-settings\n",
    "\n",
    "tags_van = ['countryside', 'male-portraits', 'fields-and-plains', 'female-portraits', 'gardens-and-parks', 'flowers-and-plants', 'forests-and-trees', 'Still life photography', 'cottages-and-farmhouses', 'domestic-settings']"
   ]
  },
  {
   "cell_type": "code",
   "execution_count": null,
   "metadata": {},
   "outputs": [],
   "source": [
    "artista = 'van Gogh Vincent '\n",
    "tags = tags_van"
   ]
  },
  {
   "cell_type": "code",
   "execution_count": 310,
   "metadata": {},
   "outputs": [
    {
     "data": {
      "text/plain": [
       "array([1890., 1893., 1895., 1896., 1897., 1898., 1899., 1900., 1901.,\n",
       "       1902., 1903., 1904., 1905., 1906., 1907., 1908., 1909., 1910.,\n",
       "       1911., 1912., 1913., 1914., 1915., 1916., 1917., 1918., 1919.,\n",
       "       1920., 1921., 1922., 1923., 1924., 1925., 1926., 1927., 1928.,\n",
       "       1929., 1930., 1931., 1932., 1933., 1934., 1935., 1936., 1937.,\n",
       "       1938., 1939., 1940., 1941., 1942., 1943., 1944., 1945., 1946.,\n",
       "       1947., 1948., 1949., 1950., 1951., 1952., 1953., 1954., 1955.,\n",
       "       1956., 1957., 1958., 1959., 1960., 1961., 1962., 1963., 1964.,\n",
       "       1965., 1966., 1967., 1968., 1969., 1970., 1971., 1972., 1973.])"
      ]
     },
     "execution_count": 310,
     "metadata": {},
     "output_type": "execute_result"
    }
   ],
   "source": [
    "df_van = df[df['artistName']==artista]\n",
    "df_van = df_van[df_van['tags'].notna()]\n",
    "df_van = df_van[df_van['completitionYear'].notna()]\n",
    "anos_van = df_van[df_van['artistName']==artista]['completitionYear'].unique()\n",
    "anos_van"
   ]
  },
  {
   "cell_type": "code",
   "execution_count": 311,
   "metadata": {},
   "outputs": [
    {
     "data": {
      "text/html": [
       "<div>\n",
       "<style scoped>\n",
       "    .dataframe tbody tr th:only-of-type {\n",
       "        vertical-align: middle;\n",
       "    }\n",
       "\n",
       "    .dataframe tbody tr th {\n",
       "        vertical-align: top;\n",
       "    }\n",
       "\n",
       "    .dataframe thead th {\n",
       "        text-align: right;\n",
       "    }\n",
       "</style>\n",
       "<table border=\"1\" class=\"dataframe\">\n",
       "  <thead>\n",
       "    <tr style=\"text-align: right;\">\n",
       "      <th></th>\n",
       "      <th>tag</th>\n",
       "      <th>freq</th>\n",
       "      <th>ano</th>\n",
       "    </tr>\n",
       "  </thead>\n",
       "  <tbody>\n",
       "    <tr>\n",
       "      <th>0</th>\n",
       "      <td>cottages-and-farmhouses</td>\n",
       "      <td>1.0</td>\n",
       "      <td>1893.0</td>\n",
       "    </tr>\n",
       "    <tr>\n",
       "      <th>1</th>\n",
       "      <td>fields-and-plains</td>\n",
       "      <td>1.0</td>\n",
       "      <td>1893.0</td>\n",
       "    </tr>\n",
       "    <tr>\n",
       "      <th>5</th>\n",
       "      <td>male-portraits</td>\n",
       "      <td>2.0</td>\n",
       "      <td>1895.0</td>\n",
       "    </tr>\n",
       "    <tr>\n",
       "      <th>7</th>\n",
       "      <td>female-portraits</td>\n",
       "      <td>1.0</td>\n",
       "      <td>1895.0</td>\n",
       "    </tr>\n",
       "    <tr>\n",
       "      <th>0</th>\n",
       "      <td>female-portraits</td>\n",
       "      <td>3.0</td>\n",
       "      <td>1896.0</td>\n",
       "    </tr>\n",
       "    <tr>\n",
       "      <th>...</th>\n",
       "      <td>...</td>\n",
       "      <td>...</td>\n",
       "      <td>...</td>\n",
       "    </tr>\n",
       "    <tr>\n",
       "      <th>0</th>\n",
       "      <td>male-portraits</td>\n",
       "      <td>4.0</td>\n",
       "      <td>1970.0</td>\n",
       "    </tr>\n",
       "    <tr>\n",
       "      <th>15</th>\n",
       "      <td>female-portraits</td>\n",
       "      <td>1.0</td>\n",
       "      <td>1970.0</td>\n",
       "    </tr>\n",
       "    <tr>\n",
       "      <th>0</th>\n",
       "      <td>female-portraits</td>\n",
       "      <td>2.0</td>\n",
       "      <td>1971.0</td>\n",
       "    </tr>\n",
       "    <tr>\n",
       "      <th>2</th>\n",
       "      <td>male-portraits</td>\n",
       "      <td>2.0</td>\n",
       "      <td>1971.0</td>\n",
       "    </tr>\n",
       "    <tr>\n",
       "      <th>0</th>\n",
       "      <td>male-portraits</td>\n",
       "      <td>1.0</td>\n",
       "      <td>1972.0</td>\n",
       "    </tr>\n",
       "  </tbody>\n",
       "</table>\n",
       "<p>147 rows × 3 columns</p>\n",
       "</div>"
      ],
      "text/plain": [
       "                        tag  freq     ano\n",
       "0   cottages-and-farmhouses   1.0  1893.0\n",
       "1         fields-and-plains   1.0  1893.0\n",
       "5            male-portraits   2.0  1895.0\n",
       "7          female-portraits   1.0  1895.0\n",
       "0          female-portraits   3.0  1896.0\n",
       "..                      ...   ...     ...\n",
       "0            male-portraits   4.0  1970.0\n",
       "15         female-portraits   1.0  1970.0\n",
       "0          female-portraits   2.0  1971.0\n",
       "2            male-portraits   2.0  1971.0\n",
       "0            male-portraits   1.0  1972.0\n",
       "\n",
       "[147 rows x 3 columns]"
      ]
     },
     "execution_count": 311,
     "metadata": {},
     "output_type": "execute_result"
    }
   ],
   "source": [
    "res_van = pd.DataFrame(columns = ['tag', 'freq', 'ano'])\n",
    "for ano in anos_van:\n",
    "    dfano = df_van[df_van['completitionYear']==ano]\n",
    "    tags_ano = dfano['tags'].str.split(', ').apply(lambda x: pd.Series(x, dtype=object).value_counts()).sum().rename_axis('tag').reset_index(name='freq')\n",
    "    tags_ano['ano'] = ano\n",
    "    res = tags_ano[tags_ano['tag'].isin(tags_van)]\n",
    "    #res['ano'] = ano\n",
    "    res_van = res_van.append(res)\n",
    "\n",
    "res_van\n"
   ]
  },
  {
   "cell_type": "code",
   "execution_count": 312,
   "metadata": {},
   "outputs": [
    {
     "data": {
      "application/vnd.plotly.v1+json": {
       "config": {
        "plotlyServerURL": "https://plot.ly"
       },
       "data": [
        {
         "hovertemplate": "tag=cottages-and-farmhouses<br>ano=%{x}<br>freq=%{y}<extra></extra>",
         "legendgroup": "cottages-and-farmhouses",
         "line": {
          "color": "#636efa"
         },
         "marker": {
          "symbol": "circle"
         },
         "mode": "lines",
         "name": "cottages-and-farmhouses",
         "orientation": "v",
         "showlegend": true,
         "stackgroup": "1",
         "type": "scatter",
         "x": [
          1893,
          1908,
          1909,
          1920,
          1937
         ],
         "xaxis": "x",
         "y": [
          1,
          2,
          1,
          1,
          1
         ],
         "yaxis": "y"
        },
        {
         "hovertemplate": "tag=fields-and-plains<br>ano=%{x}<br>freq=%{y}<extra></extra>",
         "legendgroup": "fields-and-plains",
         "line": {
          "color": "#EF553B"
         },
         "marker": {
          "symbol": "circle"
         },
         "mode": "lines",
         "name": "fields-and-plains",
         "orientation": "v",
         "showlegend": true,
         "stackgroup": "1",
         "type": "scatter",
         "x": [
          1893,
          1905,
          1958
         ],
         "xaxis": "x",
         "y": [
          1,
          1,
          1
         ],
         "yaxis": "y"
        },
        {
         "hovertemplate": "tag=male-portraits<br>ano=%{x}<br>freq=%{y}<extra></extra>",
         "legendgroup": "male-portraits",
         "line": {
          "color": "#00cc96"
         },
         "marker": {
          "symbol": "circle"
         },
         "mode": "lines",
         "name": "male-portraits",
         "orientation": "v",
         "showlegend": true,
         "stackgroup": "1",
         "type": "scatter",
         "x": [
          1895,
          1896,
          1899,
          1900,
          1901,
          1902,
          1903,
          1904,
          1905,
          1906,
          1907,
          1908,
          1909,
          1910,
          1911,
          1912,
          1913,
          1915,
          1917,
          1918,
          1919,
          1920,
          1922,
          1923,
          1924,
          1925,
          1929,
          1937,
          1938,
          1939,
          1948,
          1953,
          1954,
          1962,
          1963,
          1965,
          1967,
          1970,
          1971,
          1972
         ],
         "xaxis": "x",
         "y": [
          2,
          1,
          3,
          2,
          14,
          3,
          5,
          5,
          7,
          8,
          3,
          3,
          2,
          3,
          1,
          2,
          4,
          1,
          4,
          4,
          2,
          5,
          1,
          4,
          1,
          2,
          2,
          1,
          6,
          1,
          1,
          1,
          1,
          1,
          1,
          1,
          2,
          4,
          2,
          1
         ],
         "yaxis": "y"
        },
        {
         "hovertemplate": "tag=female-portraits<br>ano=%{x}<br>freq=%{y}<extra></extra>",
         "legendgroup": "female-portraits",
         "line": {
          "color": "#ab63fa"
         },
         "marker": {
          "symbol": "circle"
         },
         "mode": "lines",
         "name": "female-portraits",
         "orientation": "v",
         "showlegend": true,
         "stackgroup": "1",
         "type": "scatter",
         "x": [
          1895,
          1896,
          1899,
          1901,
          1902,
          1903,
          1904,
          1905,
          1906,
          1907,
          1908,
          1909,
          1911,
          1912,
          1913,
          1914,
          1917,
          1919,
          1920,
          1921,
          1922,
          1923,
          1924,
          1926,
          1927,
          1929,
          1930,
          1931,
          1932,
          1934,
          1935,
          1936,
          1937,
          1938,
          1939,
          1940,
          1941,
          1942,
          1943,
          1944,
          1945,
          1946,
          1947,
          1948,
          1949,
          1950,
          1951,
          1952,
          1953,
          1954,
          1955,
          1956,
          1957,
          1960,
          1961,
          1962,
          1964,
          1965,
          1966,
          1970,
          1971
         ],
         "xaxis": "x",
         "y": [
          1,
          3,
          2,
          19,
          8,
          2,
          8,
          8,
          7,
          7,
          5,
          3,
          2,
          1,
          1,
          1,
          3,
          2,
          5,
          7,
          1,
          8,
          1,
          1,
          1,
          3,
          1,
          3,
          4,
          2,
          3,
          14,
          19,
          5,
          14,
          1,
          10,
          3,
          4,
          2,
          2,
          2,
          1,
          1,
          2,
          1,
          1,
          1,
          2,
          7,
          2,
          1,
          3,
          3,
          1,
          5,
          1,
          1,
          1,
          1,
          2
         ],
         "yaxis": "y"
        },
        {
         "hovertemplate": "tag=gardens-and-parks<br>ano=%{x}<br>freq=%{y}<extra></extra>",
         "legendgroup": "gardens-and-parks",
         "line": {
          "color": "#FFA15A"
         },
         "marker": {
          "symbol": "circle"
         },
         "mode": "lines",
         "name": "gardens-and-parks",
         "orientation": "v",
         "showlegend": true,
         "stackgroup": "1",
         "type": "scatter",
         "x": [
          1901,
          1908,
          1937,
          1938
         ],
         "xaxis": "x",
         "y": [
          2,
          2,
          1,
          1
         ],
         "yaxis": "y"
        },
        {
         "hovertemplate": "tag=flowers-and-plants<br>ano=%{x}<br>freq=%{y}<extra></extra>",
         "legendgroup": "flowers-and-plants",
         "line": {
          "color": "#19d3f3"
         },
         "marker": {
          "symbol": "circle"
         },
         "mode": "lines",
         "name": "flowers-and-plants",
         "orientation": "v",
         "showlegend": true,
         "stackgroup": "1",
         "type": "scatter",
         "x": [
          1901,
          1907,
          1908,
          1929,
          1931,
          1937,
          1939,
          1943,
          1944,
          1955
         ],
         "xaxis": "x",
         "y": [
          1,
          2,
          1,
          1,
          1,
          1,
          1,
          2,
          1,
          1
         ],
         "yaxis": "y"
        },
        {
         "hovertemplate": "tag=Still life photography<br>ano=%{x}<br>freq=%{y}<extra></extra>",
         "legendgroup": "Still life photography",
         "line": {
          "color": "#FF6692"
         },
         "marker": {
          "symbol": "circle"
         },
         "mode": "lines",
         "name": "Still life photography",
         "orientation": "v",
         "showlegend": true,
         "stackgroup": "1",
         "type": "scatter",
         "x": [
          1901,
          1906,
          1907,
          1908,
          1909,
          1914,
          1918,
          1919,
          1921,
          1932,
          1936,
          1937,
          1939,
          1942,
          1943,
          1945
         ],
         "xaxis": "x",
         "y": [
          1,
          2,
          1,
          8,
          2,
          4,
          1,
          1,
          1,
          1,
          2,
          2,
          1,
          1,
          2,
          1
         ],
         "yaxis": "y"
        },
        {
         "hovertemplate": "tag=domestic-settings<br>ano=%{x}<br>freq=%{y}<extra></extra>",
         "legendgroup": "domestic-settings",
         "line": {
          "color": "#B6E880"
         },
         "marker": {
          "symbol": "circle"
         },
         "mode": "lines",
         "name": "domestic-settings",
         "orientation": "v",
         "showlegend": true,
         "stackgroup": "1",
         "type": "scatter",
         "x": [
          1904,
          1910,
          1933,
          1938
         ],
         "xaxis": "x",
         "y": [
          1,
          1,
          1,
          1
         ],
         "yaxis": "y"
        },
        {
         "hovertemplate": "tag=countryside<br>ano=%{x}<br>freq=%{y}<extra></extra>",
         "legendgroup": "countryside",
         "line": {
          "color": "#FF97FF"
         },
         "marker": {
          "symbol": "circle"
         },
         "mode": "lines",
         "name": "countryside",
         "orientation": "v",
         "showlegend": true,
         "stackgroup": "1",
         "type": "scatter",
         "x": [
          1905,
          1906
         ],
         "xaxis": "x",
         "y": [
          1,
          2
         ],
         "yaxis": "y"
        },
        {
         "hovertemplate": "tag=forests-and-trees<br>ano=%{x}<br>freq=%{y}<extra></extra>",
         "legendgroup": "forests-and-trees",
         "line": {
          "color": "#FECB52"
         },
         "marker": {
          "symbol": "circle"
         },
         "mode": "lines",
         "name": "forests-and-trees",
         "orientation": "v",
         "showlegend": true,
         "stackgroup": "1",
         "type": "scatter",
         "x": [
          1928,
          1960
         ],
         "xaxis": "x",
         "y": [
          1,
          1
         ],
         "yaxis": "y"
        }
       ],
       "layout": {
        "legend": {
         "title": {
          "text": "tag"
         },
         "tracegroupgap": 0
        },
        "margin": {
         "t": 60
        },
        "template": {
         "data": {
          "bar": [
           {
            "error_x": {
             "color": "#2a3f5f"
            },
            "error_y": {
             "color": "#2a3f5f"
            },
            "marker": {
             "line": {
              "color": "#E5ECF6",
              "width": 0.5
             },
             "pattern": {
              "fillmode": "overlay",
              "size": 10,
              "solidity": 0.2
             }
            },
            "type": "bar"
           }
          ],
          "barpolar": [
           {
            "marker": {
             "line": {
              "color": "#E5ECF6",
              "width": 0.5
             },
             "pattern": {
              "fillmode": "overlay",
              "size": 10,
              "solidity": 0.2
             }
            },
            "type": "barpolar"
           }
          ],
          "carpet": [
           {
            "aaxis": {
             "endlinecolor": "#2a3f5f",
             "gridcolor": "white",
             "linecolor": "white",
             "minorgridcolor": "white",
             "startlinecolor": "#2a3f5f"
            },
            "baxis": {
             "endlinecolor": "#2a3f5f",
             "gridcolor": "white",
             "linecolor": "white",
             "minorgridcolor": "white",
             "startlinecolor": "#2a3f5f"
            },
            "type": "carpet"
           }
          ],
          "choropleth": [
           {
            "colorbar": {
             "outlinewidth": 0,
             "ticks": ""
            },
            "type": "choropleth"
           }
          ],
          "contour": [
           {
            "colorbar": {
             "outlinewidth": 0,
             "ticks": ""
            },
            "colorscale": [
             [
              0,
              "#0d0887"
             ],
             [
              0.1111111111111111,
              "#46039f"
             ],
             [
              0.2222222222222222,
              "#7201a8"
             ],
             [
              0.3333333333333333,
              "#9c179e"
             ],
             [
              0.4444444444444444,
              "#bd3786"
             ],
             [
              0.5555555555555556,
              "#d8576b"
             ],
             [
              0.6666666666666666,
              "#ed7953"
             ],
             [
              0.7777777777777778,
              "#fb9f3a"
             ],
             [
              0.8888888888888888,
              "#fdca26"
             ],
             [
              1,
              "#f0f921"
             ]
            ],
            "type": "contour"
           }
          ],
          "contourcarpet": [
           {
            "colorbar": {
             "outlinewidth": 0,
             "ticks": ""
            },
            "type": "contourcarpet"
           }
          ],
          "heatmap": [
           {
            "colorbar": {
             "outlinewidth": 0,
             "ticks": ""
            },
            "colorscale": [
             [
              0,
              "#0d0887"
             ],
             [
              0.1111111111111111,
              "#46039f"
             ],
             [
              0.2222222222222222,
              "#7201a8"
             ],
             [
              0.3333333333333333,
              "#9c179e"
             ],
             [
              0.4444444444444444,
              "#bd3786"
             ],
             [
              0.5555555555555556,
              "#d8576b"
             ],
             [
              0.6666666666666666,
              "#ed7953"
             ],
             [
              0.7777777777777778,
              "#fb9f3a"
             ],
             [
              0.8888888888888888,
              "#fdca26"
             ],
             [
              1,
              "#f0f921"
             ]
            ],
            "type": "heatmap"
           }
          ],
          "heatmapgl": [
           {
            "colorbar": {
             "outlinewidth": 0,
             "ticks": ""
            },
            "colorscale": [
             [
              0,
              "#0d0887"
             ],
             [
              0.1111111111111111,
              "#46039f"
             ],
             [
              0.2222222222222222,
              "#7201a8"
             ],
             [
              0.3333333333333333,
              "#9c179e"
             ],
             [
              0.4444444444444444,
              "#bd3786"
             ],
             [
              0.5555555555555556,
              "#d8576b"
             ],
             [
              0.6666666666666666,
              "#ed7953"
             ],
             [
              0.7777777777777778,
              "#fb9f3a"
             ],
             [
              0.8888888888888888,
              "#fdca26"
             ],
             [
              1,
              "#f0f921"
             ]
            ],
            "type": "heatmapgl"
           }
          ],
          "histogram": [
           {
            "marker": {
             "pattern": {
              "fillmode": "overlay",
              "size": 10,
              "solidity": 0.2
             }
            },
            "type": "histogram"
           }
          ],
          "histogram2d": [
           {
            "colorbar": {
             "outlinewidth": 0,
             "ticks": ""
            },
            "colorscale": [
             [
              0,
              "#0d0887"
             ],
             [
              0.1111111111111111,
              "#46039f"
             ],
             [
              0.2222222222222222,
              "#7201a8"
             ],
             [
              0.3333333333333333,
              "#9c179e"
             ],
             [
              0.4444444444444444,
              "#bd3786"
             ],
             [
              0.5555555555555556,
              "#d8576b"
             ],
             [
              0.6666666666666666,
              "#ed7953"
             ],
             [
              0.7777777777777778,
              "#fb9f3a"
             ],
             [
              0.8888888888888888,
              "#fdca26"
             ],
             [
              1,
              "#f0f921"
             ]
            ],
            "type": "histogram2d"
           }
          ],
          "histogram2dcontour": [
           {
            "colorbar": {
             "outlinewidth": 0,
             "ticks": ""
            },
            "colorscale": [
             [
              0,
              "#0d0887"
             ],
             [
              0.1111111111111111,
              "#46039f"
             ],
             [
              0.2222222222222222,
              "#7201a8"
             ],
             [
              0.3333333333333333,
              "#9c179e"
             ],
             [
              0.4444444444444444,
              "#bd3786"
             ],
             [
              0.5555555555555556,
              "#d8576b"
             ],
             [
              0.6666666666666666,
              "#ed7953"
             ],
             [
              0.7777777777777778,
              "#fb9f3a"
             ],
             [
              0.8888888888888888,
              "#fdca26"
             ],
             [
              1,
              "#f0f921"
             ]
            ],
            "type": "histogram2dcontour"
           }
          ],
          "mesh3d": [
           {
            "colorbar": {
             "outlinewidth": 0,
             "ticks": ""
            },
            "type": "mesh3d"
           }
          ],
          "parcoords": [
           {
            "line": {
             "colorbar": {
              "outlinewidth": 0,
              "ticks": ""
             }
            },
            "type": "parcoords"
           }
          ],
          "pie": [
           {
            "automargin": true,
            "type": "pie"
           }
          ],
          "scatter": [
           {
            "marker": {
             "colorbar": {
              "outlinewidth": 0,
              "ticks": ""
             }
            },
            "type": "scatter"
           }
          ],
          "scatter3d": [
           {
            "line": {
             "colorbar": {
              "outlinewidth": 0,
              "ticks": ""
             }
            },
            "marker": {
             "colorbar": {
              "outlinewidth": 0,
              "ticks": ""
             }
            },
            "type": "scatter3d"
           }
          ],
          "scattercarpet": [
           {
            "marker": {
             "colorbar": {
              "outlinewidth": 0,
              "ticks": ""
             }
            },
            "type": "scattercarpet"
           }
          ],
          "scattergeo": [
           {
            "marker": {
             "colorbar": {
              "outlinewidth": 0,
              "ticks": ""
             }
            },
            "type": "scattergeo"
           }
          ],
          "scattergl": [
           {
            "marker": {
             "colorbar": {
              "outlinewidth": 0,
              "ticks": ""
             }
            },
            "type": "scattergl"
           }
          ],
          "scattermapbox": [
           {
            "marker": {
             "colorbar": {
              "outlinewidth": 0,
              "ticks": ""
             }
            },
            "type": "scattermapbox"
           }
          ],
          "scatterpolar": [
           {
            "marker": {
             "colorbar": {
              "outlinewidth": 0,
              "ticks": ""
             }
            },
            "type": "scatterpolar"
           }
          ],
          "scatterpolargl": [
           {
            "marker": {
             "colorbar": {
              "outlinewidth": 0,
              "ticks": ""
             }
            },
            "type": "scatterpolargl"
           }
          ],
          "scatterternary": [
           {
            "marker": {
             "colorbar": {
              "outlinewidth": 0,
              "ticks": ""
             }
            },
            "type": "scatterternary"
           }
          ],
          "surface": [
           {
            "colorbar": {
             "outlinewidth": 0,
             "ticks": ""
            },
            "colorscale": [
             [
              0,
              "#0d0887"
             ],
             [
              0.1111111111111111,
              "#46039f"
             ],
             [
              0.2222222222222222,
              "#7201a8"
             ],
             [
              0.3333333333333333,
              "#9c179e"
             ],
             [
              0.4444444444444444,
              "#bd3786"
             ],
             [
              0.5555555555555556,
              "#d8576b"
             ],
             [
              0.6666666666666666,
              "#ed7953"
             ],
             [
              0.7777777777777778,
              "#fb9f3a"
             ],
             [
              0.8888888888888888,
              "#fdca26"
             ],
             [
              1,
              "#f0f921"
             ]
            ],
            "type": "surface"
           }
          ],
          "table": [
           {
            "cells": {
             "fill": {
              "color": "#EBF0F8"
             },
             "line": {
              "color": "white"
             }
            },
            "header": {
             "fill": {
              "color": "#C8D4E3"
             },
             "line": {
              "color": "white"
             }
            },
            "type": "table"
           }
          ]
         },
         "layout": {
          "annotationdefaults": {
           "arrowcolor": "#2a3f5f",
           "arrowhead": 0,
           "arrowwidth": 1
          },
          "autotypenumbers": "strict",
          "coloraxis": {
           "colorbar": {
            "outlinewidth": 0,
            "ticks": ""
           }
          },
          "colorscale": {
           "diverging": [
            [
             0,
             "#8e0152"
            ],
            [
             0.1,
             "#c51b7d"
            ],
            [
             0.2,
             "#de77ae"
            ],
            [
             0.3,
             "#f1b6da"
            ],
            [
             0.4,
             "#fde0ef"
            ],
            [
             0.5,
             "#f7f7f7"
            ],
            [
             0.6,
             "#e6f5d0"
            ],
            [
             0.7,
             "#b8e186"
            ],
            [
             0.8,
             "#7fbc41"
            ],
            [
             0.9,
             "#4d9221"
            ],
            [
             1,
             "#276419"
            ]
           ],
           "sequential": [
            [
             0,
             "#0d0887"
            ],
            [
             0.1111111111111111,
             "#46039f"
            ],
            [
             0.2222222222222222,
             "#7201a8"
            ],
            [
             0.3333333333333333,
             "#9c179e"
            ],
            [
             0.4444444444444444,
             "#bd3786"
            ],
            [
             0.5555555555555556,
             "#d8576b"
            ],
            [
             0.6666666666666666,
             "#ed7953"
            ],
            [
             0.7777777777777778,
             "#fb9f3a"
            ],
            [
             0.8888888888888888,
             "#fdca26"
            ],
            [
             1,
             "#f0f921"
            ]
           ],
           "sequentialminus": [
            [
             0,
             "#0d0887"
            ],
            [
             0.1111111111111111,
             "#46039f"
            ],
            [
             0.2222222222222222,
             "#7201a8"
            ],
            [
             0.3333333333333333,
             "#9c179e"
            ],
            [
             0.4444444444444444,
             "#bd3786"
            ],
            [
             0.5555555555555556,
             "#d8576b"
            ],
            [
             0.6666666666666666,
             "#ed7953"
            ],
            [
             0.7777777777777778,
             "#fb9f3a"
            ],
            [
             0.8888888888888888,
             "#fdca26"
            ],
            [
             1,
             "#f0f921"
            ]
           ]
          },
          "colorway": [
           "#636efa",
           "#EF553B",
           "#00cc96",
           "#ab63fa",
           "#FFA15A",
           "#19d3f3",
           "#FF6692",
           "#B6E880",
           "#FF97FF",
           "#FECB52"
          ],
          "font": {
           "color": "#2a3f5f"
          },
          "geo": {
           "bgcolor": "white",
           "lakecolor": "white",
           "landcolor": "#E5ECF6",
           "showlakes": true,
           "showland": true,
           "subunitcolor": "white"
          },
          "hoverlabel": {
           "align": "left"
          },
          "hovermode": "closest",
          "mapbox": {
           "style": "light"
          },
          "paper_bgcolor": "white",
          "plot_bgcolor": "#E5ECF6",
          "polar": {
           "angularaxis": {
            "gridcolor": "white",
            "linecolor": "white",
            "ticks": ""
           },
           "bgcolor": "#E5ECF6",
           "radialaxis": {
            "gridcolor": "white",
            "linecolor": "white",
            "ticks": ""
           }
          },
          "scene": {
           "xaxis": {
            "backgroundcolor": "#E5ECF6",
            "gridcolor": "white",
            "gridwidth": 2,
            "linecolor": "white",
            "showbackground": true,
            "ticks": "",
            "zerolinecolor": "white"
           },
           "yaxis": {
            "backgroundcolor": "#E5ECF6",
            "gridcolor": "white",
            "gridwidth": 2,
            "linecolor": "white",
            "showbackground": true,
            "ticks": "",
            "zerolinecolor": "white"
           },
           "zaxis": {
            "backgroundcolor": "#E5ECF6",
            "gridcolor": "white",
            "gridwidth": 2,
            "linecolor": "white",
            "showbackground": true,
            "ticks": "",
            "zerolinecolor": "white"
           }
          },
          "shapedefaults": {
           "line": {
            "color": "#2a3f5f"
           }
          },
          "ternary": {
           "aaxis": {
            "gridcolor": "white",
            "linecolor": "white",
            "ticks": ""
           },
           "baxis": {
            "gridcolor": "white",
            "linecolor": "white",
            "ticks": ""
           },
           "bgcolor": "#E5ECF6",
           "caxis": {
            "gridcolor": "white",
            "linecolor": "white",
            "ticks": ""
           }
          },
          "title": {
           "x": 0.05
          },
          "xaxis": {
           "automargin": true,
           "gridcolor": "white",
           "linecolor": "white",
           "ticks": "",
           "title": {
            "standoff": 15
           },
           "zerolinecolor": "white",
           "zerolinewidth": 2
          },
          "yaxis": {
           "automargin": true,
           "gridcolor": "white",
           "linecolor": "white",
           "ticks": "",
           "title": {
            "standoff": 15
           },
           "zerolinecolor": "white",
           "zerolinewidth": 2
          }
         }
        },
        "xaxis": {
         "anchor": "y",
         "domain": [
          0,
          1
         ],
         "title": {
          "text": "ano"
         }
        },
        "yaxis": {
         "anchor": "x",
         "domain": [
          0,
          1
         ],
         "title": {
          "text": "freq"
         }
        }
       }
      }
     },
     "metadata": {},
     "output_type": "display_data"
    }
   ],
   "source": [
    "fig = px.area(res_van, x=\"ano\", y=\"freq\",\n",
    "            color=\"tag\")\n",
    "            #hover_data=['petal_width'],)\n",
    " \n",
    "fig.show()"
   ]
  }
 ],
 "metadata": {
  "interpreter": {
   "hash": "f79894c007380eb89594f3a442e98aae1d4fd175cc4eb89c86ff421779f7bfb8"
  },
  "kernelspec": {
   "display_name": "Python 3.8.8 64-bit ('base': conda)",
   "language": "python",
   "name": "python3"
  },
  "language_info": {
   "codemirror_mode": {
    "name": "ipython",
    "version": 3
   },
   "file_extension": ".py",
   "mimetype": "text/x-python",
   "name": "python",
   "nbconvert_exporter": "python",
   "pygments_lexer": "ipython3",
   "version": "3.8.8"
  },
  "orig_nbformat": 4
 },
 "nbformat": 4,
 "nbformat_minor": 2
}
