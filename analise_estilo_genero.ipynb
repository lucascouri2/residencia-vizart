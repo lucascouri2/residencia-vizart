{
 "cells": [
  {
   "cell_type": "markdown",
   "metadata": {},
   "source": [
    "# Análise de Produção, Estilo e Gênero"
   ]
  },
  {
   "cell_type": "code",
   "execution_count": null,
   "metadata": {},
   "outputs": [],
   "source": [
    "import pandas as pd\n",
    "import plotly_express as px\n",
    "import plotly.graph_objects as go"
   ]
  },
  {
   "cell_type": "code",
   "execution_count": null,
   "metadata": {},
   "outputs": [],
   "source": [
    "dfList = []\n",
    "dfList.append(pd.read_json('dataset_artistas/andy-warhol.json', orient='records'))\n",
    "dfList.append(pd.read_json('dataset_artistas/frida-kahlo.json', orient='records'))\n",
    "dfList.append(pd.read_json('dataset_artistas/sandro-botticelli.json', orient='records'))\n",
    "dfList.append(pd.read_json('dataset_artistas/vincent-van-gogh.json', orient='records'))\n",
    "dfList.append(pd.read_json('dataset_artistas/pablo-picasso.json', orient='records'))\n",
    "dfList.append(pd.read_json('dataset_artistas/piet-mondrian.json', orient='records'))\n",
    "\n",
    "df = pd.concat(dfList, ignore_index=True)\n",
    "# df.head()\n",
    "\n",
    "\n",
    "df[df.duplicated(['artistName'], keep=False)]\n",
    "\n",
    "df = df[df['genre']!='sketch and study']\n",
    "df = df[df['tags'].notna()]\n",
    "df = df[df['completitionYear'].notna()]\n",
    "df = df[df['genre'].notna()]\n",
    "df = df[df['style'].notna()]\n"
   ]
  },
  {
   "cell_type": "code",
   "execution_count": null,
   "metadata": {},
   "outputs": [],
   "source": [
    "len(df[df['style'].isna()])"
   ]
  },
  {
   "cell_type": "code",
   "execution_count": null,
   "metadata": {},
   "outputs": [],
   "source": [
    "df[df['style']=='Renaissance']"
   ]
  },
  {
   "cell_type": "markdown",
   "metadata": {},
   "source": [
    "## Estilo"
   ]
  },
  {
   "cell_type": "code",
   "execution_count": null,
   "metadata": {},
   "outputs": [],
   "source": [
    "df[df['artistName']=='Picasso Pablo']['style'].str.split(', ').apply(lambda x: pd.Series(x, dtype=object).value_counts()).sum().sort_values(ascending=False)#[:20]\n",
    "#df['style'].value_counts()"
   ]
  },
  {
   "cell_type": "code",
   "execution_count": null,
   "metadata": {},
   "outputs": [],
   "source": [
    "df.groupby('artistName')['style'].value_counts()#.sum().sort_values(ascending=False)"
   ]
  },
  {
   "cell_type": "code",
   "execution_count": null,
   "metadata": {},
   "outputs": [],
   "source": [
    "df[df['style'].str.contains(',')]"
   ]
  },
  {
   "cell_type": "code",
   "execution_count": null,
   "metadata": {},
   "outputs": [],
   "source": [
    "df[df['artistName']=='Picasso Pablo']['style'].str.split(', ').apply(lambda x: pd.Series(x, dtype=object).value_counts()).sum().sort_values(ascending=False)#[:20]\n",
    "#df['style'].value_counts()"
   ]
  },
  {
   "cell_type": "markdown",
   "metadata": {},
   "source": [
    "## Gênero"
   ]
  },
  {
   "cell_type": "code",
   "execution_count": null,
   "metadata": {},
   "outputs": [],
   "source": [
    "df[df['artistName']=='van Gogh Vincent ']['genre'].value_counts()[:10].index.to_list()"
   ]
  },
  {
   "cell_type": "code",
   "execution_count": null,
   "metadata": {},
   "outputs": [],
   "source": [
    "df[['genre', 'tags']].head(20)"
   ]
  },
  {
   "cell_type": "code",
   "execution_count": null,
   "metadata": {},
   "outputs": [],
   "source": [
    "df.groupby('artistName')['genre'].count()#.sum().sort_values(ascending=False)"
   ]
  },
  {
   "cell_type": "code",
   "execution_count": null,
   "metadata": {},
   "outputs": [],
   "source": [
    "df[df['genre']=='sketch and study']['artistName'].value_counts()"
   ]
  },
  {
   "cell_type": "code",
   "execution_count": null,
   "metadata": {},
   "outputs": [],
   "source": [
    "df[df['genre']=='sketch and study']['style'].value_counts()"
   ]
  },
  {
   "cell_type": "code",
   "execution_count": null,
   "metadata": {},
   "outputs": [],
   "source": [
    "df['artistName'].value_counts()"
   ]
  },
  {
   "cell_type": "markdown",
   "metadata": {},
   "source": [
    "# Visualização 1 - estilo "
   ]
  },
  {
   "cell_type": "code",
   "execution_count": null,
   "metadata": {},
   "outputs": [],
   "source": [
    "dfVis = pd.DataFrame({'count' :  df[df['artistName']=='van Gogh Vincent '].groupby(['style','completitionYear'])['style'].size()}).reset_index()\n",
    "\n",
    "fig = px.bar(dfVis, x=\"completitionYear\", y=\"count\", color=\"style\", title=\"Van Gogh\")\n",
    "fig.show()"
   ]
  },
  {
   "cell_type": "code",
   "execution_count": null,
   "metadata": {},
   "outputs": [],
   "source": [
    "dfVis = pd.DataFrame({'count' :  df[df['artistName']=='Picasso Pablo'].groupby(['style','completitionYear'])['style'].size()}).reset_index()\n",
    "\n",
    "fig = px.bar(dfVis, x=\"completitionYear\", y=\"count\", color=\"style\", title=\"Picasso\")\n",
    "fig.show()"
   ]
  },
  {
   "cell_type": "code",
   "execution_count": null,
   "metadata": {},
   "outputs": [],
   "source": [
    "dfVis = pd.DataFrame({'count' :  df[df['artistName']=='Mondrian Piet'].groupby(['style','completitionYear'])['style'].size()}).reset_index()\n",
    "\n",
    "fig = px.bar(dfVis, x=\"completitionYear\", y=\"count\", color=\"style\", title=\"Piet Mondrian\")\n",
    "fig.show()"
   ]
  },
  {
   "cell_type": "code",
   "execution_count": null,
   "metadata": {},
   "outputs": [],
   "source": [
    "dfVis = pd.DataFrame({'count' :  df[df['artistName']=='Kahlo Frida '].groupby(['style','completitionYear'])['style'].size()}).reset_index()\n",
    "\n",
    "fig = px.bar(dfVis, x=\"completitionYear\", y=\"count\", color=\"style\", title=\"Kahlo Frida\")\n",
    "fig.show()"
   ]
  },
  {
   "cell_type": "code",
   "execution_count": null,
   "metadata": {},
   "outputs": [],
   "source": [
    "dfVis = pd.DataFrame({'count' :  df[df['artistName']=='Warhol Andy'].groupby(['style','completitionYear'])['style'].size()}).reset_index()\n",
    "\n",
    "fig = px.bar(dfVis, x=\"completitionYear\", y=\"count\", color=\"style\", title=\"Andy Warhol\")\n",
    "fig.show()"
   ]
  },
  {
   "cell_type": "code",
   "execution_count": null,
   "metadata": {},
   "outputs": [],
   "source": [
    "dfVis = pd.DataFrame({'count' :  df[df['artistName']=='Botticelli Sandro '].groupby(['style','completitionYear'])['style'].size()}).reset_index()\n",
    "\n",
    "fig = px.bar(dfVis, x=\"completitionYear\", y=\"count\", color=\"style\", title=\"Sandro Bottichelli\")\n",
    "fig.show()"
   ]
  },
  {
   "cell_type": "markdown",
   "metadata": {},
   "source": [
    "# Visualização 2 - gênero"
   ]
  },
  {
   "cell_type": "code",
   "execution_count": null,
   "metadata": {},
   "outputs": [],
   "source": [
    "#df[(df['genre']=='sketch and study') & (df['artistName']=='van Gogh Vincent ')]['completitionYear'].value_counts()"
   ]
  },
  {
   "cell_type": "code",
   "execution_count": null,
   "metadata": {},
   "outputs": [],
   "source": [
    "dfVis = pd.DataFrame({'count' :  df[df['artistName']=='van Gogh Vincent '].groupby(['genre','completitionYear'])['genre'].size().unstack(fill_value=0).stack()}).reset_index()\n",
    "top10 = df[df['artistName']=='van Gogh Vincent ']['genre'].value_counts()[:10].index.to_list()\n",
    "dfVis = dfVis[dfVis['genre'].isin(top10)]\n",
    "\n",
    "fig = px.bar(dfVis, x=\"completitionYear\", y=\"count\", color=\"genre\", title=\"Van Gogh\")\n",
    "fig.show()"
   ]
  },
  {
   "cell_type": "code",
   "execution_count": null,
   "metadata": {},
   "outputs": [],
   "source": [
    "paletaCores = ['#f44336', '#e91e63', '#9c27b0', '#673ab7', '#3f51b5', '#2196f3', '#ffeb3b','#009688', '#ffc107','#03a9f4','#8bc34a','#ff9800','#00bcd4','#cddc39','#ff5722', '#f44336', '#e91e63' ]"
   ]
  },
  {
   "cell_type": "code",
   "execution_count": null,
   "metadata": {},
   "outputs": [],
   "source": [
    "\n",
    "x=dfVis['completitionYear'].unique()\n",
    "x.sort()\n",
    "\n",
    "generos = dfVis['genre'].unique()\n",
    "\n",
    "colorvec = ['#ff7f00','#cab2d6','#a6cee3','#1f78b4','#b2df8a','#33a02c','#fb9a99','#e31a1c','#fdbf6f', '#ff7f00','#cab2d6','#a6cee3','#1f78b4','#b2df8a','#33a02c','#fb9a99','#e31a1c','#fdbf6f']\n",
    "paletaCores = ['#f44336', '#e91e63', '#9c27b0', '#673ab7', '#3f51b5', '#2196f3', '#ffeb3b','#009688', '#ffc107','#03a9f4','#8bc34a','#ff9800','#00bcd4','#cddc39','#ff5722', '#f44336', '#e91e63' ]\n",
    "\n",
    "fig = go.Figure()\n",
    "\n",
    "\n",
    "for i, genero in zip(range(0, len(generos)), generos):      \n",
    "    dfGenero = pd.DataFrame(dfVis[dfVis['genre']==genero])\n",
    "    dfGenero.sort_values(by='completitionYear', inplace=True)\n",
    "    y = dfGenero['count'].to_list()\n",
    "    fig.add_trace(go.Scatter(\n",
    "        x=x, y=y,\n",
    "        hoverinfo='x+y',\n",
    "        mode='lines',\n",
    "        line=dict(width=0.5, color=paletaCores[i]),\n",
    "        fillcolor = paletaCores[i],\n",
    "        stackgroup='one', # define stack group\n",
    "        groupnorm='percent'\n",
    "))\n",
    "\n",
    "\n",
    "fig.update_layout(yaxis_range=(0, 100))\n",
    "fig.show()"
   ]
  },
  {
   "cell_type": "code",
   "execution_count": null,
   "metadata": {},
   "outputs": [],
   "source": [
    "generos = dfVis['genre'].unique()"
   ]
  },
  {
   "cell_type": "code",
   "execution_count": null,
   "metadata": {},
   "outputs": [],
   "source": [
    "fig = px.area(dfVis, x=\"completitionYear\", y=\"count\",color=\"genre\")\n",
    "            #hover_data=['petal_width'],)\n",
    " \n",
    "fig.show()"
   ]
  },
  {
   "cell_type": "code",
   "execution_count": null,
   "metadata": {},
   "outputs": [],
   "source": [
    "dfVis = pd.DataFrame({'count' :  df[df['artistName']=='Picasso Pablo'].groupby(['genre','completitionYear'])['genre'].size()}).reset_index()\n",
    "top10 = df[df['artistName']=='Picasso Pablo']['genre'].value_counts()[:10].index.to_list()\n",
    "dfVis = dfVis[dfVis['genre'].isin(top10)]\n",
    "\n",
    "fig = px.bar(dfVis, x=\"completitionYear\", y=\"count\", color=\"genre\", title=\"Picasso\")\n",
    "fig.show()"
   ]
  },
  {
   "cell_type": "code",
   "execution_count": null,
   "metadata": {},
   "outputs": [],
   "source": [
    "\n",
    "x=dfVis['completitionYear'].unique()\n",
    "x.sort()\n",
    "\n",
    "generos = dfVis['genre'].unique()\n",
    "\n",
    "colorvec = ['#ff7f00','#cab2d6','#a6cee3','#1f78b4','#b2df8a','#33a02c','#fb9a99','#e31a1c','#fdbf6f', '#ff7f00','#cab2d6','#a6cee3','#1f78b4','#b2df8a','#33a02c','#fb9a99','#e31a1c','#fdbf6f']\n",
    "paletaCores = ['#f44336', '#e91e63', '#9c27b0', '#673ab7', '#3f51b5', '#2196f3', '#ffeb3b','#009688', '#ffc107','#03a9f4','#8bc34a','#ff9800','#00bcd4','#cddc39','#ff5722', '#f44336', '#e91e63' ]\n",
    "\n",
    "fig = go.Figure()\n",
    "\n",
    "\n",
    "for i, genero in zip(range(0, len(generos)), generos):      \n",
    "    dfGenero = pd.DataFrame(dfVis[dfVis['genre']==genero])\n",
    "    dfGenero.sort_values(by='completitionYear', inplace=True)\n",
    "    y = dfGenero['count'].to_list()\n",
    "    fig.add_trace(go.Scatter(\n",
    "        x=x, y=y,\n",
    "        hoverinfo='x+y',\n",
    "        mode='lines',\n",
    "        line=dict(width=0.5, color=paletaCores[i]),\n",
    "        fillcolor = paletaCores[i],\n",
    "        stackgroup='one', # define stack group\n",
    "        groupnorm='percent'\n",
    "))\n",
    "\n",
    "\n",
    "fig.update_layout(yaxis_range=(0, 100))\n",
    "fig.show()"
   ]
  },
  {
   "cell_type": "code",
   "execution_count": null,
   "metadata": {},
   "outputs": [],
   "source": [
    "dfVis = pd.DataFrame({'count' :  df[df['artistName']=='Mondrian Piet'].groupby(['genre','completitionYear'])['genre'].size()}).reset_index()\n",
    "\n",
    "\n",
    "fig = px.bar(dfVis, x=\"completitionYear\", y=\"count\", color=\"genre\", title=\"Mondrian\")\n",
    "fig.show()"
   ]
  },
  {
   "cell_type": "code",
   "execution_count": null,
   "metadata": {},
   "outputs": [],
   "source": [
    "dfVis = pd.DataFrame({'count' :  df[df['artistName']=='Kahlo Frida '].groupby(['genre','completitionYear'])['genre'].size()}).reset_index()\n",
    "\n",
    "\n",
    "fig = px.bar(dfVis, x=\"completitionYear\", y=\"count\", color=\"genre\", title=\"Frida Kahlo \")\n",
    "fig.show()"
   ]
  },
  {
   "cell_type": "code",
   "execution_count": null,
   "metadata": {},
   "outputs": [],
   "source": [
    "dfVis = pd.DataFrame({'count' :  df[df['artistName']=='Warhol Andy'].groupby(['genre','completitionYear'])['genre'].size()}).reset_index()\n",
    "\n",
    "\n",
    "fig = px.bar(dfVis, x=\"completitionYear\", y=\"count\", color=\"genre\", title=\"Andy Warhol\")\n",
    "fig.show()"
   ]
  },
  {
   "cell_type": "code",
   "execution_count": null,
   "metadata": {},
   "outputs": [],
   "source": [
    "dfVis = pd.DataFrame({'count' :  df[df['artistName']=='Botticelli Sandro '].groupby(['genre','completitionYear'])['genre'].size()}).reset_index()\n",
    "\n",
    "\n",
    "fig = px.bar(dfVis, x=\"completitionYear\", y=\"count\", color=\"genre\", title=\"Botticelli\")\n",
    "fig.show()"
   ]
  }
 ],
 "metadata": {
  "interpreter": {
   "hash": "578d23e9265697bad3ff07bcff4c72684a1087c3ecac6cf42decc0cb53b76ed7"
  },
  "kernelspec": {
   "display_name": "Python 3.9.7 64-bit ('data_science': conda)",
   "language": "python",
   "name": "python3"
  },
  "language_info": {
   "codemirror_mode": {
    "name": "ipython",
    "version": 3
   },
   "file_extension": ".py",
   "mimetype": "text/x-python",
   "name": "python",
   "nbconvert_exporter": "python",
   "pygments_lexer": "ipython3",
   "version": "3.8.8"
  },
  "orig_nbformat": 4
 },
 "nbformat": 4,
 "nbformat_minor": 2
}
