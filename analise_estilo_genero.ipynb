{
 "cells": [
  {
   "cell_type": "markdown",
   "metadata": {},
   "source": [
    "# Análise de Produção, Estilo e Gênero"
   ]
  },
  {
   "cell_type": "code",
   "execution_count": null,
   "metadata": {},
   "outputs": [],
   "source": [
    "import pandas as pd\n",
    "import plotly_express as px\n",
    "import plotly.graph_objects as go"
   ]
  },
  {
   "cell_type": "code",
   "execution_count": null,
   "metadata": {},
   "outputs": [],
   "source": [
    "dfList = []\n",
    "dfList.append(pd.read_json('dataset_artistas/andy-warhol.json', orient='records'))\n",
    "dfList.append(pd.read_json('dataset_artistas/frida-kahlo.json', orient='records'))\n",
    "dfList.append(pd.read_json('dataset_artistas/sandro-botticelli.json', orient='records'))\n",
    "dfList.append(pd.read_json('dataset_artistas/vincent-van-gogh.json', orient='records'))\n",
    "dfList.append(pd.read_json('dataset_artistas/pablo-picasso.json', orient='records'))\n",
    "dfList.append(pd.read_json('dataset_artistas/piet-mondrian.json', orient='records'))\n",
    "\n",
    "df = pd.concat(dfList, ignore_index=True)\n",
    "# df.head()\n",
    "\n",
    "\n",
    "df[df.duplicated(['artistName'], keep=False)]\n",
    "\n",
    "#df = df[df['genre']!='sketch and study']\n",
    "df = df[df['tags'].notna()]\n",
    "df = df[df['completitionYear'].notna()]\n",
    "df = df[df['genre'].notna()]\n",
    "df = df[df['style'].notna()]\n"
   ]
  },
  {
   "cell_type": "code",
   "execution_count": null,
   "metadata": {},
   "outputs": [],
   "source": []
  },
  {
   "cell_type": "code",
   "execution_count": null,
   "metadata": {},
   "outputs": [],
   "source": [
    "len(df[df['style'].isna()])"
   ]
  },
  {
   "cell_type": "code",
   "execution_count": null,
   "metadata": {},
   "outputs": [],
   "source": [
    "df[df['style']=='Renaissance']"
   ]
  },
  {
   "cell_type": "markdown",
   "metadata": {},
   "source": [
    "## Estilo"
   ]
  },
  {
   "cell_type": "code",
   "execution_count": null,
   "metadata": {},
   "outputs": [],
   "source": [
    "df[df['artistName']=='Picasso Pablo']['style'].str.split(', ').apply(lambda x: pd.Series(x, dtype=object).value_counts()).sum().sort_values(ascending=False)#[:20]\n",
    "#df['style'].value_counts()"
   ]
  },
  {
   "cell_type": "code",
   "execution_count": null,
   "metadata": {},
   "outputs": [],
   "source": [
    "df.groupby('artistName')['style'].value_counts()#.sum().sort_values(ascending=False)"
   ]
  },
  {
   "cell_type": "code",
   "execution_count": null,
   "metadata": {},
   "outputs": [],
   "source": [
    "df[df['style'].str.contains(',')]"
   ]
  },
  {
   "cell_type": "code",
   "execution_count": null,
   "metadata": {},
   "outputs": [],
   "source": [
    "df[df['artistName']=='Picasso Pablo']['style'].str.split(', ').apply(lambda x: pd.Series(x, dtype=object).value_counts()).sum().sort_values(ascending=False)#[:20]\n",
    "#df['style'].value_counts()"
   ]
  },
  {
   "cell_type": "markdown",
   "metadata": {},
   "source": [
    "## Gênero"
   ]
  },
  {
   "cell_type": "code",
   "execution_count": null,
   "metadata": {},
   "outputs": [],
   "source": [
    "df['genre'].value_counts()"
   ]
  },
  {
   "cell_type": "code",
   "execution_count": null,
   "metadata": {},
   "outputs": [],
   "source": [
    "df[['genre', 'tags']].head(20)"
   ]
  },
  {
   "cell_type": "code",
   "execution_count": null,
   "metadata": {},
   "outputs": [],
   "source": [
    "df.groupby('artistName')['genre'].count()#.sum().sort_values(ascending=False)"
   ]
  },
  {
   "cell_type": "code",
   "execution_count": null,
   "metadata": {},
   "outputs": [],
   "source": [
    "df[df['genre']=='sketch and study']['artistName'].value_counts()"
   ]
  },
  {
   "cell_type": "code",
   "execution_count": null,
   "metadata": {},
   "outputs": [],
   "source": [
    "df[df['genre']=='sketch and study']['style'].value_counts()"
   ]
  },
  {
   "cell_type": "code",
   "execution_count": null,
   "metadata": {},
   "outputs": [],
   "source": [
    "df['artistName'].value_counts()"
   ]
  },
  {
   "cell_type": "markdown",
   "metadata": {},
   "source": [
    "# Visualização - Teste"
   ]
  },
  {
   "cell_type": "code",
   "execution_count": null,
   "metadata": {},
   "outputs": [],
   "source": [
    "dfVis = pd.DataFrame({'count' :  df[df['artistName']=='van Gogh Vincent '].groupby(['style','completitionYear'])['style'].size()}).reset_index()\n",
    "\n",
    "fig = px.bar(dfVis, x=\"completitionYear\", y=\"count\", color=\"style\", title=\"Van Gogh\")\n",
    "fig.show()"
   ]
  },
  {
   "cell_type": "code",
   "execution_count": null,
   "metadata": {},
   "outputs": [],
   "source": [
    "dfVis = pd.DataFrame({'count' :  df[df['artistName']=='Picasso Pablo'].groupby(['style','completitionYear'])['style'].size()}).reset_index()\n",
    "\n",
    "fig = px.bar(dfVis, x=\"completitionYear\", y=\"count\", color=\"style\", title=\"Picasso\")\n",
    "fig.show()"
   ]
  },
  {
   "cell_type": "code",
   "execution_count": null,
   "metadata": {},
   "outputs": [],
   "source": [
    "dfVis = pd.DataFrame({'count' :  df[df['artistName']=='Mondrian Piet'].groupby(['style','completitionYear'])['style'].size()}).reset_index()\n",
    "\n",
    "fig = px.bar(dfVis, x=\"completitionYear\", y=\"count\", color=\"style\", title=\"Piet Mondrian\")\n",
    "fig.show()"
   ]
  },
  {
   "cell_type": "code",
   "execution_count": null,
   "metadata": {},
   "outputs": [],
   "source": [
    "dfVis = pd.DataFrame({'count' :  df[df['artistName']=='Kahlo Frida '].groupby(['style','completitionYear'])['style'].size()}).reset_index()\n",
    "\n",
    "fig = px.bar(dfVis, x=\"completitionYear\", y=\"count\", color=\"style\", title=\"Piet Mondrian\")\n",
    "fig.show()"
   ]
  },
  {
   "cell_type": "code",
   "execution_count": null,
   "metadata": {},
   "outputs": [],
   "source": [
    "dfVis = pd.DataFrame({'count' :  df[df['artistName']=='Warhol Andy'].groupby(['style','completitionYear'])['style'].size()}).reset_index()\n",
    "\n",
    "fig = px.bar(dfVis, x=\"completitionYear\", y=\"count\", color=\"style\", title=\"Andy Warhol\")\n",
    "fig.show()"
   ]
  },
  {
   "cell_type": "code",
   "execution_count": null,
   "metadata": {},
   "outputs": [],
   "source": [
    "dfVis = pd.DataFrame({'count' :  df[df['artistName']=='Botticelli Sandro '].groupby(['style','completitionYear'])['style'].size()}).reset_index()\n",
    "\n",
    "fig = px.bar(dfVis, x=\"completitionYear\", y=\"count\", color=\"style\", title=\"Sandro Bottichelli\")\n",
    "fig.show()"
   ]
  },
  {
   "cell_type": "markdown",
   "metadata": {},
   "source": [
    "## Teste gênero"
   ]
  },
  {
   "cell_type": "code",
   "execution_count": null,
   "metadata": {},
   "outputs": [],
   "source": [
    "df[(df['genre']=='sketch and study') & (df['artistName']=='van Gogh Vincent ')]['completitionYear'].value_counts()"
   ]
  },
  {
   "cell_type": "code",
   "execution_count": null,
   "metadata": {},
   "outputs": [],
   "source": [
    "dfVis = pd.DataFrame({'count' :  df[df['artistName']=='van Gogh Vincent '].groupby(['genre','completitionYear'])['genre'].size()}).reset_index()\n",
    "\n",
    "\n",
    "fig = px.bar(dfVis, x=\"completitionYear\", y=\"count\", color=\"genre\", title=\"Van Gogh\")\n",
    "fig.show()"
   ]
  },
  {
   "cell_type": "code",
   "execution_count": null,
   "metadata": {},
   "outputs": [],
   "source": [
    "fig = px.area(dfVis, x=\"completitionYear\", y=\"count\",color=\"genre\")\n",
    "            #hover_data=['petal_width'],)\n",
    " \n",
    "fig.show()"
   ]
  },
  {
   "cell_type": "code",
   "execution_count": null,
   "metadata": {},
   "outputs": [],
   "source": [
    "dfVis = pd.DataFrame({'count' :  df[df['artistName']=='Picasso Pablo'].groupby(['genre','completitionYear'])['genre'].size()}).reset_index()\n",
    "\n",
    "\n",
    "fig = px.bar(dfVis, x=\"completitionYear\", y=\"count\", color=\"genre\", title=\"Picasso\")\n",
    "fig.show()"
   ]
  },
  {
   "cell_type": "code",
   "execution_count": null,
   "metadata": {},
   "outputs": [],
   "source": [
    "dfVis = pd.DataFrame({'count' :  df[df['artistName']=='Mondrian Piet'].groupby(['genre','completitionYear'])['genre'].size()}).reset_index()\n",
    "\n",
    "\n",
    "fig = px.bar(dfVis, x=\"completitionYear\", y=\"count\", color=\"genre\", title=\"Mondrian\")\n",
    "fig.show()"
   ]
  },
  {
   "cell_type": "code",
   "execution_count": null,
   "metadata": {},
   "outputs": [],
   "source": [
    "dfVis = pd.DataFrame({'count' :  df[df['artistName']=='Kahlo Frida '].groupby(['genre','completitionYear'])['genre'].size()}).reset_index()\n",
    "\n",
    "\n",
    "fig = px.bar(dfVis, x=\"completitionYear\", y=\"count\", color=\"genre\", title=\"Frida Kahlo \")\n",
    "fig.show()"
   ]
  },
  {
   "cell_type": "code",
   "execution_count": null,
   "metadata": {},
   "outputs": [],
   "source": [
    "dfVis = pd.DataFrame({'count' :  df[df['artistName']=='Warhol Andy'].groupby(['genre','completitionYear'])['genre'].size()}).reset_index()\n",
    "\n",
    "\n",
    "fig = px.bar(dfVis, x=\"completitionYear\", y=\"count\", color=\"genre\", title=\"Andy Warhol\")\n",
    "fig.show()"
   ]
  },
  {
   "cell_type": "code",
   "execution_count": null,
   "metadata": {},
   "outputs": [],
   "source": [
    "dfVis = pd.DataFrame({'count' :  df[df['artistName']=='Botticelli Sandro '].groupby(['genre','completitionYear'])['genre'].size()}).reset_index()\n",
    "\n",
    "\n",
    "fig = px.bar(dfVis, x=\"completitionYear\", y=\"count\", color=\"genre\", title=\"Botticelli\")\n",
    "fig.show()"
   ]
  }
 ],
 "metadata": {
  "interpreter": {
   "hash": "578d23e9265697bad3ff07bcff4c72684a1087c3ecac6cf42decc0cb53b76ed7"
  },
  "kernelspec": {
   "display_name": "Python 3.9.7 64-bit ('data_science': conda)",
   "language": "python",
   "name": "python3"
  },
  "language_info": {
   "codemirror_mode": {
    "name": "ipython",
    "version": 3
   },
   "file_extension": ".py",
   "mimetype": "text/x-python",
   "name": "python",
   "nbconvert_exporter": "python",
   "pygments_lexer": "ipython3",
   "version": "3.9.7"
  },
  "orig_nbformat": 4
 },
 "nbformat": 4,
 "nbformat_minor": 2
}
